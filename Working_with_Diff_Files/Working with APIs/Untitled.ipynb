{
 "cells": [
  {
   "cell_type": "code",
   "execution_count": 7,
   "id": "7b14a471-92e0-42a7-a945-fa75721914e4",
   "metadata": {},
   "outputs": [],
   "source": [
    "# Rapid Api\n",
    "# Can use other api platforms"
   ]
  },
  {
   "cell_type": "code",
   "execution_count": 12,
   "id": "577516f3-d45f-4ac4-b33e-76bd9bc46c31",
   "metadata": {},
   "outputs": [
    {
     "data": {
      "text/plain": [
       "'\\nimport http.client\\n\\nconn = http.client.HTTPSConnection(\"local-business-data.p.rapidapi.com\")\\n\\n\\nheaders = {\\n    \\'x-rapidapi-key\\': \"a3f6c29671msh5f9cf982fa26d34p1ef058jsn1bfc7589a715\",\\n    \\'x-rapidapi-host\\': \"local-business-data.p.rapidapi.com\"\\n}\\n\\nconn.request(\"GET\", \"/business-photos?business_id=0x89c259b5a9bd152b%3A0x31453e62a3be9f76&limit=20&region=us\", headers=headers)\\n\\nres = conn.getresponse()\\ndata = res.read()\\n\\nprint(data.decode(\"utf-8\"))\\n\\n'"
      ]
     },
     "execution_count": 12,
     "metadata": {},
     "output_type": "execute_result"
    }
   ],
   "source": [
    "# Provided by Rapid api \n",
    "'''\n",
    "import http.client\n",
    "\n",
    "conn = http.client.HTTPSConnection(\"local-business-data.p.rapidapi.com\")\n",
    "\n",
    "\n",
    "headers = {\n",
    "    'x-rapidapi-key': \"a3f6c29671msh5f9cf982fa26d34p1ef058jsn1bfc7589a715\",\n",
    "    'x-rapidapi-host': \"local-business-data.p.rapidapi.com\"\n",
    "}\n",
    "\n",
    "conn.request(\"GET\", \"/business-photos?business_id=0x89c259b5a9bd152b%3A0x31453e62a3be9f76&limit=20&region=us\", headers=headers)\n",
    "\n",
    "res = conn.getresponse()\n",
    "data = res.read()\n",
    "\n",
    "print(data.decode(\"utf-8\"))\n",
    "\n",
    "'''"
   ]
  },
  {
   "cell_type": "code",
   "execution_count": 13,
   "id": "8c3e3cd1-abb7-44cc-92b8-2a6024d1c1a9",
   "metadata": {},
   "outputs": [],
   "source": [
    "import json\n",
    "import csv\n",
    "import http.client\n"
   ]
  },
  {
   "cell_type": "code",
   "execution_count": 14,
   "id": "a373a14a-0d0f-46bb-864d-06740498f9a5",
   "metadata": {},
   "outputs": [],
   "source": [
    "\n",
    "# Initialize connection (assuming conn is already set up)\n",
    "conn = http.client.HTTPSConnection(\"local-business-data.p.rapidapi.com\")\n",
    "\n",
    "headers = {\n",
    "    'x-rapidapi-key': \"a3f6c29671msh5f9cf982fa26d34p1ef058jsn1bfc7589a715\",\n",
    "    'x-rapidapi-host': \"local-business-data.p.rapidapi.com\"\n",
    "}\n",
    "\n",
    "conn.request(\"GET\", \"/business-photos?business_id=0x89c259b5a9bd152b%3A0x31453e62a3be9f76&limit=20&region=us\", headers=headers)\n"
   ]
  },
  {
   "cell_type": "code",
   "execution_count": 15,
   "id": "94c00ee2-5512-47fc-9074-68fc1ef733aa",
   "metadata": {},
   "outputs": [],
   "source": [
    "\n",
    "res = conn.getresponse()\n",
    "data = res.read()\n",
    "\n",
    "# Convert JSON response to dictionary\n",
    "data_dict = json.loads(data.decode(\"utf-8\"))\n"
   ]
  },
  {
   "cell_type": "code",
   "execution_count": 16,
   "id": "aa149374-6f37-4026-8f10-61522fa983c3",
   "metadata": {},
   "outputs": [
    {
     "name": "stdout",
     "output_type": "stream",
     "text": [
      "Data saved to business_photos.csv\n"
     ]
    }
   ],
   "source": [
    "\n",
    "# Extract relevant information\n",
    "photos = data_dict.get('photos', [])\n",
    "\n",
    "# Define the CSV file path\n",
    "csv_file_path = 'business_photos.csv'\n",
    "\n",
    "# Write data to CSV\n",
    "with open(csv_file_path, mode='w', newline='', encoding='utf-8') as file:\n",
    "    writer = csv.writer(file)\n",
    "    # Write header\n",
    "    writer.writerow(['Photo URL', 'Photo Description'])\n",
    "    \n",
    "    # Write photo data\n",
    "    for photo in photos:\n",
    "        writer.writerow([photo.get('url', ''), photo.get('description', '')])\n",
    "\n",
    "print(f\"Data saved to {csv_file_path}\")\n"
   ]
  },
  {
   "cell_type": "code",
   "execution_count": null,
   "id": "eb32a470-858e-4979-aded-184d7d963544",
   "metadata": {},
   "outputs": [],
   "source": []
  },
  {
   "cell_type": "code",
   "execution_count": null,
   "id": "ba7f3ab0-aa5e-4296-aa36-01cfe11961af",
   "metadata": {},
   "outputs": [],
   "source": []
  },
  {
   "cell_type": "code",
   "execution_count": null,
   "id": "301629e4-016c-4592-a6b0-5c1643b47abb",
   "metadata": {},
   "outputs": [],
   "source": []
  },
  {
   "cell_type": "code",
   "execution_count": null,
   "id": "17e4c4db-a8b9-4640-9376-d6845cf27ecf",
   "metadata": {},
   "outputs": [],
   "source": []
  },
  {
   "cell_type": "code",
   "execution_count": null,
   "id": "b1339655-2de1-49ef-b271-0fe2a847783f",
   "metadata": {},
   "outputs": [],
   "source": []
  },
  {
   "cell_type": "code",
   "execution_count": null,
   "id": "d1549015-5052-46a3-adb5-a8641d88fcd8",
   "metadata": {},
   "outputs": [],
   "source": []
  },
  {
   "cell_type": "code",
   "execution_count": null,
   "id": "d9070101-0892-46b2-bae4-349cd8a3fc74",
   "metadata": {},
   "outputs": [],
   "source": []
  },
  {
   "cell_type": "code",
   "execution_count": null,
   "id": "bf749e58-031f-47b2-8fa7-1be1fc3b8c29",
   "metadata": {},
   "outputs": [],
   "source": []
  },
  {
   "cell_type": "code",
   "execution_count": null,
   "id": "05acb2c5-6485-488c-8db9-d5131d494577",
   "metadata": {},
   "outputs": [],
   "source": []
  },
  {
   "cell_type": "code",
   "execution_count": null,
   "id": "8392ff29-1952-42a5-afa3-e55b5ec8b11a",
   "metadata": {},
   "outputs": [],
   "source": []
  },
  {
   "cell_type": "code",
   "execution_count": null,
   "id": "6bc535fc-f5e4-4a93-88f3-98507d2bf322",
   "metadata": {},
   "outputs": [],
   "source": []
  },
  {
   "cell_type": "code",
   "execution_count": null,
   "id": "d9a1e4b8-f53a-47ed-bc26-cdd529cf35cd",
   "metadata": {},
   "outputs": [],
   "source": []
  },
  {
   "cell_type": "code",
   "execution_count": null,
   "id": "c01bcd1f-03aa-469b-b31c-64cd74aec7b8",
   "metadata": {},
   "outputs": [],
   "source": []
  },
  {
   "cell_type": "code",
   "execution_count": null,
   "id": "19210b80-7084-4a38-a2ab-7ad53aed1411",
   "metadata": {},
   "outputs": [],
   "source": []
  },
  {
   "cell_type": "code",
   "execution_count": null,
   "id": "991e6a06-ffbf-4435-88e3-ce93f0ea92b1",
   "metadata": {},
   "outputs": [],
   "source": []
  },
  {
   "cell_type": "code",
   "execution_count": null,
   "id": "3869f720-967a-40da-8b7b-9e8e2fedff1d",
   "metadata": {},
   "outputs": [],
   "source": []
  },
  {
   "cell_type": "code",
   "execution_count": null,
   "id": "36d92b1d-6866-4e7c-b3ac-d13962815eb1",
   "metadata": {},
   "outputs": [],
   "source": []
  },
  {
   "cell_type": "code",
   "execution_count": null,
   "id": "bff8eb2a-bac2-47b7-8deb-dee1e8579a63",
   "metadata": {},
   "outputs": [],
   "source": []
  },
  {
   "cell_type": "code",
   "execution_count": null,
   "id": "71f6df92-2f50-4ee9-85e6-083856f8c7e7",
   "metadata": {},
   "outputs": [],
   "source": []
  },
  {
   "cell_type": "code",
   "execution_count": null,
   "id": "3bb749d6-5639-434c-8326-e1a9633992c8",
   "metadata": {},
   "outputs": [],
   "source": []
  },
  {
   "cell_type": "code",
   "execution_count": null,
   "id": "dac5e99a-8bd6-4309-8d33-a65188a5b6f5",
   "metadata": {},
   "outputs": [],
   "source": []
  }
 ],
 "metadata": {
  "kernelspec": {
   "display_name": "Python 3 (ipykernel)",
   "language": "python",
   "name": "python3"
  },
  "language_info": {
   "codemirror_mode": {
    "name": "ipython",
    "version": 3
   },
   "file_extension": ".py",
   "mimetype": "text/x-python",
   "name": "python",
   "nbconvert_exporter": "python",
   "pygments_lexer": "ipython3",
   "version": "3.12.4"
  }
 },
 "nbformat": 4,
 "nbformat_minor": 5
}
