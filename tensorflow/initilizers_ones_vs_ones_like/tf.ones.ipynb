{
 "cells": [
  {
   "cell_type": "code",
   "execution_count": 11,
   "id": "dd0dfb41-1152-40b4-9d29-de6a0456055c",
   "metadata": {},
   "outputs": [],
   "source": [
    "import tensorflow as tf"
   ]
  },
  {
   "cell_type": "code",
   "execution_count": 12,
   "id": "e66494c4-6815-4d0e-83cf-b406021db87e",
   "metadata": {},
   "outputs": [],
   "source": [
    "# syntax: tf.ones(shape, dtype=tf.dtypes.float32, name=None) -> Return Ones Tensor"
   ]
  },
  {
   "cell_type": "markdown",
   "id": "6a2c34bf-500d-4a88-9539-9df9e62ed461",
   "metadata": {},
   "source": [
    "# Creates a tensor with all elements set to (1)"
   ]
  },
  {
   "cell_type": "code",
   "execution_count": 13,
   "id": "c385e934-d90a-40d0-bd30-19ad84011d3b",
   "metadata": {},
   "outputs": [
    {
     "data": {
      "text/plain": [
       "<tf.Tensor: shape=(1,), dtype=float64, numpy=array([1.])>"
      ]
     },
     "execution_count": 13,
     "metadata": {},
     "output_type": "execute_result"
    }
   ],
   "source": [
    "tf.ones((1), tf.float64)   # by-deflult ---> dtype = float32"
   ]
  },
  {
   "cell_type": "code",
   "execution_count": 14,
   "id": "fa5c3b6e-cd33-4748-b8a9-0aa253e6b43d",
   "metadata": {},
   "outputs": [
    {
     "name": "stdout",
     "output_type": "stream",
     "text": [
      "tf.Tensor(\n",
      "[[1 1]\n",
      " [1 1]], shape=(2, 2), dtype=int32)\n"
     ]
    }
   ],
   "source": [
    "ones_2d_tensor =  tf.ones((2,2), tf.int32, name = \"2-D tensor Demo\")\n",
    "print(ones_2d_tensor)"
   ]
  },
  {
   "cell_type": "code",
   "execution_count": 15,
   "id": "9bb6ac1f-424c-4b22-9898-466f953c4d0a",
   "metadata": {},
   "outputs": [
    {
     "name": "stdout",
     "output_type": "stream",
     "text": [
      "tf.Tensor(\n",
      "[[[1 1 1 1]\n",
      "  [1 1 1 1]]\n",
      "\n",
      " [[1 1 1 1]\n",
      "  [1 1 1 1]]], shape=(2, 2, 4), dtype=int64)\n"
     ]
    }
   ],
   "source": [
    "ones_3d_tensor = tf.ones((2,2,4), tf.int64)\n",
    "print(ones_3d_tensor)"
   ]
  },
  {
   "cell_type": "code",
   "execution_count": 16,
   "id": "7af87738-07b7-48eb-8141-eed406da45c1",
   "metadata": {},
   "outputs": [
    {
     "name": "stdout",
     "output_type": "stream",
     "text": [
      "4D Tensor with ones (float32):\n",
      "tf.Tensor(\n",
      "[[[[1. 1.]\n",
      "   [1. 1.]]\n",
      "\n",
      "  [[1. 1.]\n",
      "   [1. 1.]]]\n",
      "\n",
      "\n",
      " [[[1. 1.]\n",
      "   [1. 1.]]\n",
      "\n",
      "  [[1. 1.]\n",
      "   [1. 1.]]]\n",
      "\n",
      "\n",
      " [[[1. 1.]\n",
      "   [1. 1.]]\n",
      "\n",
      "  [[1. 1.]\n",
      "   [1. 1.]]]], shape=(3, 2, 2, 2), dtype=float32)\n"
     ]
    }
   ],
   "source": [
    "ones_4d_tensor = tf.ones((3, 2, 2, 2))\n",
    "print(\"4D Tensor with ones (float32):\")\n",
    "print(ones_4d_tensor)\n"
   ]
  },
  {
   "cell_type": "code",
   "execution_count": null,
   "id": "acac161b-9a19-4f21-a121-9b678f9a220d",
   "metadata": {},
   "outputs": [],
   "source": []
  }
 ],
 "metadata": {
  "kernelspec": {
   "display_name": "Python 3 (ipykernel)",
   "language": "python",
   "name": "python3"
  },
  "language_info": {
   "codemirror_mode": {
    "name": "ipython",
    "version": 3
   },
   "file_extension": ".py",
   "mimetype": "text/x-python",
   "name": "python",
   "nbconvert_exporter": "python",
   "pygments_lexer": "ipython3",
   "version": "3.12.4"
  }
 },
 "nbformat": 4,
 "nbformat_minor": 5
}
