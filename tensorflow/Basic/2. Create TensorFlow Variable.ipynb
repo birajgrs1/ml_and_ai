{
 "cells": [
  {
   "cell_type": "code",
   "execution_count": 4,
   "id": "b7f7dfc5-6899-4e65-a7d0-8e91c0c8954c",
   "metadata": {},
   "outputs": [],
   "source": [
    "#  Importing library \n",
    "\n",
    "import tensorflow as tf \n",
    "import numpy as np \n"
   ]
  },
  {
   "cell_type": "markdown",
   "id": "3e988569-e01a-4422-9dfd-7a82d9945651",
   "metadata": {},
   "source": [
    "# Create tensor"
   ]
  },
  {
   "cell_type": "code",
   "execution_count": 7,
   "id": "5ed59ee5-1aeb-48de-b84f-2601fc394af4",
   "metadata": {},
   "outputs": [
    {
     "data": {
      "text/plain": [
       "<tf.Variable 'Variable:0' shape=() dtype=int32, numpy=10>"
      ]
     },
     "execution_count": 7,
     "metadata": {},
     "output_type": "execute_result"
    }
   ],
   "source": [
    "a = tf.Variable(10)\n",
    "a"
   ]
  },
  {
   "cell_type": "markdown",
   "id": "61af7f62-b8a0-4b4e-983a-20048ad1be65",
   "metadata": {},
   "source": [
    "# Get Variable Name, Shape, Data Type & convert into NumpyArray\n"
   ]
  },
  {
   "cell_type": "code",
   "execution_count": 8,
   "id": "e30b8bd0-efe9-4b11-8af4-a06a11650c75",
   "metadata": {},
   "outputs": [
    {
     "data": {
      "text/plain": [
       "'Variable:0'"
      ]
     },
     "execution_count": 8,
     "metadata": {},
     "output_type": "execute_result"
    }
   ],
   "source": [
    "a.name"
   ]
  },
  {
   "cell_type": "code",
   "execution_count": 13,
   "id": "9c72cdc2-6950-4fc3-8eb2-0bc17ed6f4f4",
   "metadata": {},
   "outputs": [
    {
     "data": {
      "text/plain": [
       "<tf.Variable 'my_variable:0' shape=(4,) dtype=int32, numpy=array([1, 2, 3, 4])>"
      ]
     },
     "execution_count": 13,
     "metadata": {},
     "output_type": "execute_result"
    }
   ],
   "source": [
    "b= tf.Variable([1,2,3,4], name='my_variable')\n",
    "b"
   ]
  },
  {
   "cell_type": "code",
   "execution_count": 14,
   "id": "e0c2198b-37e0-4699-ae97-d399c825c73c",
   "metadata": {},
   "outputs": [
    {
     "data": {
      "text/plain": [
       "TensorShape([4])"
      ]
     },
     "execution_count": 14,
     "metadata": {},
     "output_type": "execute_result"
    }
   ],
   "source": [
    "b.shape"
   ]
  },
  {
   "cell_type": "code",
   "execution_count": 15,
   "id": "7875118a-0ff4-4cee-bc3f-ed516f0228eb",
   "metadata": {},
   "outputs": [
    {
     "data": {
      "text/plain": [
       "tf.int32"
      ]
     },
     "execution_count": 15,
     "metadata": {},
     "output_type": "execute_result"
    }
   ],
   "source": [
    "b.dtype"
   ]
  },
  {
   "cell_type": "code",
   "execution_count": 16,
   "id": "69a43cfa-5051-45ba-964d-041a727c9b93",
   "metadata": {},
   "outputs": [
    {
     "data": {
      "text/plain": [
       "array([1, 2, 3, 4])"
      ]
     },
     "execution_count": 16,
     "metadata": {},
     "output_type": "execute_result"
    }
   ],
   "source": [
    "# Converting to NumpyArray \n",
    "\n",
    "b.numpy()"
   ]
  },
  {
   "cell_type": "code",
   "execution_count": 17,
   "id": "de820588-0224-45b2-bfa5-ce2fc2615e1a",
   "metadata": {},
   "outputs": [
    {
     "data": {
      "text/plain": [
       "tensorflow.python.ops.resource_variable_ops.ResourceVariable"
      ]
     },
     "execution_count": 17,
     "metadata": {},
     "output_type": "execute_result"
    }
   ],
   "source": [
    "type(b)"
   ]
  },
  {
   "cell_type": "markdown",
   "id": "f291c14d-9ad8-4bd2-a148-6421b70ade00",
   "metadata": {},
   "source": [
    "\n",
    "# Create TF using Integer, Float, String, Bool, Complex Number"
   ]
  },
  {
   "cell_type": "code",
   "execution_count": 18,
   "id": "c7da74f8-6f8c-4332-bd0e-4914f19db073",
   "metadata": {},
   "outputs": [
    {
     "data": {
      "text/plain": [
       "<tf.Variable 'Variable:0' shape=(3,) dtype=int32, numpy=array([1, 2, 3])>"
      ]
     },
     "execution_count": 18,
     "metadata": {},
     "output_type": "execute_result"
    }
   ],
   "source": [
    "intVar = tf.Variable([1,2,3])\n",
    "intVar"
   ]
  },
  {
   "cell_type": "code",
   "execution_count": 20,
   "id": "2399527d-4f72-489e-946c-e3e8c1b58a3e",
   "metadata": {},
   "outputs": [
    {
     "data": {
      "text/plain": [
       "<tf.Variable 'Variable:0' shape=(5,) dtype=float32, numpy=array([1., 2., 3., 4., 5.], dtype=float32)>"
      ]
     },
     "execution_count": 20,
     "metadata": {},
     "output_type": "execute_result"
    }
   ],
   "source": [
    "floatVar = tf.Variable([1.,2.,3.,4,5])\n",
    "floatVar"
   ]
  },
  {
   "cell_type": "code",
   "execution_count": 21,
   "id": "2b89faa5-3cbe-49e6-ae01-89212ebe7a68",
   "metadata": {},
   "outputs": [
    {
     "data": {
      "text/plain": [
       "<tf.Variable 'Variable:0' shape=() dtype=string, numpy=b'Hello, Everyone!!!'>"
      ]
     },
     "execution_count": 21,
     "metadata": {},
     "output_type": "execute_result"
    }
   ],
   "source": [
    "strVar = tf.Variable(\"Hello, Everyone!!!\")\n",
    "strVar"
   ]
  },
  {
   "cell_type": "code",
   "execution_count": 23,
   "id": "e671532f-8ab2-45f2-be4e-930b8f4b9176",
   "metadata": {},
   "outputs": [
    {
     "data": {
      "text/plain": [
       "<tf.Variable 'Variable:0' shape=(4,) dtype=string, numpy=array([b'A', b'a', b'B', b'b'], dtype=object)>"
      ]
     },
     "execution_count": 23,
     "metadata": {},
     "output_type": "execute_result"
    }
   ],
   "source": [
    "strVar2 = tf.Variable(['A','a','B','b'])\n",
    "strVar2"
   ]
  },
  {
   "cell_type": "code",
   "execution_count": 24,
   "id": "67e64810-3f77-4ad8-9c51-3497f58c7167",
   "metadata": {},
   "outputs": [
    {
     "data": {
      "text/plain": [
       "<tf.Variable 'Variable:0' shape=() dtype=bool, numpy=True>"
      ]
     },
     "execution_count": 24,
     "metadata": {},
     "output_type": "execute_result"
    }
   ],
   "source": [
    "boolVar = tf.Variable(True)\n",
    "boolVar"
   ]
  },
  {
   "cell_type": "code",
   "execution_count": 25,
   "id": "617ba14c-175e-4d9a-894c-c429c42219a4",
   "metadata": {},
   "outputs": [
    {
     "data": {
      "text/plain": [
       "<tf.Variable 'Variable:0' shape=(4,) dtype=bool, numpy=array([ True, False,  True, False])>"
      ]
     },
     "execution_count": 25,
     "metadata": {},
     "output_type": "execute_result"
    }
   ],
   "source": [
    "boolVar2 = tf.Variable([True,False,True,False])\n",
    "boolVar2"
   ]
  },
  {
   "cell_type": "code",
   "execution_count": 30,
   "id": "77994002-7607-4a12-a39e-0a6baf6cb21e",
   "metadata": {},
   "outputs": [
    {
     "data": {
      "text/plain": [
       "<tf.Variable 'Variable:0' shape=(1,) dtype=complex128, numpy=array([4.+5.j])>"
      ]
     },
     "execution_count": 30,
     "metadata": {},
     "output_type": "execute_result"
    }
   ],
   "source": [
    "# Complex number \n",
    "\n",
    "# complex =  a+bj\n",
    "\n",
    "complex_Var = tf.Variable([4+5j])\n",
    "complex_Var\n"
   ]
  },
  {
   "cell_type": "markdown",
   "id": "c7195142-0e0c-4bc1-bb07-ca259d448e00",
   "metadata": {},
   "source": [
    "# Create TF from Constant TensorFlow Variable"
   ]
  },
  {
   "cell_type": "code",
   "execution_count": 32,
   "id": "884d6841-ea98-4c1f-a435-7ccab96bc2f2",
   "metadata": {},
   "outputs": [
    {
     "data": {
      "text/plain": [
       "<tf.Tensor: shape=(3,), dtype=int32, numpy=array([1, 2, 3])>"
      ]
     },
     "execution_count": 32,
     "metadata": {},
     "output_type": "execute_result"
    }
   ],
   "source": [
    "tf_constant = tf.constant([1,2,3])\n",
    "tf_constant"
   ]
  },
  {
   "cell_type": "code",
   "execution_count": 34,
   "id": "47f0cf2c-80c9-4393-964e-a43393e1db4b",
   "metadata": {},
   "outputs": [
    {
     "data": {
      "text/plain": [
       "<tf.Variable 'constant_to_variable:0' shape=(3,) dtype=int32, numpy=array([1, 2, 3])>"
      ]
     },
     "execution_count": 34,
     "metadata": {},
     "output_type": "execute_result"
    }
   ],
   "source": [
    "tf.Variable(tf_constant, name = \"constant_to_variable\")"
   ]
  },
  {
   "cell_type": "markdown",
   "id": "0e117d79-24bd-4e78-afbe-8c42b01ba00f",
   "metadata": {},
   "source": [
    "# Create TF variable with different shapes "
   ]
  },
  {
   "cell_type": "code",
   "execution_count": 38,
   "id": "806a7c4a-2661-4009-9896-09c31b20aeda",
   "metadata": {},
   "outputs": [
    {
     "data": {
      "text/plain": [
       "<tf.Variable 'Variable:0' shape=(2, 2) dtype=int32, numpy=\n",
       "array([[1, 2],\n",
       "       [3, 4]])>"
      ]
     },
     "execution_count": 38,
     "metadata": {},
     "output_type": "execute_result"
    }
   ],
   "source": [
    "arr2D= tf.Variable([[1,2],[3,4]])\n",
    "arr2D"
   ]
  },
  {
   "cell_type": "code",
   "execution_count": 39,
   "id": "17fe9f1b-3c51-4f60-8e81-17540bf3df81",
   "metadata": {},
   "outputs": [
    {
     "data": {
      "text/plain": [
       "TensorShape([2, 2])"
      ]
     },
     "execution_count": 39,
     "metadata": {},
     "output_type": "execute_result"
    }
   ],
   "source": [
    "arr2D.shape"
   ]
  },
  {
   "cell_type": "code",
   "execution_count": 41,
   "id": "df46b73f-0a3c-4322-bf4f-064b6d11aa16",
   "metadata": {},
   "outputs": [
    {
     "data": {
      "text/plain": [
       "<tf.Variable 'Variable:0' shape=(4,) dtype=int32, numpy=array([1, 2, 3, 4])>"
      ]
     },
     "execution_count": 41,
     "metadata": {},
     "output_type": "execute_result"
    }
   ],
   "source": [
    "arr3 = tf.Variable([1,2,3,4])\n",
    "arr3"
   ]
  },
  {
   "cell_type": "code",
   "execution_count": 44,
   "id": "6288e2e6-95ea-45e2-b558-e03d5ec49a51",
   "metadata": {},
   "outputs": [
    {
     "data": {
      "text/plain": [
       "<tf.Tensor: shape=(2, 2), dtype=int32, numpy=\n",
       "array([[1, 2],\n",
       "       [3, 4]])>"
      ]
     },
     "execution_count": 44,
     "metadata": {},
     "output_type": "execute_result"
    }
   ],
   "source": [
    "tf.reshape(arr3, (2,2))"
   ]
  },
  {
   "cell_type": "markdown",
   "id": "caa5353e-2668-408e-918e-9837ae3c3c9f",
   "metadata": {},
   "source": [
    "# Get Index of highest value"
   ]
  },
  {
   "cell_type": "code",
   "execution_count": 46,
   "id": "e6334c4a-448d-42aa-89b8-34d32075a291",
   "metadata": {},
   "outputs": [
    {
     "data": {
      "text/plain": [
       "<tf.Tensor: shape=(), dtype=int64, numpy=3>"
      ]
     },
     "execution_count": 46,
     "metadata": {},
     "output_type": "execute_result"
    }
   ],
   "source": [
    "index= tf.argmax(arr3)\n",
    "index"
   ]
  },
  {
   "cell_type": "code",
   "execution_count": 47,
   "id": "5a99b547-0561-41b9-a792-4e514ab05fe5",
   "metadata": {},
   "outputs": [
    {
     "data": {
      "text/plain": [
       "3"
      ]
     },
     "execution_count": 47,
     "metadata": {},
     "output_type": "execute_result"
    }
   ],
   "source": [
    "tf.argmax(arr3).numpy()"
   ]
  },
  {
   "cell_type": "markdown",
   "id": "d694cdba-6ddc-41e3-93af-4fdd2f46fe8b",
   "metadata": {},
   "source": [
    "# Viewed/Convert as a tensor"
   ]
  },
  {
   "cell_type": "code",
   "execution_count": 48,
   "id": "3986dd1b-8690-4363-9711-62076155e06f",
   "metadata": {},
   "outputs": [
    {
     "data": {
      "text/plain": [
       "<tf.Variable 'my_variable:0' shape=(4,) dtype=int32, numpy=array([1, 2, 3, 4])>"
      ]
     },
     "execution_count": 48,
     "metadata": {},
     "output_type": "execute_result"
    }
   ],
   "source": [
    "arr3"
   ]
  },
  {
   "cell_type": "code",
   "execution_count": 49,
   "id": "8cd2c5ba-97da-4154-9379-23390f8c5796",
   "metadata": {},
   "outputs": [
    {
     "data": {
      "text/plain": [
       "<tf.Tensor: shape=(4,), dtype=int32, numpy=array([1, 2, 3, 4])>"
      ]
     },
     "execution_count": 49,
     "metadata": {},
     "output_type": "execute_result"
    }
   ],
   "source": [
    "tf.convert_to_tensor(arr3)"
   ]
  },
  {
   "cell_type": "markdown",
   "id": "a024456e-0158-41cc-a31f-d6b4bfdd3781",
   "metadata": {},
   "source": [
    "# Change and assign new value to tensor "
   ]
  },
  {
   "cell_type": "code",
   "execution_count": 52,
   "id": "08a5f213-9d87-4186-9423-4c88704bf59e",
   "metadata": {},
   "outputs": [
    {
     "name": "stdout",
     "output_type": "stream",
     "text": [
      "<tf.Variable 'bool_variable:0' shape=(4,) dtype=bool, numpy=array([ True,  True, False,  True])>\n"
     ]
    }
   ],
   "source": [
    "boolVal2 = tf.Variable([True, True, False, True], dtype=tf.bool, name='bool_variable')\n",
    "\n",
    "print(boolVal2)"
   ]
  },
  {
   "cell_type": "code",
   "execution_count": 54,
   "id": "bda45929-09cc-430d-aa89-7365a76b848d",
   "metadata": {},
   "outputs": [
    {
     "name": "stdout",
     "output_type": "stream",
     "text": [
      "<tf.Variable 'bool_variable:0' shape=(4,) dtype=bool, numpy=array([ True, False,  True, False])>\n"
     ]
    }
   ],
   "source": [
    "boolVal2.assign([True, False, True, False])\n",
    "print(boolVal2)"
   ]
  },
  {
   "cell_type": "code",
   "execution_count": null,
   "id": "94ae159f-f46a-4e01-9a6f-2319c02efed1",
   "metadata": {},
   "outputs": [],
   "source": []
  }
 ],
 "metadata": {
  "kernelspec": {
   "display_name": "Python 3 (ipykernel)",
   "language": "python",
   "name": "python3"
  },
  "language_info": {
   "codemirror_mode": {
    "name": "ipython",
    "version": 3
   },
   "file_extension": ".py",
   "mimetype": "text/x-python",
   "name": "python",
   "nbconvert_exporter": "python",
   "pygments_lexer": "ipython3",
   "version": "3.12.4"
  }
 },
 "nbformat": 4,
 "nbformat_minor": 5
}
