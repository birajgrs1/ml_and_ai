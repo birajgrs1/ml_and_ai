{
 "cells": [
  {
   "cell_type": "code",
   "execution_count": 1,
   "id": "347aea88-edd9-4d20-8e8c-0c9f450da33e",
   "metadata": {},
   "outputs": [],
   "source": [
    "import tensorflow as tf"
   ]
  },
  {
   "cell_type": "markdown",
   "id": "392fa015-cdb0-463e-a8bc-b5f010a810a8",
   "metadata": {},
   "source": [
    "# Create Zeros Tesnor using tf.zeros_initializer()"
   ]
  },
  {
   "cell_type": "markdown",
   "id": "e942b3bb-76da-4ba8-a896-7ddecf0401d8",
   "metadata": {},
   "source": [
    "##### Initializer that generates tensors initialized to 0.\n",
    "\n",
    "##### Initializers allow you to pre-specify an initialization strategy, encoded in the Initializer object, without knowing the shape and dtype of the variable being initialized.\n",
    "##### Syntax: tf.zeros_initializer()"
   ]
  },
  {
   "cell_type": "code",
   "execution_count": 7,
   "id": "b7a293ec-ded0-4be8-9463-2f0495567453",
   "metadata": {},
   "outputs": [],
   "source": [
    "def zeros_variable(shape, dtype, initializer):\n",
    "    return tf.Variable(initializer(shape = shape , dtype = dtype))"
   ]
  },
  {
   "cell_type": "code",
   "execution_count": 9,
   "id": "7069baef-fe89-4db3-b082-eb6e8e2a55bc",
   "metadata": {},
   "outputs": [
    {
     "data": {
      "text/plain": [
       "<tf.Variable 'Variable:0' shape=(2, 2) dtype=float32, numpy=\n",
       "array([[0., 0.],\n",
       "       [0., 0.]], dtype=float32)>"
      ]
     },
     "execution_count": 9,
     "metadata": {},
     "output_type": "execute_result"
    }
   ],
   "source": [
    "zeros_init_tf_var = zeros_variable((2,2), tf.float32, tf.zeros_initializer())  # tf.zeros_initializer()\n",
    "zeros_init_tf_var"
   ]
  },
  {
   "cell_type": "code",
   "execution_count": 11,
   "id": "ea53675f-9d58-4467-a919-61bdd5982864",
   "metadata": {},
   "outputs": [
    {
     "data": {
      "text/plain": [
       "<tf.Variable 'Variable:0' shape=(3, 2, 5) dtype=int32, numpy=\n",
       "array([[[0, 0, 0, 0, 0],\n",
       "        [0, 0, 0, 0, 0]],\n",
       "\n",
       "       [[0, 0, 0, 0, 0],\n",
       "        [0, 0, 0, 0, 0]],\n",
       "\n",
       "       [[0, 0, 0, 0, 0],\n",
       "        [0, 0, 0, 0, 0]]])>"
      ]
     },
     "execution_count": 11,
     "metadata": {},
     "output_type": "execute_result"
    }
   ],
   "source": [
    "zeros_variable((3,2,5), tf.int32, tf.zeros_initializer())\n"
   ]
  },
  {
   "cell_type": "code",
   "execution_count": 12,
   "id": "8e82891f-9c9b-4bb8-b959-921b4a625460",
   "metadata": {},
   "outputs": [
    {
     "data": {
      "text/plain": [
       "<tf.Variable 'Variable:0' shape=(3, 2, 5) dtype=bool, numpy=\n",
       "array([[[False, False, False, False, False],\n",
       "        [False, False, False, False, False]],\n",
       "\n",
       "       [[False, False, False, False, False],\n",
       "        [False, False, False, False, False]],\n",
       "\n",
       "       [[False, False, False, False, False],\n",
       "        [False, False, False, False, False]]])>"
      ]
     },
     "execution_count": 12,
     "metadata": {},
     "output_type": "execute_result"
    }
   ],
   "source": [
    "zeros_variable((3,2,5), tf.bool, tf.zeros_initializer())\n"
   ]
  },
  {
   "cell_type": "code",
   "execution_count": 14,
   "id": "6d39b387-823e-407c-b1d6-54a431f56835",
   "metadata": {},
   "outputs": [
    {
     "data": {
      "text/plain": [
       "<tf.Variable 'Variable:0' shape=(2, 2) dtype=float32, numpy=\n",
       "array([[0., 0.],\n",
       "       [0., 0.]], dtype=float32)>"
      ]
     },
     "execution_count": 14,
     "metadata": {},
     "output_type": "execute_result"
    }
   ],
   "source": [
    "tf.Variable(tf.zeros_initializer()((2,2), tf.float32))  # working in single line "
   ]
  },
  {
   "cell_type": "code",
   "execution_count": null,
   "id": "2c887c29-02d7-4322-849d-714a1f1df9be",
   "metadata": {},
   "outputs": [],
   "source": []
  }
 ],
 "metadata": {
  "kernelspec": {
   "display_name": "Python 3 (ipykernel)",
   "language": "python",
   "name": "python3"
  },
  "language_info": {
   "codemirror_mode": {
    "name": "ipython",
    "version": 3
   },
   "file_extension": ".py",
   "mimetype": "text/x-python",
   "name": "python",
   "nbconvert_exporter": "python",
   "pygments_lexer": "ipython3",
   "version": "3.12.4"
  }
 },
 "nbformat": 4,
 "nbformat_minor": 5
}
