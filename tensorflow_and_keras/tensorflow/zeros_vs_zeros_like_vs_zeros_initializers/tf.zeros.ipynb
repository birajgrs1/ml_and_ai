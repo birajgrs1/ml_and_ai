{
 "cells": [
  {
   "cell_type": "code",
   "execution_count": 1,
   "id": "81a97098-527e-4154-9b10-73755c064a9f",
   "metadata": {},
   "outputs": [],
   "source": [
    "import tensorflow as tf"
   ]
  },
  {
   "cell_type": "markdown",
   "id": "60c715f6-716b-4bf9-9ebe-bd7a523a0c84",
   "metadata": {},
   "source": [
    "# Create Zeros Tesnor using tf.zeros()"
   ]
  },
  {
   "cell_type": "markdown",
   "id": "fe1d1adb-eac4-4706-afb7-e3bf2891e792",
   "metadata": {},
   "source": [
    "#### Creates a tensor with all elements set to zero (0)\n",
    "\n",
    "#### Syntax: tf.zeros(shape, dtype=tf.dtypes.float32, name=None) -> Return ZerosTensor"
   ]
  },
  {
   "cell_type": "code",
   "execution_count": 4,
   "id": "22107d3e-d417-4698-a7c5-b640025c1dd4",
   "metadata": {},
   "outputs": [
    {
     "name": "stdout",
     "output_type": "stream",
     "text": [
      "tf.Tensor(\n",
      "[[0 0]\n",
      " [0 0]], shape=(2, 2), dtype=int32)\n"
     ]
    }
   ],
   "source": [
    "zeros_2d_tensor = tf.zeros((2,2), dtype = tf.int32)\n",
    "print(zeros_2d_tensor)"
   ]
  },
  {
   "cell_type": "code",
   "execution_count": 5,
   "id": "75be2bc9-5e7a-4db4-b5af-70446bf99548",
   "metadata": {},
   "outputs": [
    {
     "name": "stdout",
     "output_type": "stream",
     "text": [
      "tf.Tensor(\n",
      "[[[0 0 0 0]\n",
      "  [0 0 0 0]]\n",
      "\n",
      " [[0 0 0 0]\n",
      "  [0 0 0 0]]], shape=(2, 2, 4), dtype=int8)\n"
     ]
    }
   ],
   "source": [
    "zeros_3d_tensor = tf.zeros((2,2,4), dtype = tf.int8)   # Creating 3-d Tensor\n",
    "print(zeros_3d_tensor)"
   ]
  },
  {
   "cell_type": "code",
   "execution_count": 6,
   "id": "ef728b4a-73c3-47d7-a1c0-cc5516ae3fc7",
   "metadata": {},
   "outputs": [
    {
     "name": "stdout",
     "output_type": "stream",
     "text": [
      "tf.Tensor(\n",
      "[[[0. 0. 0. 0.]\n",
      "  [0. 0. 0. 0.]]\n",
      "\n",
      " [[0. 0. 0. 0.]\n",
      "  [0. 0. 0. 0.]]], shape=(2, 2, 4), dtype=float32)\n"
     ]
    }
   ],
   "source": [
    "zeros_3d_tensor = tf.zeros((2,2,4), dtype = tf.float32)   # Creating 3-d Tensor\n",
    "print(zeros_3d_tensor)"
   ]
  },
  {
   "cell_type": "code",
   "execution_count": 7,
   "id": "74657e30-41b1-41be-a0b4-4cbf349a84fc",
   "metadata": {},
   "outputs": [
    {
     "data": {
      "text/plain": [
       "TensorShape([2, 2, 4])"
      ]
     },
     "execution_count": 7,
     "metadata": {},
     "output_type": "execute_result"
    }
   ],
   "source": [
    "zeros_3d_tensor.shape"
   ]
  },
  {
   "cell_type": "code",
   "execution_count": 8,
   "id": "6c1a081a-ba91-4274-ab6f-f06258876143",
   "metadata": {},
   "outputs": [
    {
     "data": {
      "text/plain": [
       "tf.float32"
      ]
     },
     "execution_count": 8,
     "metadata": {},
     "output_type": "execute_result"
    }
   ],
   "source": [
    "zeros_3d_tensor.dtype"
   ]
  },
  {
   "cell_type": "code",
   "execution_count": 9,
   "id": "1c553c5f-beb4-4818-8098-09eacaef314a",
   "metadata": {},
   "outputs": [
    {
     "data": {
      "text/plain": [
       "array([[[0., 0., 0., 0.],\n",
       "        [0., 0., 0., 0.]],\n",
       "\n",
       "       [[0., 0., 0., 0.],\n",
       "        [0., 0., 0., 0.]]], dtype=float32)"
      ]
     },
     "execution_count": 9,
     "metadata": {},
     "output_type": "execute_result"
    }
   ],
   "source": [
    "zeros_3d_tensor.numpy()"
   ]
  },
  {
   "cell_type": "code",
   "execution_count": 11,
   "id": "c4564949-9d27-421c-8264-98dbbce9b9d7",
   "metadata": {},
   "outputs": [
    {
     "data": {
      "text/plain": [
       "[[[0.0, 0.0, 0.0, 0.0], [0.0, 0.0, 0.0, 0.0]],\n",
       " [[0.0, 0.0, 0.0, 0.0], [0.0, 0.0, 0.0, 0.0]]]"
      ]
     },
     "execution_count": 11,
     "metadata": {},
     "output_type": "execute_result"
    }
   ],
   "source": [
    "zeros_3d_tensor.numpy().tolist()"
   ]
  },
  {
   "cell_type": "code",
   "execution_count": 13,
   "id": "24abb0d5-2bad-43d7-b6bc-73286f973616",
   "metadata": {},
   "outputs": [
    {
     "name": "stdout",
     "output_type": "stream",
     "text": [
      "tf.Tensor(\n",
      "[[[[0. 0. 0. 0. 0.]\n",
      "   [0. 0. 0. 0. 0.]\n",
      "   [0. 0. 0. 0. 0.]\n",
      "   [0. 0. 0. 0. 0.]]\n",
      "\n",
      "  [[0. 0. 0. 0. 0.]\n",
      "   [0. 0. 0. 0. 0.]\n",
      "   [0. 0. 0. 0. 0.]\n",
      "   [0. 0. 0. 0. 0.]]\n",
      "\n",
      "  [[0. 0. 0. 0. 0.]\n",
      "   [0. 0. 0. 0. 0.]\n",
      "   [0. 0. 0. 0. 0.]\n",
      "   [0. 0. 0. 0. 0.]]]\n",
      "\n",
      "\n",
      " [[[0. 0. 0. 0. 0.]\n",
      "   [0. 0. 0. 0. 0.]\n",
      "   [0. 0. 0. 0. 0.]\n",
      "   [0. 0. 0. 0. 0.]]\n",
      "\n",
      "  [[0. 0. 0. 0. 0.]\n",
      "   [0. 0. 0. 0. 0.]\n",
      "   [0. 0. 0. 0. 0.]\n",
      "   [0. 0. 0. 0. 0.]]\n",
      "\n",
      "  [[0. 0. 0. 0. 0.]\n",
      "   [0. 0. 0. 0. 0.]\n",
      "   [0. 0. 0. 0. 0.]\n",
      "   [0. 0. 0. 0. 0.]]]], shape=(2, 3, 4, 5), dtype=float32)\n"
     ]
    }
   ],
   "source": [
    "# Creating a 4D tensor of shape (2, 3, 4, 5) filled with zeros\n",
    "tensor_4d = tf.zeros((2, 3, 4, 5))\n",
    "print(tensor_4d)"
   ]
  },
  {
   "cell_type": "code",
   "execution_count": 14,
   "id": "f53575da-50a9-454e-9b76-fbe11d0c41da",
   "metadata": {},
   "outputs": [
    {
     "name": "stdout",
     "output_type": "stream",
     "text": [
      "Tensor with dynamic shape:\n",
      "tf.Tensor(\n",
      "[[[0. 0. 0.]\n",
      "  [0. 0. 0.]]\n",
      "\n",
      " [[0. 0. 0.]\n",
      "  [0. 0. 0.]]\n",
      "\n",
      " [[0. 0. 0.]\n",
      "  [0. 0. 0.]]\n",
      "\n",
      " [[0. 0. 0.]\n",
      "  [0. 0. 0.]]], shape=(4, 2, 3), dtype=float32)\n"
     ]
    }
   ],
   "source": [
    "# Dynamic shape based on some conditions or calculations\n",
    "batch_size = 4\n",
    "height = 2\n",
    "width = 3\n",
    "\n",
    "tensor_dynamic_shape = tf.zeros((batch_size, height, width))\n",
    "print(\"Tensor with dynamic shape:\")\n",
    "print(tensor_dynamic_shape)"
   ]
  },
  {
   "cell_type": "code",
   "execution_count": null,
   "id": "53e43e1c-7062-4948-b8ca-dc70375a82d0",
   "metadata": {},
   "outputs": [],
   "source": []
  }
 ],
 "metadata": {
  "kernelspec": {
   "display_name": "Python 3 (ipykernel)",
   "language": "python",
   "name": "python3"
  },
  "language_info": {
   "codemirror_mode": {
    "name": "ipython",
    "version": 3
   },
   "file_extension": ".py",
   "mimetype": "text/x-python",
   "name": "python",
   "nbconvert_exporter": "python",
   "pygments_lexer": "ipython3",
   "version": "3.12.4"
  }
 },
 "nbformat": 4,
 "nbformat_minor": 5
}
