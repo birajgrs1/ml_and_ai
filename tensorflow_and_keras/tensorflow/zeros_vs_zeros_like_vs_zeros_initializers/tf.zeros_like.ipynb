{
 "cells": [
  {
   "cell_type": "code",
   "execution_count": 1,
   "id": "ab83df0d-fa42-4360-819d-809c71588f27",
   "metadata": {},
   "outputs": [],
   "source": [
    "import tensorflow as tf "
   ]
  },
  {
   "cell_type": "markdown",
   "id": "b4ff4b86-2766-41f2-9d27-061df846af36",
   "metadata": {},
   "source": [
    "# Create Zeros Tesnor using tf.zeros_like()"
   ]
  },
  {
   "cell_type": "markdown",
   "id": "91329c7c-77da-45d5-9df8-b97df66bd21e",
   "metadata": {},
   "source": [
    "#### Creates a tensor with all elements set to zero.\n",
    "#### Syntax: tf.zeros_like(input, dtype=None, name=None) -> Return Zeros Tensor"
   ]
  },
  {
   "cell_type": "code",
   "execution_count": 11,
   "id": "ac73228c-e886-4812-adb1-5f5e23c81ea0",
   "metadata": {},
   "outputs": [
    {
     "data": {
      "text/plain": [
       "<tf.Tensor: shape=(2, 3), dtype=int32, numpy=\n",
       "array([[1, 2, 3],\n",
       "       [4, 5, 6]])>"
      ]
     },
     "execution_count": 11,
     "metadata": {},
     "output_type": "execute_result"
    }
   ],
   "source": [
    "# using constant tensorflow\n",
    "\n",
    "const_tensor = tf.constant(([1,2,3],[4,5,6]))\n",
    "const_tensor"
   ]
  },
  {
   "cell_type": "code",
   "execution_count": 13,
   "id": "16819c92-9d45-48f5-afc9-a01ccb665da0",
   "metadata": {},
   "outputs": [
    {
     "name": "stdout",
     "output_type": "stream",
     "text": [
      "tf.Tensor(\n",
      "[[0. 0. 0.]\n",
      " [0. 0. 0.]], shape=(2, 3), dtype=float32)\n"
     ]
    }
   ],
   "source": [
    "const_2d_tensor= tf.zeros_like(const_tensor, tf.float32)\n",
    "print(const_2d_tensor)"
   ]
  },
  {
   "cell_type": "code",
   "execution_count": 17,
   "id": "48a5fa5d-9e68-4979-bb54-a5c7278889ec",
   "metadata": {},
   "outputs": [
    {
     "data": {
      "text/plain": [
       "<tf.Variable 'Variable:0' shape=(2, 3) dtype=int32, numpy=\n",
       "array([[1, 2, 3],\n",
       "       [4, 5, 6]])>"
      ]
     },
     "execution_count": 17,
     "metadata": {},
     "output_type": "execute_result"
    }
   ],
   "source": [
    "var_tensor = tf.Variable(([1,2,3],[4,5,6]))\n",
    "var_tensor"
   ]
  },
  {
   "cell_type": "code",
   "execution_count": 18,
   "id": "f1bb97b2-eef6-4237-a970-7ae0b47d8351",
   "metadata": {},
   "outputs": [
    {
     "data": {
      "text/plain": [
       "<tf.Tensor: shape=(2, 3), dtype=int64, numpy=\n",
       "array([[0, 0, 0],\n",
       "       [0, 0, 0]], dtype=int64)>"
      ]
     },
     "execution_count": 18,
     "metadata": {},
     "output_type": "execute_result"
    }
   ],
   "source": [
    "var_2d_tensor =tf.zeros_like(var_tensor, tf.int64)\n",
    "var_2d_tensor"
   ]
  },
  {
   "cell_type": "code",
   "execution_count": 19,
   "id": "c510c04a-50f0-444a-8e7c-4f093fd1c3ce",
   "metadata": {},
   "outputs": [
    {
     "data": {
      "text/plain": [
       "<tf.Tensor: shape=(2, 3), dtype=string, numpy=\n",
       "array([[b'', b'', b''],\n",
       "       [b'', b'', b'']], dtype=object)>"
      ]
     },
     "execution_count": 19,
     "metadata": {},
     "output_type": "execute_result"
    }
   ],
   "source": [
    "var_2d_tensor =tf.zeros_like(var_tensor, tf.string)   # b--> bytestring\n",
    "var_2d_tensor"
   ]
  },
  {
   "cell_type": "code",
   "execution_count": 20,
   "id": "9bedad0c-8db8-4d1b-b92d-4746aae9310e",
   "metadata": {},
   "outputs": [
    {
     "data": {
      "text/plain": [
       "<tf.Tensor: shape=(2, 3), dtype=bool, numpy=\n",
       "array([[False, False, False],\n",
       "       [False, False, False]])>"
      ]
     },
     "execution_count": 20,
     "metadata": {},
     "output_type": "execute_result"
    }
   ],
   "source": [
    "var_2d_tensor =tf.zeros_like(var_tensor, tf.bool)    # False ---> 0\n",
    "var_2d_tensor"
   ]
  },
  {
   "cell_type": "code",
   "execution_count": null,
   "id": "a34a480a-9cae-4876-8e3f-7eb422b4f100",
   "metadata": {},
   "outputs": [],
   "source": []
  }
 ],
 "metadata": {
  "kernelspec": {
   "display_name": "Python 3 (ipykernel)",
   "language": "python",
   "name": "python3"
  },
  "language_info": {
   "codemirror_mode": {
    "name": "ipython",
    "version": 3
   },
   "file_extension": ".py",
   "mimetype": "text/x-python",
   "name": "python",
   "nbconvert_exporter": "python",
   "pygments_lexer": "ipython3",
   "version": "3.12.4"
  }
 },
 "nbformat": 4,
 "nbformat_minor": 5
}
