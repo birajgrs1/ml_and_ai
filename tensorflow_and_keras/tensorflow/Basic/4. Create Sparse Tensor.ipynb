{
 "cells": [
  {
   "cell_type": "code",
   "execution_count": 1,
   "id": "df5dbcf8-7c0a-4d98-8fb2-c5f158115eed",
   "metadata": {},
   "outputs": [],
   "source": [
    "# Importing library \n",
    "import tensorflow as tf"
   ]
  },
  {
   "cell_type": "code",
   "execution_count": 3,
   "id": "e4112d26-2994-4a30-a0c6-719e9b1e40b1",
   "metadata": {},
   "outputs": [],
   "source": [
    "# Syntax (sparse_tensor):\n",
    "# tf.sparse.SparseTensor(indices, values, dense_shape)\n",
    "# values: A 1D tensor with shape [N] containing all nonzero values.\n",
    "# indices: A 2D tensor with shape [N, rank], containing the indices of the nonzero values.\n",
    "# dense_shape: A 1D tensor with shape [rank], specifying the shape of the tensor."
   ]
  },
  {
   "cell_type": "markdown",
   "id": "84e800d9-d2e3-4e53-bf56-0a68f96a7d35",
   "metadata": {},
   "source": [
    "# Creating tensorflow Sparse Tensor"
   ]
  },
  {
   "cell_type": "code",
   "execution_count": 7,
   "id": "e6be7013-87b0-458c-be78-cc2f3666fac2",
   "metadata": {},
   "outputs": [
    {
     "name": "stdout",
     "output_type": "stream",
     "text": [
      "SparseTensor(indices=tf.Tensor(\n",
      "[[0 2]\n",
      " [1 4]], shape=(2, 2), dtype=int64), values=tf.Tensor([10 20], shape=(2,), dtype=int32), dense_shape=tf.Tensor([ 2 10], shape=(2,), dtype=int64))\n"
     ]
    }
   ],
   "source": [
    "sp_tf1 = tf.SparseTensor(indices = [[0,2],[1,4]], values = [10,20], dense_shape = [2,10])\n",
    "print(sp_tf1)"
   ]
  },
  {
   "cell_type": "markdown",
   "id": "51e56435-610b-4316-8650-61bed09377e9",
   "metadata": {},
   "source": [
    "# Create sparse tensor from dense "
   ]
  },
  {
   "cell_type": "code",
   "execution_count": 9,
   "id": "860c81fc-d0a5-42ba-bd05-e0e3d27c8b10",
   "metadata": {},
   "outputs": [],
   "source": [
    "import numpy as np "
   ]
  },
  {
   "cell_type": "code",
   "execution_count": 13,
   "id": "8eba8845-5b0c-409f-a444-eccbf054d014",
   "metadata": {},
   "outputs": [
    {
     "data": {
      "text/plain": [
       "array([[1, 0, 1, 0],\n",
       "       [1, 2, 1, 0],\n",
       "       [2, 1, 0, 0],\n",
       "       [0, 0, 3, 0]])"
      ]
     },
     "execution_count": 13,
     "metadata": {},
     "output_type": "execute_result"
    }
   ],
   "source": [
    "arr = np.array([[1,0,1,0],[1,2,1,0],[2,1,0,0], [0,0,3,0]])\n",
    "arr"
   ]
  },
  {
   "cell_type": "code",
   "execution_count": 15,
   "id": "f1879fa4-6f57-4708-8872-b3417a27b78c",
   "metadata": {},
   "outputs": [
    {
     "name": "stdout",
     "output_type": "stream",
     "text": [
      "SparseTensor(indices=tf.Tensor(\n",
      "[[0 0]\n",
      " [0 2]\n",
      " [1 0]\n",
      " [1 1]\n",
      " [1 2]\n",
      " [2 0]\n",
      " [2 1]\n",
      " [3 2]], shape=(8, 2), dtype=int64), values=tf.Tensor([1 1 1 2 1 2 1 3], shape=(8,), dtype=int32), dense_shape=tf.Tensor([4 4], shape=(2,), dtype=int64))\n"
     ]
    }
   ],
   "source": [
    "sp_tf_from_dense = tf.sparse.from_dense(arr)\n",
    "print(sp_tf_from_dense)"
   ]
  },
  {
   "cell_type": "code",
   "execution_count": 19,
   "id": "a7189f9b-1641-4d60-b48a-ec5d96ea6e20",
   "metadata": {},
   "outputs": [
    {
     "name": "stdout",
     "output_type": "stream",
     "text": [
      "[1 1 1 2 1 2 1 3]\n"
     ]
    }
   ],
   "source": [
    "# Extract values, indices and shape of tensor\n",
    "\n",
    "values_np =sp_tf_from_dense.values.numpy()\n",
    "print(values_np)"
   ]
  },
  {
   "cell_type": "code",
   "execution_count": 22,
   "id": "670b7a26-6b57-4653-bdff-d631fdf310c5",
   "metadata": {},
   "outputs": [
    {
     "name": "stdout",
     "output_type": "stream",
     "text": [
      "[1, 1, 1, 2, 1, 2, 1, 3]\n"
     ]
    }
   ],
   "source": [
    "values_lists = sp_tf_from_dense.values.numpy().tolist()\n",
    "print(values_lists)"
   ]
  },
  {
   "cell_type": "code",
   "execution_count": 30,
   "id": "e13b3637-fb1d-4383-bdc0-c5c28696f28b",
   "metadata": {},
   "outputs": [
    {
     "name": "stdout",
     "output_type": "stream",
     "text": [
      "[[0 0]\n",
      " [0 2]\n",
      " [1 0]\n",
      " [1 1]\n",
      " [1 2]\n",
      " [2 0]\n",
      " [2 1]\n",
      " [3 2]]\n"
     ]
    }
   ],
   "source": [
    "indices_vals = sp_tf_from_dense.indices.numpy()\n",
    "print(indices_vals)"
   ]
  },
  {
   "cell_type": "code",
   "execution_count": 29,
   "id": "96db6f71-278d-4c87-b059-1a6ddfcb7978",
   "metadata": {},
   "outputs": [
    {
     "name": "stdout",
     "output_type": "stream",
     "text": [
      "[[0, 0], [0, 2], [1, 0], [1, 1], [1, 2], [2, 0], [2, 1], [3, 2]]\n"
     ]
    }
   ],
   "source": [
    "indices_vals_lists = sp_tf_from_dense.indices.numpy().tolist()  # in list format\n",
    "print(indices_vals_lists)"
   ]
  },
  {
   "cell_type": "code",
   "execution_count": 33,
   "id": "7b0c0462-8177-4e3e-a435-1b0ec2796aee",
   "metadata": {},
   "outputs": [
    {
     "data": {
      "text/plain": [
       "array([4, 4], dtype=int64)"
      ]
     },
     "execution_count": 33,
     "metadata": {},
     "output_type": "execute_result"
    }
   ],
   "source": [
    "size_of_metrics = sp_tf_from_dense.dense_shape.numpy()\n",
    "size_of_metrics"
   ]
  },
  {
   "cell_type": "markdown",
   "id": "78835a4c-59bf-432d-80dd-8cb4a665316c",
   "metadata": {},
   "source": [
    "#  Sparse tensor to Dense"
   ]
  },
  {
   "cell_type": "code",
   "execution_count": 39,
   "id": "356ea3bc-7031-4f85-b551-471f0714bcc4",
   "metadata": {},
   "outputs": [
    {
     "name": "stdout",
     "output_type": "stream",
     "text": [
      "tf.Tensor(\n",
      "[[1 0 1 0]\n",
      " [1 2 1 0]\n",
      " [2 1 0 0]\n",
      " [0 0 3 0]], shape=(4, 4), dtype=int32)\n"
     ]
    }
   ],
   "source": [
    "dt_from_sparse = tf.sparse.to_dense(sp_tf_from_dense)\n",
    "print(dt_from_sparse)"
   ]
  },
  {
   "cell_type": "code",
   "execution_count": 41,
   "id": "13b8284f-3056-49df-887e-1106de17daa5",
   "metadata": {},
   "outputs": [
    {
     "data": {
      "text/plain": [
       "array([[1, 0, 1, 0],\n",
       "       [1, 2, 1, 0],\n",
       "       [2, 1, 0, 0],\n",
       "       [0, 0, 3, 0]])"
      ]
     },
     "execution_count": 41,
     "metadata": {},
     "output_type": "execute_result"
    }
   ],
   "source": [
    "dt_from_sparse.numpy()   # Converting dt to numpy"
   ]
  },
  {
   "cell_type": "markdown",
   "id": "1472016a-f49c-459d-874a-d05925c79ffc",
   "metadata": {},
   "source": [
    "#  Applying mathematical operation on Sparse Tensor "
   ]
  },
  {
   "cell_type": "code",
   "execution_count": 49,
   "id": "a1cfe18e-dd73-49f6-9a2b-2beb9363afbd",
   "metadata": {},
   "outputs": [
    {
     "name": "stdout",
     "output_type": "stream",
     "text": [
      "SparseTensor(indices=tf.Tensor(\n",
      "[[0 0]\n",
      " [0 2]\n",
      " [1 0]\n",
      " [1 1]\n",
      " [1 2]\n",
      " [2 0]\n",
      " [2 1]\n",
      " [3 2]], shape=(8, 2), dtype=int64), values=tf.Tensor([2 2 2 4 2 4 2 6], shape=(8,), dtype=int32), dense_shape=tf.Tensor([4 4], shape=(2,), dtype=int64))\n"
     ]
    }
   ],
   "source": [
    "sp_tf_add = tf.sparse.add(sp_tf_from_dense,sp_tf_from_dense)\n",
    "print(sp_tf_add)"
   ]
  },
  {
   "cell_type": "code",
   "execution_count": 52,
   "id": "88fc447e-6bc8-46c2-9c92-36cba4bfdbd0",
   "metadata": {},
   "outputs": [
    {
     "name": "stdout",
     "output_type": "stream",
     "text": [
      "[[2 0 2 0]\n",
      " [2 4 2 0]\n",
      " [4 2 0 0]\n",
      " [0 0 6 0]]\n"
     ]
    }
   ],
   "source": [
    "added_sparse = tf.sparse.to_dense(sp_tf_add).numpy()\n",
    "print(added_sparse)"
   ]
  },
  {
   "cell_type": "code",
   "execution_count": 53,
   "id": "8bdafa99-bae9-457c-a47a-319f1dc75b9b",
   "metadata": {},
   "outputs": [
    {
     "name": "stdout",
     "output_type": "stream",
     "text": [
      "[[2, 0, 2, 0], [2, 4, 2, 0], [4, 2, 0, 0], [0, 0, 6, 0]]\n"
     ]
    }
   ],
   "source": [
    "added_sparse_in_list = tf.sparse.to_dense(sp_tf_add).numpy().tolist()\n",
    "print(added_sparse_in_list)"
   ]
  },
  {
   "cell_type": "code",
   "execution_count": null,
   "id": "fd98070f-d4d1-4e7a-8bd8-aba5a20f99a5",
   "metadata": {},
   "outputs": [],
   "source": []
  }
 ],
 "metadata": {
  "kernelspec": {
   "display_name": "Python 3 (ipykernel)",
   "language": "python",
   "name": "python3"
  },
  "language_info": {
   "codemirror_mode": {
    "name": "ipython",
    "version": 3
   },
   "file_extension": ".py",
   "mimetype": "text/x-python",
   "name": "python",
   "nbconvert_exporter": "python",
   "pygments_lexer": "ipython3",
   "version": "3.12.4"
  }
 },
 "nbformat": 4,
 "nbformat_minor": 5
}
