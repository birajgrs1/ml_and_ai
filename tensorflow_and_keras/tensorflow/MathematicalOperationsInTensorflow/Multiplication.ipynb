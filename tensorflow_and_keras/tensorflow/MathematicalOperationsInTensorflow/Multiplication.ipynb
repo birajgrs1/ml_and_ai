{
 "cells": [
  {
   "cell_type": "code",
   "execution_count": 1,
   "id": "dabb2bc7-7088-4655-a2be-8fdec9660cfc",
   "metadata": {},
   "outputs": [],
   "source": [
    "import tensorflow as tf \n",
    "import numpy as np\n",
    "\n",
    "# Syntax: tf.multiply(x, y, name=None)"
   ]
  },
  {
   "cell_type": "markdown",
   "id": "dfc3a768-d950-4fb7-a733-79a7fcb765f3",
   "metadata": {},
   "source": [
    "### Scaler Multiply "
   ]
  },
  {
   "cell_type": "code",
   "execution_count": 2,
   "id": "cdc9e98b-7515-4795-9a1d-a450f111430b",
   "metadata": {},
   "outputs": [
    {
     "name": "stdout",
     "output_type": "stream",
     "text": [
      "tf.Tensor(200, shape=(), dtype=int32)\n"
     ]
    }
   ],
   "source": [
    "x= 10\n",
    "y = 20\n",
    "\n",
    "mul = tf.multiply(x,y)\n",
    "print(mul)"
   ]
  },
  {
   "cell_type": "markdown",
   "id": "80d7592b-9765-49bd-b85a-704e54f06967",
   "metadata": {},
   "source": [
    "### Multiplying list "
   ]
  },
  {
   "cell_type": "code",
   "execution_count": 3,
   "id": "2f0d899b-6381-4c87-985c-fb7a4da47a62",
   "metadata": {},
   "outputs": [
    {
     "data": {
      "text/plain": [
       "<tf.Tensor: shape=(4,), dtype=int32, numpy=array([ 5, 12, 21, 32])>"
      ]
     },
     "execution_count": 3,
     "metadata": {},
     "output_type": "execute_result"
    }
   ],
   "source": [
    "ls1 = [1,2,3,4]\n",
    "ls2 = [5,6,7,8]\n",
    "\n",
    "mul_ls = tf.multiply(ls1,ls2)\n",
    "mul_ls"
   ]
  },
  {
   "cell_type": "markdown",
   "id": "5b017ff2-c718-4fc5-b75d-31a78cb6aed0",
   "metadata": {},
   "source": [
    "### Multiplying tuples"
   ]
  },
  {
   "cell_type": "code",
   "execution_count": 4,
   "id": "81d9e5c2-62a2-4ce6-83f7-4e0710a56527",
   "metadata": {},
   "outputs": [
    {
     "data": {
      "text/plain": [
       "<tf.Tensor: shape=(4,), dtype=int32, numpy=array([ 5, 12, 21, 32])>"
      ]
     },
     "execution_count": 4,
     "metadata": {},
     "output_type": "execute_result"
    }
   ],
   "source": [
    "tup1 = (1,2,3,4)\n",
    "tup2 = (5,6,7,8)\n",
    "\n",
    "mul_tupls = tf.multiply(tup1, tup2)\n",
    "mul_tupls"
   ]
  },
  {
   "cell_type": "markdown",
   "id": "6f1fe91f-3186-4764-9cd3-314577abcb83",
   "metadata": {},
   "source": [
    "### Mulitplying list/ tuples with scaler"
   ]
  },
  {
   "cell_type": "code",
   "execution_count": 5,
   "id": "f05b850b-86a9-4742-8d9a-a37e283a3d97",
   "metadata": {},
   "outputs": [
    {
     "data": {
      "text/plain": [
       "<tf.Tensor: shape=(4,), dtype=int32, numpy=array([10, 20, 30, 40])>"
      ]
     },
     "execution_count": 5,
     "metadata": {},
     "output_type": "execute_result"
    }
   ],
   "source": [
    "ls = [1,2,3,4]\n",
    "x = 10\n",
    "\n",
    "mul = tf.multiply(ls,x)\n",
    "mul"
   ]
  },
  {
   "cell_type": "code",
   "execution_count": 7,
   "id": "9da942e4-4e95-4084-b56d-be6dbf307c0d",
   "metadata": {},
   "outputs": [
    {
     "data": {
      "text/plain": [
       "<tf.Tensor: shape=(4,), dtype=int32, numpy=array([10, 20, 30, 40])>"
      ]
     },
     "execution_count": 7,
     "metadata": {},
     "output_type": "execute_result"
    }
   ],
   "source": [
    "tpl = (1,2,3,4)\n",
    "x = 10\n",
    "\n",
    "mul = tf.multiply(tpl,x)\n",
    "mul"
   ]
  },
  {
   "cell_type": "markdown",
   "id": "dfc0a9f7-edda-4555-ba52-f71e28208541",
   "metadata": {},
   "source": [
    "## Multiplying 2 list/tuples with different size\n",
    "\n",
    "#### ls1 = [1,2,3,4]\n",
    "#### ls2 = [5,6]\n",
    "\n",
    "#### mul = tf.multiply(ls1,ls2)\n",
    "\n",
    "### Note:\n",
    "#### If the size of 2 variables is different then tf.multiply() function will through error.\n",
    "#### If any one of the variables contains only a single item then it will do the element-wise operation.\n",
    "\n",
    "\n",
    "\n",
    "\n",
    "###### Output:\n",
    "###### ...\n",
    "###### ...\n",
    "###### ...\n",
    "###### InvalidArgumentError: {{function_node __wrapped__AddV2_device_/job:localhost/replica:0/task:0/device:CPU:0}} Incompatible shapes:\n",
    "######  [4] vs. [2] [Op:AddV2] \n",
    "\n",
    "\n",
    "\n"
   ]
  },
  {
   "cell_type": "markdown",
   "id": "0e39489b-a929-42fa-8266-2c57603f3334",
   "metadata": {},
   "source": [
    "### Multiply 2 numpy arrays"
   ]
  },
  {
   "cell_type": "code",
   "execution_count": 9,
   "id": "db27c89e-47d5-45c4-9459-f4d97573081f",
   "metadata": {},
   "outputs": [
    {
     "name": "stdout",
     "output_type": "stream",
     "text": [
      "tf.Tensor([ 200  800 1800 3200 5000], shape=(5,), dtype=int32)\n"
     ]
    }
   ],
   "source": [
    "arr1 = np.array([10,20,30,40,50])\n",
    "arr2 = np.array([20,40,60,80,100])\n",
    "\n",
    "mul_arrays = tf.multiply(arr1, arr2)\n",
    "print(mul_arrays)"
   ]
  },
  {
   "cell_type": "markdown",
   "id": "121c87dc-cebb-4017-adb5-104408a741f1",
   "metadata": {},
   "source": [
    "### Multiplying numpy array with scaler"
   ]
  },
  {
   "cell_type": "code",
   "execution_count": 10,
   "id": "d1a0c0d1-a831-4aea-ac6f-bcf12a82a0f6",
   "metadata": {},
   "outputs": [
    {
     "name": "stdout",
     "output_type": "stream",
     "text": [
      "tf.Tensor([150 300 450 600 750], shape=(5,), dtype=int32)\n"
     ]
    }
   ],
   "source": [
    "arr1 = np.array([10,20,30,40,50])\n",
    "num = 15\n",
    "\n",
    "mul_with_scaler = tf.multiply(arr1, num)\n",
    "print(mul_with_scaler)"
   ]
  },
  {
   "cell_type": "code",
   "execution_count": null,
   "id": "742a186f-2579-46f8-9dda-a49688ee4d62",
   "metadata": {},
   "outputs": [],
   "source": []
  },
  {
   "cell_type": "code",
   "execution_count": null,
   "id": "62b0da6c-2a07-419f-9e71-7f0d26fe0baa",
   "metadata": {},
   "outputs": [],
   "source": []
  },
  {
   "cell_type": "code",
   "execution_count": null,
   "id": "e3113147-c379-4a49-b68d-7301d7289326",
   "metadata": {},
   "outputs": [],
   "source": []
  }
 ],
 "metadata": {
  "kernelspec": {
   "display_name": "Python 3 (ipykernel)",
   "language": "python",
   "name": "python3"
  },
  "language_info": {
   "codemirror_mode": {
    "name": "ipython",
    "version": 3
   },
   "file_extension": ".py",
   "mimetype": "text/x-python",
   "name": "python",
   "nbconvert_exporter": "python",
   "pygments_lexer": "ipython3",
   "version": "3.12.4"
  }
 },
 "nbformat": 4,
 "nbformat_minor": 5
}
