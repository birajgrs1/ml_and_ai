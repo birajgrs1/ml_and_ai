{
 "cells": [
  {
   "cell_type": "code",
   "execution_count": 1,
   "id": "a52f2981-3b84-4fb6-8cd0-785a68ec084b",
   "metadata": {},
   "outputs": [],
   "source": [
    "# Importing libraries\n",
    "import tensorflow as tf\n",
    "import numpy as np\n",
    "\n",
    "#  Syntax: tf.maximum(x, y, name=None)"
   ]
  },
  {
   "cell_type": "markdown",
   "id": "5b41fc02-90cd-48af-b439-71f1f61e97a1",
   "metadata": {},
   "source": [
    "##  Get Max value of Scaler"
   ]
  },
  {
   "cell_type": "code",
   "execution_count": 2,
   "id": "d6917913-2a5a-46c8-948e-86f08af9dcf4",
   "metadata": {},
   "outputs": [
    {
     "data": {
      "text/plain": [
       "<tf.Tensor: shape=(), dtype=int32, numpy=20>"
      ]
     },
     "execution_count": 2,
     "metadata": {},
     "output_type": "execute_result"
    }
   ],
   "source": [
    "a = 10\n",
    "b = 20\n",
    "tf.maximum(a,b)\n",
    " \n",
    "#tf.maximum(a,b).numpy()"
   ]
  },
  {
   "cell_type": "markdown",
   "id": "a5dcb273-7244-4810-ab76-12ff9d608188",
   "metadata": {},
   "source": [
    "## Get Max Value from 2 List"
   ]
  },
  {
   "cell_type": "code",
   "execution_count": 3,
   "id": "c0cff8fd-28b7-49a9-8f6e-516dd8515327",
   "metadata": {},
   "outputs": [
    {
     "data": {
      "text/plain": [
       "<tf.Tensor: shape=(4,), dtype=int32, numpy=array([5, 6, 7, 8])>"
      ]
     },
     "execution_count": 3,
     "metadata": {},
     "output_type": "execute_result"
    }
   ],
   "source": [
    "l1 = [1,2,3,4]\n",
    "l2 = [5,6,7,8]\n",
    " \n",
    "tf.maximum(l1, l2)"
   ]
  },
  {
   "cell_type": "code",
   "execution_count": 4,
   "id": "413f57c4-24ff-4d68-bef3-ba874e3b67d8",
   "metadata": {},
   "outputs": [
    {
     "data": {
      "text/plain": [
       "<tf.Tensor: shape=(4,), dtype=int32, numpy=array([5, 5, 5, 5])>"
      ]
     },
     "execution_count": 4,
     "metadata": {},
     "output_type": "execute_result"
    }
   ],
   "source": [
    "l1 = [1,2,3,4]\n",
    "l2 = [5]\n",
    " \n",
    "tf.maximum(l1, l2)"
   ]
  },
  {
   "cell_type": "markdown",
   "id": "f6e4da7c-189d-4219-940e-2028e0eef27d",
   "metadata": {},
   "source": [
    "## Get Max value from 2 tuple"
   ]
  },
  {
   "cell_type": "code",
   "execution_count": 5,
   "id": "c3b44c61-09a5-4773-9725-52bbbc11dd0a",
   "metadata": {},
   "outputs": [
    {
     "data": {
      "text/plain": [
       "<tf.Tensor: shape=(4,), dtype=int32, numpy=array([5, 6, 7, 8])>"
      ]
     },
     "execution_count": 5,
     "metadata": {},
     "output_type": "execute_result"
    }
   ],
   "source": [
    "t1 = (1,2,3,4)\n",
    "t2 = (5,6,7,8)\n",
    " \n",
    "tf.maximum(t1,t2)"
   ]
  },
  {
   "cell_type": "code",
   "execution_count": 6,
   "id": "c8354565-f52a-4385-9169-6f8e0f005801",
   "metadata": {},
   "outputs": [
    {
     "data": {
      "text/plain": [
       "<tf.Tensor: shape=(4,), dtype=int32, numpy=array([10, 10, 10, 10])>"
      ]
     },
     "execution_count": 6,
     "metadata": {},
     "output_type": "execute_result"
    }
   ],
   "source": [
    "l1 = [1,2,3,4]   # Get Max Value of List/Tuple with Scaler\n",
    "a =10\n",
    "tf.maximum(l1, a)"
   ]
  },
  {
   "cell_type": "markdown",
   "id": "3aebebe7-3627-4413-b155-3dd7c863b24c",
   "metadata": {},
   "source": [
    "## Get Max Value of 2 Numpy Array"
   ]
  },
  {
   "cell_type": "code",
   "execution_count": 7,
   "id": "e57e673e-2c6d-468e-8564-9ec66e304420",
   "metadata": {},
   "outputs": [
    {
     "data": {
      "text/plain": [
       "<tf.Tensor: shape=(5,), dtype=int32, numpy=array([2, 4, 3, 9, 5])>"
      ]
     },
     "execution_count": 7,
     "metadata": {},
     "output_type": "execute_result"
    }
   ],
   "source": [
    "npa1 = np.array([1,4,3,9,5])\n",
    "npa2 = np.array([2,2,3,4,5])\n",
    " \n",
    "tf.maximum(npa1, npa2)"
   ]
  },
  {
   "cell_type": "markdown",
   "id": "563d6eef-107f-43d4-ae01-45fce56b6d95",
   "metadata": {},
   "source": [
    "## Get Max Value of Numpy array with Scaler"
   ]
  },
  {
   "cell_type": "code",
   "execution_count": 8,
   "id": "64477aa6-cf6f-4dbe-b434-8afbdfc856d4",
   "metadata": {},
   "outputs": [
    {
     "data": {
      "text/plain": [
       "<tf.Tensor: shape=(5,), dtype=int32, numpy=array([3, 3, 3, 4, 5])>"
      ]
     },
     "execution_count": 8,
     "metadata": {},
     "output_type": "execute_result"
    }
   ],
   "source": [
    "npa1 = np.array([1,2,3,4,5])\n",
    "a = 3\n",
    " \n",
    "tf.maximum(npa1, a)"
   ]
  },
  {
   "cell_type": "markdown",
   "id": "d7952eb6-d63c-4d4d-9760-54a9a1db8fc3",
   "metadata": {},
   "source": [
    "## Get Max Value of Numpy array with single element np array"
   ]
  },
  {
   "cell_type": "code",
   "execution_count": 9,
   "id": "fa0a0036-aa64-40ec-9990-41e07400cae6",
   "metadata": {},
   "outputs": [
    {
     "data": {
      "text/plain": [
       "<tf.Tensor: shape=(1, 5), dtype=int32, numpy=array([[2, 2, 3, 4, 5]])>"
      ]
     },
     "execution_count": 9,
     "metadata": {},
     "output_type": "execute_result"
    }
   ],
   "source": [
    "npa1 = np.array([1,2,3,4,5])\n",
    "npa2 = np.array([[2]])\n",
    " \n",
    "tf.maximum(npa1, npa2)"
   ]
  },
  {
   "cell_type": "markdown",
   "id": "537adacf-7a3a-4510-bc45-a6788173dffc",
   "metadata": {},
   "source": [
    "## Get Max Value of 2 TF Constant Tensor"
   ]
  },
  {
   "cell_type": "code",
   "execution_count": 10,
   "id": "8a81f50f-13c7-4a78-b42e-eef01f37de3d",
   "metadata": {},
   "outputs": [
    {
     "data": {
      "text/plain": [
       "<tf.Tensor: shape=(4,), dtype=int32, numpy=array([3, 2, 5, 8])>"
      ]
     },
     "execution_count": 10,
     "metadata": {},
     "output_type": "execute_result"
    }
   ],
   "source": [
    "tf_ct1 = tf.constant([2,2,3,8])\n",
    "tf_ct2 = tf.constant([3,2,5,4])\n",
    " \n",
    "tf.maximum(tf_ct1, tf_ct2)"
   ]
  },
  {
   "cell_type": "markdown",
   "id": "894bebb5-4800-4b25-8eab-76a112ca07dc",
   "metadata": {},
   "source": [
    "# Get Max Value of 2 TF Variable"
   ]
  },
  {
   "cell_type": "code",
   "execution_count": 11,
   "id": "2bc57076-9aba-4d14-8c03-e175da8cb878",
   "metadata": {},
   "outputs": [
    {
     "data": {
      "text/plain": [
       "<tf.Tensor: shape=(4,), dtype=int32, numpy=array([3, 2, 5, 8])>"
      ]
     },
     "execution_count": 11,
     "metadata": {},
     "output_type": "execute_result"
    }
   ],
   "source": [
    "tf_vr1 = tf.Variable([2,2,3,8])\n",
    "tf_vr2 = tf.Variable([3,2,5,4])\n",
    " \n",
    "tf.maximum(tf_vr1, tf_vr2)"
   ]
  },
  {
   "cell_type": "markdown",
   "id": "807f978f-7197-4f5d-92aa-b87345de65a3",
   "metadata": {},
   "source": [
    "## Get Max Value of TF Variable with Scaler"
   ]
  },
  {
   "cell_type": "code",
   "execution_count": 12,
   "id": "8bb6357f-143f-4900-98ba-5570bdd6d606",
   "metadata": {},
   "outputs": [
    {
     "data": {
      "text/plain": [
       "<tf.Tensor: shape=(4,), dtype=int32, numpy=array([3, 3, 5, 4])>"
      ]
     },
     "execution_count": 12,
     "metadata": {},
     "output_type": "execute_result"
    }
   ],
   "source": [
    "tf_vr1 = tf.Variable([3,2,5,4])\n",
    "a = 3\n",
    "tf.maximum(tf_vr1, a)"
   ]
  },
  {
   "cell_type": "code",
   "execution_count": null,
   "id": "b668550b-2bf6-4c64-8761-c96013ae328c",
   "metadata": {},
   "outputs": [],
   "source": []
  },
  {
   "cell_type": "code",
   "execution_count": null,
   "id": "1c6ea953-3667-458b-ba43-db867965d498",
   "metadata": {},
   "outputs": [],
   "source": []
  }
 ],
 "metadata": {
  "kernelspec": {
   "display_name": "Python 3 (ipykernel)",
   "language": "python",
   "name": "python3"
  },
  "language_info": {
   "codemirror_mode": {
    "name": "ipython",
    "version": 3
   },
   "file_extension": ".py",
   "mimetype": "text/x-python",
   "name": "python",
   "nbconvert_exporter": "python",
   "pygments_lexer": "ipython3",
   "version": "3.12.4"
  }
 },
 "nbformat": 4,
 "nbformat_minor": 5
}
