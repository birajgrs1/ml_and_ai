{
 "cells": [
  {
   "cell_type": "code",
   "execution_count": 3,
   "id": "2da0e383-ceaa-49d1-9c3f-ece05de0765e",
   "metadata": {},
   "outputs": [],
   "source": [
    "import tensorflow as tf \n",
    "import numpy as np\n",
    "\n",
    "# Syntax: tf.add(x, y, name=None)"
   ]
  },
  {
   "cell_type": "markdown",
   "id": "d9055692-d5c3-4583-ad6b-eb28d71a52fe",
   "metadata": {},
   "source": [
    "### Scaler adding"
   ]
  },
  {
   "cell_type": "code",
   "execution_count": 13,
   "id": "a3b162b5-c917-4348-8aad-5adae3e73be7",
   "metadata": {},
   "outputs": [
    {
     "name": "stdout",
     "output_type": "stream",
     "text": [
      "Added Value is 30.25. \n"
     ]
    }
   ],
   "source": [
    "x= 10.25\n",
    "y = 20\n",
    "\n",
    "add = tf.add(x,y,name ='scaler adding')   # name is optional\n",
    "# add\n",
    "print(f\"Added Value is {add}. \")"
   ]
  },
  {
   "cell_type": "markdown",
   "id": "7bef07fa-59c4-4e81-a3b2-b4525d05f1fd",
   "metadata": {},
   "source": [
    "### Adding lists "
   ]
  },
  {
   "cell_type": "code",
   "execution_count": 18,
   "id": "213d9bea-2871-495e-8b33-ab6274871384",
   "metadata": {},
   "outputs": [
    {
     "data": {
      "text/plain": [
       "<tf.Tensor: shape=(4,), dtype=int32, numpy=array([ 6,  8, 10, 12])>"
      ]
     },
     "execution_count": 18,
     "metadata": {},
     "output_type": "execute_result"
    }
   ],
   "source": [
    "ls1 = [1,2,3,4]\n",
    "ls2 = [5,6,7,8]\n",
    "\n",
    "added_ls = tf.add(ls1,ls2)\n",
    "added_ls"
   ]
  },
  {
   "cell_type": "markdown",
   "id": "8ae0b9db-5e4b-4134-9ce3-364282b218cf",
   "metadata": {},
   "source": [
    "### Adding tuples"
   ]
  },
  {
   "cell_type": "code",
   "execution_count": 19,
   "id": "73fad6ab-5b0d-455c-ba7a-ba062b5bb29d",
   "metadata": {},
   "outputs": [
    {
     "data": {
      "text/plain": [
       "<tf.Tensor: shape=(4,), dtype=int32, numpy=array([ 6,  8, 10, 12])>"
      ]
     },
     "execution_count": 19,
     "metadata": {},
     "output_type": "execute_result"
    }
   ],
   "source": [
    "tup1 = (1,2,3,4)\n",
    "tup2 = (5,6,7,8)\n",
    "\n",
    "added_tupls = tf.add(tup1, tup2)\n",
    "added_tupls"
   ]
  },
  {
   "cell_type": "markdown",
   "id": "e56675f8-1411-4e36-8b03-3f3ef6d20dab",
   "metadata": {},
   "source": [
    "### Adding list/tuples with scaler"
   ]
  },
  {
   "cell_type": "code",
   "execution_count": 38,
   "id": "7598da61-030e-4d5d-8de3-57cb43d9e507",
   "metadata": {},
   "outputs": [
    {
     "data": {
      "text/plain": [
       "<tf.Tensor: shape=(4,), dtype=int32, numpy=array([11, 12, 13, 14])>"
      ]
     },
     "execution_count": 38,
     "metadata": {},
     "output_type": "execute_result"
    }
   ],
   "source": [
    "ls = [1,2,3,4]\n",
    "x = 10\n",
    "\n",
    "add = tf.add(ls,x)\n",
    "add"
   ]
  },
  {
   "cell_type": "code",
   "execution_count": 23,
   "id": "29adfac5-1ddd-4f2e-a161-7edb122b9edf",
   "metadata": {},
   "outputs": [
    {
     "data": {
      "text/plain": [
       "<tf.Tensor: shape=(4,), dtype=int32, numpy=array([21, 22, 23, 24])>"
      ]
     },
     "execution_count": 23,
     "metadata": {},
     "output_type": "execute_result"
    }
   ],
   "source": [
    "tupls = (1,2,3,4)\n",
    "x = 20\n",
    "\n",
    "add = tf.add(tupls,x)\n",
    "add"
   ]
  },
  {
   "cell_type": "markdown",
   "id": "6ecc4738-849c-4359-9662-ae13bd652098",
   "metadata": {},
   "source": [
    "## Adding 2 list/tuples with different size\n",
    "\n",
    "#### ls1 = [1,2,3,4]\n",
    "#### ls2 = [5,6]\n",
    "\n",
    "#### add = tf.add(ls1,ls2)\n",
    "\n",
    "### Note:\n",
    "#### If the size of 2 variables is different then tf.add() function will through error.\n",
    "#### If any one of the variables contains only a single item then it will do the element-wise operation.\n",
    "\n",
    "\n",
    "\n",
    "\n",
    "###### Output:\n",
    "###### ...\n",
    "###### ...\n",
    "###### ...\n",
    "###### InvalidArgumentError: {{function_node __wrapped__AddV2_device_/job:localhost/replica:0/task:0/device:CPU:0}} Incompatible shapes:\n",
    "######  [4] vs. [2] [Op:AddV2] \n",
    "\n",
    "\n",
    "\n"
   ]
  },
  {
   "cell_type": "markdown",
   "id": "dfa7274d-90e2-41a5-a353-769da21d56d9",
   "metadata": {},
   "source": [
    "### Add 2 numpy Array"
   ]
  },
  {
   "cell_type": "code",
   "execution_count": 27,
   "id": "d25a60c9-cb4d-42c8-b9c4-6835552bde78",
   "metadata": {},
   "outputs": [
    {
     "name": "stdout",
     "output_type": "stream",
     "text": [
      "tf.Tensor([ 30  60  90 120 150], shape=(5,), dtype=int32)\n"
     ]
    }
   ],
   "source": [
    "\n",
    "arr1 = np.array([10,20,30,40,50])\n",
    "arr2 = np.array([20,40,60,80,100])\n",
    "\n",
    "sum_arrays = tf.add(arr1, arr2, name = 'Adding_arrays')\n",
    "print(sum_arrays)"
   ]
  },
  {
   "cell_type": "markdown",
   "id": "0dd7abd6-dfae-4373-8838-42b7c33c28f1",
   "metadata": {},
   "source": [
    "### Adding numpy array with scaler"
   ]
  },
  {
   "cell_type": "code",
   "execution_count": 30,
   "id": "e646c644-661b-4f11-aaea-4d620a7a1e65",
   "metadata": {},
   "outputs": [
    {
     "name": "stdout",
     "output_type": "stream",
     "text": [
      "tf.Tensor([25 35 45 55 65], shape=(5,), dtype=int32)\n"
     ]
    }
   ],
   "source": [
    "arr1 = np.array([10,20,30,40,50])\n",
    "# num = 15.5   # apply with same data types for array \n",
    "num = 15\n",
    "\n",
    "add_with_scaler = tf.add(arr1, num)\n",
    "print(add_with_scaler)"
   ]
  },
  {
   "cell_type": "markdown",
   "id": "66f02c8b-f6d7-490a-8340-2e605afd1c10",
   "metadata": {},
   "source": [
    "### Add numpy array with single element np array"
   ]
  },
  {
   "cell_type": "code",
   "execution_count": 32,
   "id": "b91a65d6-47c6-43e5-bb11-40834b610fa0",
   "metadata": {},
   "outputs": [
    {
     "data": {
      "text/plain": [
       "<tf.Tensor: shape=(5,), dtype=int32, numpy=array([15, 25, 35, 45, 55])>"
      ]
     },
     "execution_count": 32,
     "metadata": {},
     "output_type": "execute_result"
    }
   ],
   "source": [
    "arr1 = np.array([10,20,30,40,50])\n",
    "arr2 = ([5])\n",
    "add = tf.add(arr1,arr2)\n",
    "add"
   ]
  },
  {
   "cell_type": "markdown",
   "id": "3ca4188c-04c4-4d43-a9ff-c8693b6b09e1",
   "metadata": {},
   "source": [
    "### Add 2 TF Constant Tensor"
   ]
  },
  {
   "cell_type": "code",
   "execution_count": 33,
   "id": "1f2c8c46-cb5d-484f-938e-9fa70884c207",
   "metadata": {},
   "outputs": [
    {
     "name": "stdout",
     "output_type": "stream",
     "text": [
      "tf.Tensor([3 5 7 9], shape=(4,), dtype=int32)\n"
     ]
    }
   ],
   "source": [
    "const_tensor1 = tf.constant([1,2,3,4])\n",
    "const_tensor2 = tf.constant([2,3,4,5])\n",
    "\n",
    "add_constant_tensors = tf.add(const_tensor1, const_tensor2)\n",
    "print(add_constant_tensors )"
   ]
  },
  {
   "cell_type": "markdown",
   "id": "729d19c0-18ad-4f55-9f7f-63b9eedd198f",
   "metadata": {},
   "source": [
    "### Add TF Constant Tensor with Scaler"
   ]
  },
  {
   "cell_type": "code",
   "execution_count": 34,
   "id": "7cbc6be9-526b-46a8-b159-31a03edb86c4",
   "metadata": {},
   "outputs": [
    {
     "data": {
      "text/plain": [
       "<tf.Tensor: shape=(4,), dtype=int32, numpy=array([21, 22, 23, 24])>"
      ]
     },
     "execution_count": 34,
     "metadata": {},
     "output_type": "execute_result"
    }
   ],
   "source": [
    "const_tensor1 = tf.constant([1,2,3,4])\n",
    "x = 20\n",
    "\n",
    "tf.add(const_tensor1, x)"
   ]
  },
  {
   "cell_type": "markdown",
   "id": "ec8f7a7a-518b-4dc0-ae5a-22c953bb4db8",
   "metadata": {},
   "source": [
    "### Add 2 TF Variable"
   ]
  },
  {
   "cell_type": "code",
   "execution_count": 35,
   "id": "a2cecc63-6a8b-496b-9738-b48b2db3f16f",
   "metadata": {},
   "outputs": [
    {
     "data": {
      "text/plain": [
       "<tf.Tensor: shape=(4,), dtype=int32, numpy=array([ 3,  6,  8, 11])>"
      ]
     },
     "execution_count": 35,
     "metadata": {},
     "output_type": "execute_result"
    }
   ],
   "source": [
    "var_tensor1 = tf.Variable([1,2,3,4])\n",
    "var_tensor2 = tf.Variable([2,4,5,7])\n",
    "\n",
    "tf.add(var_tensor1, var_tensor2)"
   ]
  },
  {
   "cell_type": "markdown",
   "id": "d72b6e9e-a887-43ca-8d1f-dd577c47ff68",
   "metadata": {},
   "source": [
    "### Add TF Variable with Scaler"
   ]
  },
  {
   "cell_type": "code",
   "execution_count": 36,
   "id": "e75140a8-b0ce-495b-b9bf-a2eb2ca93979",
   "metadata": {},
   "outputs": [
    {
     "data": {
      "text/plain": [
       "<tf.Tensor: shape=(4,), dtype=int32, numpy=array([16, 17, 18, 19])>"
      ]
     },
     "execution_count": 36,
     "metadata": {},
     "output_type": "execute_result"
    }
   ],
   "source": [
    "var_tensor1 = tf.Variable([1,2,3,4])\n",
    "x = 15\n",
    "\n",
    "tf.add(var_tensor1, x)"
   ]
  },
  {
   "cell_type": "markdown",
   "id": "eb70f54b-ddd6-4f98-a356-e8b7669b6cdd",
   "metadata": {},
   "source": [
    "### Add 2 Numpy array with different Shape"
   ]
  },
  {
   "cell_type": "code",
   "execution_count": 37,
   "id": "357607ba-0de2-4292-b4db-694b398e3cf1",
   "metadata": {},
   "outputs": [
    {
     "name": "stdout",
     "output_type": "stream",
     "text": [
      "x:  [[[[1. 1. 1.]]\n",
      "\n",
      "  [[1. 1. 1.]]]]\n",
      "y:  [[[[1.]\n",
      "   [1.]\n",
      "   [1.]]]\n",
      "\n",
      "\n",
      " [[[1.]\n",
      "   [1.]\n",
      "   [1.]]]]\n"
     ]
    },
    {
     "data": {
      "text/plain": [
       "<tf.Tensor: shape=(2, 2, 3, 3), dtype=float64, numpy=\n",
       "array([[[[2., 2., 2.],\n",
       "         [2., 2., 2.],\n",
       "         [2., 2., 2.]],\n",
       "\n",
       "        [[2., 2., 2.],\n",
       "         [2., 2., 2.],\n",
       "         [2., 2., 2.]]],\n",
       "\n",
       "\n",
       "       [[[2., 2., 2.],\n",
       "         [2., 2., 2.],\n",
       "         [2., 2., 2.]],\n",
       "\n",
       "        [[2., 2., 2.],\n",
       "         [2., 2., 2.],\n",
       "         [2., 2., 2.]]]])>"
      ]
     },
     "execution_count": 37,
     "metadata": {},
     "output_type": "execute_result"
    }
   ],
   "source": [
    "x = np.ones(6).reshape(1, 2, 1, 3) # (2,2,3,3)\n",
    "print(\"x: \", x)\n",
    "y = np.ones(6).reshape(2, 1, 3, 1)\n",
    "print(\"y: \", y)\n",
    " \n",
    "tf.add(x, y)"
   ]
  },
  {
   "cell_type": "code",
   "execution_count": null,
   "id": "40e61b40-1f62-470e-9991-c57d88c261a7",
   "metadata": {},
   "outputs": [],
   "source": []
  }
 ],
 "metadata": {
  "kernelspec": {
   "display_name": "Python 3 (ipykernel)",
   "language": "python",
   "name": "python3"
  },
  "language_info": {
   "codemirror_mode": {
    "name": "ipython",
    "version": 3
   },
   "file_extension": ".py",
   "mimetype": "text/x-python",
   "name": "python",
   "nbconvert_exporter": "python",
   "pygments_lexer": "ipython3",
   "version": "3.12.4"
  }
 },
 "nbformat": 4,
 "nbformat_minor": 5
}
