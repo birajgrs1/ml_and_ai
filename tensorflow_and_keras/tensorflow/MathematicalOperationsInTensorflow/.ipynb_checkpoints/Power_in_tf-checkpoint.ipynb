{
 "cells": [
  {
   "cell_type": "code",
   "execution_count": 2,
   "id": "4b53a24c-8f63-49de-af11-83fc267c9a87",
   "metadata": {},
   "outputs": [],
   "source": [
    "# Importing libraries\n",
    "import tensorflow as tf\n",
    "import numpy as np\n",
    "\n",
    "#  Syntax: tf.pow(x, y, name=None)"
   ]
  },
  {
   "cell_type": "markdown",
   "id": "0b41ac6a-59b1-4621-9466-ad1c6d9a996a",
   "metadata": {},
   "source": [
    "## Power of Scaler"
   ]
  },
  {
   "cell_type": "code",
   "execution_count": 3,
   "id": "e118424d-8cd0-4f56-b565-3960a645d4b4",
   "metadata": {},
   "outputs": [
    {
     "data": {
      "text/plain": [
       "<tf.Tensor: shape=(), dtype=int32, numpy=16>"
      ]
     },
     "execution_count": 3,
     "metadata": {},
     "output_type": "execute_result"
    }
   ],
   "source": [
    "a = 4\n",
    "b = 2\n",
    " \n",
    "tf.pow(a, b)"
   ]
  },
  {
   "cell_type": "markdown",
   "id": "ab2da17d-bac7-42db-9fed-ad2e2ee21c9c",
   "metadata": {},
   "source": [
    "## Power of numpy array"
   ]
  },
  {
   "cell_type": "code",
   "execution_count": 4,
   "id": "319fa211-28e6-4322-acbe-8c396687eb4b",
   "metadata": {},
   "outputs": [
    {
     "data": {
      "text/plain": [
       "<tf.Tensor: shape=(3,), dtype=float64, numpy=array([ 16.,  81., 256.])>"
      ]
     },
     "execution_count": 4,
     "metadata": {},
     "output_type": "execute_result"
    }
   ],
   "source": [
    "arr1 = np.array([4,9,16], dtype = np.float64)\n",
    " \n",
    "tf.pow(arr1, 2)"
   ]
  },
  {
   "cell_type": "code",
   "execution_count": 5,
   "id": "8fbc455b-f9f0-4582-b345-24ade2953995",
   "metadata": {},
   "outputs": [
    {
     "data": {
      "text/plain": [
       "<tf.Tensor: shape=(3,), dtype=float64, numpy=array([ 1.,  4., 27.])>"
      ]
     },
     "execution_count": 5,
     "metadata": {},
     "output_type": "execute_result"
    }
   ],
   "source": [
    "ar1 = np.array([1,2,3], dtype = np.float64)\n",
    "ar2 = np.array([1,2,3], dtype = np.float64)\n",
    " \n",
    "tf.pow(ar1, ar2)"
   ]
  },
  {
   "cell_type": "code",
   "execution_count": 6,
   "id": "dbe9d10b-e57f-463b-89aa-c2c26fbeadb7",
   "metadata": {},
   "outputs": [
    {
     "name": "stdout",
     "output_type": "stream",
     "text": [
      "y :  [[[[4.]\n",
      "   [4.]\n",
      "   [4.]]]\n",
      "\n",
      "\n",
      " [[[4.]\n",
      "   [4.]\n",
      "   [4.]]]]\n"
     ]
    },
    {
     "data": {
      "text/plain": [
       "<tf.Tensor: shape=(2, 1, 3, 1), dtype=float64, numpy=\n",
       "array([[[[16.],\n",
       "         [16.],\n",
       "         [16.]]],\n",
       "\n",
       "\n",
       "       [[[16.],\n",
       "         [16.],\n",
       "         [16.]]]])>"
      ]
     },
     "execution_count": 6,
     "metadata": {},
     "output_type": "execute_result"
    }
   ],
   "source": [
    "y = np.ones(6).reshape(2, 1, 3, 1)*4\n",
    "print(\"y : \", y)\n",
    "tf.pow(y, 2)"
   ]
  },
  {
   "cell_type": "markdown",
   "id": "26385d83-ce99-4e00-9711-2a7a904d60e4",
   "metadata": {},
   "source": [
    "## Power of Tensor"
   ]
  },
  {
   "cell_type": "code",
   "execution_count": 7,
   "id": "060b6d7e-6c59-4b77-b70b-3666de02773c",
   "metadata": {},
   "outputs": [
    {
     "data": {
      "text/plain": [
       "<tf.Tensor: shape=(3,), dtype=float32, numpy=array([  64.,  729., 4096.], dtype=float32)>"
      ]
     },
     "execution_count": 7,
     "metadata": {},
     "output_type": "execute_result"
    }
   ],
   "source": [
    "tf_ct1 = tf.constant([4,9,16], dtype='float')\n",
    " \n",
    "tf.pow(tf_ct1, 3)"
   ]
  },
  {
   "cell_type": "code",
   "execution_count": 8,
   "id": "75ed364f-bac0-4152-badf-d1032ea87bfa",
   "metadata": {},
   "outputs": [
    {
     "data": {
      "text/plain": [
       "<tf.Tensor: shape=(3,), dtype=float32, numpy=array([64., 81., 16.], dtype=float32)>"
      ]
     },
     "execution_count": 8,
     "metadata": {},
     "output_type": "execute_result"
    }
   ],
   "source": [
    "tf_ct1 = tf.constant([4,9,16], dtype='float')\n",
    "tf_ct2 = tf.constant([3,2,1], dtype='float')\n",
    " \n",
    "tf.pow(tf_ct1, tf_ct2)"
   ]
  },
  {
   "cell_type": "markdown",
   "id": "730439d5-75b5-4551-a15a-a15a592dcf56",
   "metadata": {},
   "source": [
    "## Power of TF Variable"
   ]
  },
  {
   "cell_type": "code",
   "execution_count": 9,
   "id": "633d6f4b-bb95-4855-9972-ab648aea34e3",
   "metadata": {},
   "outputs": [
    {
     "data": {
      "text/plain": [
       "<tf.Tensor: shape=(3,), dtype=float16, numpy=array([ 16.,  81., 256.], dtype=float16)>"
      ]
     },
     "execution_count": 9,
     "metadata": {},
     "output_type": "execute_result"
    }
   ],
   "source": [
    "tf_vr1 = tf.Variable([4,9,16], dtype='half')\n",
    " \n",
    "tf.pow(tf_vr1, 2)"
   ]
  },
  {
   "cell_type": "code",
   "execution_count": 10,
   "id": "1e9623e3-ad1e-4866-91ac-a63633ed64ec",
   "metadata": {},
   "outputs": [
    {
     "data": {
      "text/plain": [
       "<tf.Tensor: shape=(3,), dtype=float32, numpy=array([64., 81., 16.], dtype=float32)>"
      ]
     },
     "execution_count": 10,
     "metadata": {},
     "output_type": "execute_result"
    }
   ],
   "source": [
    "tf_vr1 = tf.Variable([4,9,16], dtype='float')\n",
    "tf_vr2 = tf.Variable([3,2,1], dtype='float')\n",
    " \n",
    "tf.pow(tf_vr1, tf_vr2)"
   ]
  },
  {
   "cell_type": "code",
   "execution_count": 11,
   "id": "2c326142-0aa6-41ad-8f9a-8b294b2299b4",
   "metadata": {},
   "outputs": [
    {
     "data": {
      "text/plain": [
       "<tf.Tensor: shape=(3,), dtype=float32, numpy=array([  64.,  729., 4096.], dtype=float32)>"
      ]
     },
     "execution_count": 11,
     "metadata": {},
     "output_type": "execute_result"
    }
   ],
   "source": [
    "tf_vr1 = tf.Variable([4,9,16], dtype='float')\n",
    "tf_vr2 = tf.Variable([3], dtype='float')\n",
    " \n",
    "tf.pow(tf_vr1, tf_vr2)"
   ]
  },
  {
   "cell_type": "code",
   "execution_count": null,
   "id": "ba030113-66e3-4c02-8a42-7c3df96f4faa",
   "metadata": {},
   "outputs": [],
   "source": []
  },
  {
   "cell_type": "code",
   "execution_count": null,
   "id": "4af84622-a39b-4790-845a-014e632f8d3f",
   "metadata": {},
   "outputs": [],
   "source": []
  },
  {
   "cell_type": "code",
   "execution_count": null,
   "id": "616f20bc-39b8-4dd2-893d-dbb4cecbc59d",
   "metadata": {},
   "outputs": [],
   "source": []
  }
 ],
 "metadata": {
  "kernelspec": {
   "display_name": "Python 3 (ipykernel)",
   "language": "python",
   "name": "python3"
  },
  "language_info": {
   "codemirror_mode": {
    "name": "ipython",
    "version": 3
   },
   "file_extension": ".py",
   "mimetype": "text/x-python",
   "name": "python",
   "nbconvert_exporter": "python",
   "pygments_lexer": "ipython3",
   "version": "3.12.4"
  }
 },
 "nbformat": 4,
 "nbformat_minor": 5
}
