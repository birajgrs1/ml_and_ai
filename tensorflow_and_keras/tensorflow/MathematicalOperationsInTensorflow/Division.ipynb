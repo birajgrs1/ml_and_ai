{
 "cells": [
  {
   "cell_type": "code",
   "execution_count": 1,
   "id": "dc0604a1-013f-482d-a69a-115e71649f31",
   "metadata": {},
   "outputs": [],
   "source": [
    "import tensorflow as tf \n",
    "import numpy as np\n",
    "\n",
    "# Syntax: tf.divide(x, y, name=None)"
   ]
  },
  {
   "cell_type": "markdown",
   "id": "c6204bb9-2872-4e6c-8b91-c08a6e9a88e6",
   "metadata": {},
   "source": [
    "### Scaler division"
   ]
  },
  {
   "cell_type": "code",
   "execution_count": 6,
   "id": "fd366247-d206-4e0c-8fe7-2fada702a9ef",
   "metadata": {},
   "outputs": [
    {
     "name": "stdout",
     "output_type": "stream",
     "text": [
      " a/b = 0.5\n",
      " a/b = 0\n"
     ]
    },
    {
     "data": {
      "text/plain": [
       "<tf.Tensor: shape=(), dtype=float64, numpy=0.5>"
      ]
     },
     "execution_count": 6,
     "metadata": {},
     "output_type": "execute_result"
    }
   ],
   "source": [
    "a = 10\n",
    "b = 20\n",
    "print(\" a/b =\", a/b)\n",
    "print(\" a/b =\", a//b)\n",
    " \n",
    "tf.divide(a,b) "
   ]
  },
  {
   "cell_type": "code",
   "execution_count": 7,
   "id": "a276bb1b-57bb-42e1-b6e2-27106998186d",
   "metadata": {},
   "outputs": [
    {
     "data": {
      "text/plain": [
       "<tf.Tensor: shape=(), dtype=float64, numpy=2.0>"
      ]
     },
     "execution_count": 7,
     "metadata": {},
     "output_type": "execute_result"
    }
   ],
   "source": [
    "tf.divide(b, a)"
   ]
  },
  {
   "cell_type": "markdown",
   "id": "005a7874-e2c1-4e1c-9c00-64326bc0768a",
   "metadata": {},
   "source": [
    "### Divide 2 Numpy Array"
   ]
  },
  {
   "cell_type": "code",
   "execution_count": 8,
   "id": "df70c9b2-6a1d-43ab-b69b-8f7bd6308edf",
   "metadata": {},
   "outputs": [
    {
     "data": {
      "text/plain": [
       "<tf.Tensor: shape=(5,), dtype=float64, numpy=array([1., 1., 1., 1., 1.])>"
      ]
     },
     "execution_count": 8,
     "metadata": {},
     "output_type": "execute_result"
    }
   ],
   "source": [
    "npa1 = np.array([1,2,3,4,5])\n",
    "npa2 = np.array([1,2,3,4,5])\n",
    " \n",
    "tf.divide(npa1, npa2)"
   ]
  },
  {
   "cell_type": "markdown",
   "id": "d3923c69-6551-4371-944d-23bc4c657df3",
   "metadata": {},
   "source": [
    "### Divide Numpy array with Scaler"
   ]
  },
  {
   "cell_type": "code",
   "execution_count": 9,
   "id": "f970efb7-2d02-423e-8941-6929aa52159a",
   "metadata": {},
   "outputs": [
    {
     "data": {
      "text/plain": [
       "<tf.Tensor: shape=(5,), dtype=float64, numpy=array([0.1, 0.2, 0.3, 0.4, 0.5])>"
      ]
     },
     "execution_count": 9,
     "metadata": {},
     "output_type": "execute_result"
    }
   ],
   "source": [
    "npa1 = np.array([1,2,3,4,5])\n",
    "a = 10\n",
    " \n",
    "tf.divide(npa1, a)"
   ]
  },
  {
   "cell_type": "markdown",
   "id": "a8d3c874-d761-45b5-ac59-7c73d058e653",
   "metadata": {},
   "source": [
    "### Divide Numpy array with single element np array"
   ]
  },
  {
   "cell_type": "code",
   "execution_count": 10,
   "id": "9b88fb83-915e-4d01-9a50-65330d64b8ec",
   "metadata": {},
   "outputs": [
    {
     "data": {
      "text/plain": [
       "<tf.Tensor: shape=(1, 5), dtype=float64, numpy=array([[1., 2., 3., 4., 5.]])>"
      ]
     },
     "execution_count": 10,
     "metadata": {},
     "output_type": "execute_result"
    }
   ],
   "source": [
    "npa1 = np.array([1,2,3,4,5])\n",
    "npa2 = np.array([[1]])\n",
    " \n",
    "tf.divide(npa1, npa2)"
   ]
  },
  {
   "cell_type": "markdown",
   "id": "8a154979-b90d-4eee-9df0-eec2a59cc4a4",
   "metadata": {},
   "source": [
    "### Divide 2 TF Constant Tensor"
   ]
  },
  {
   "cell_type": "code",
   "execution_count": 11,
   "id": "f9c642b4-d803-43c4-a700-2943a622d47b",
   "metadata": {},
   "outputs": [
    {
     "data": {
      "text/plain": [
       "<tf.Tensor: shape=(4,), dtype=float64, numpy=array([1., 1., 1., 1.])>"
      ]
     },
     "execution_count": 11,
     "metadata": {},
     "output_type": "execute_result"
    }
   ],
   "source": [
    "tf_ct1 = tf.constant([1,2,3,4])\n",
    "tf_ct2 = tf.constant([1,2,3,4])\n",
    " \n",
    "tf.divide(tf_ct1, tf_ct2)"
   ]
  },
  {
   "cell_type": "code",
   "execution_count": 12,
   "id": "812590b5-dd46-4b09-b2d9-47c97fb9f608",
   "metadata": {},
   "outputs": [
    {
     "data": {
      "text/plain": [
       "<tf.Tensor: shape=(4,), dtype=float64, numpy=array([1., 1., 1., 1.])>"
      ]
     },
     "execution_count": 12,
     "metadata": {},
     "output_type": "execute_result"
    }
   ],
   "source": [
    "# Division with operator /\n",
    "tf_ct1 = tf.constant([1,2,3,4])\n",
    "tf_ct2 = tf.constant([1,2,3,4])\n",
    " \n",
    "tf_ct1 / tf_ct2"
   ]
  },
  {
   "cell_type": "code",
   "execution_count": 13,
   "id": "1940ee00-b9a3-49d1-9f4d-c846613e9dd2",
   "metadata": {},
   "outputs": [
    {
     "data": {
      "text/plain": [
       "<tf.Tensor: shape=(4,), dtype=int32, numpy=array([1, 1, 1, 1])>"
      ]
     },
     "execution_count": 13,
     "metadata": {},
     "output_type": "execute_result"
    }
   ],
   "source": [
    "# Division with operator /\n",
    "tf_ct1 = tf.constant([1,2,3,4])\n",
    "tf_ct2 = tf.constant([1,2,3,4])\n",
    " \n",
    "tf_ct1 // tf_ct2"
   ]
  },
  {
   "cell_type": "markdown",
   "id": "fdff18bb-5f23-4e6b-bee2-8dddaceda89a",
   "metadata": {},
   "source": [
    "### Divide TF Constant Tensor with Scaler"
   ]
  },
  {
   "cell_type": "code",
   "execution_count": 14,
   "id": "6c1c493e-7ae2-4151-b68e-e3494caaee6c",
   "metadata": {},
   "outputs": [
    {
     "data": {
      "text/plain": [
       "<tf.Tensor: shape=(4,), dtype=float64, numpy=array([0.1, 0.2, 0.3, 0.4])>"
      ]
     },
     "execution_count": 14,
     "metadata": {},
     "output_type": "execute_result"
    }
   ],
   "source": [
    "tf_ct1 = tf.constant([1,2,3,4])\n",
    "a = 10\n",
    "tf.divide(tf_ct1, a)"
   ]
  },
  {
   "cell_type": "code",
   "execution_count": 15,
   "id": "7dd319f0-7c55-4b95-9804-677107e06f09",
   "metadata": {},
   "outputs": [
    {
     "data": {
      "text/plain": [
       "<tf.Tensor: shape=(4,), dtype=float64, numpy=array([0.1, 0.2, 0.3, 0.4])>"
      ]
     },
     "execution_count": 15,
     "metadata": {},
     "output_type": "execute_result"
    }
   ],
   "source": [
    "# division with operator /\n",
    "tf_ct1 = tf.constant([1,2,3,4])\n",
    "a = 10\n",
    "tf_ct1 / a"
   ]
  },
  {
   "cell_type": "markdown",
   "id": "78add581-ee92-45c6-b64a-fecc8982e38c",
   "metadata": {},
   "source": [
    "### Divide 2 TF Variable"
   ]
  },
  {
   "cell_type": "code",
   "execution_count": 16,
   "id": "d91a0613-5d99-435c-b8c4-97090c3b9a56",
   "metadata": {},
   "outputs": [
    {
     "data": {
      "text/plain": [
       "<tf.Tensor: shape=(4,), dtype=float64, numpy=array([1., 1., 1., 1.])>"
      ]
     },
     "execution_count": 16,
     "metadata": {},
     "output_type": "execute_result"
    }
   ],
   "source": [
    "tf_vr1 = tf.Variable([1,2,3,4])\n",
    "tf_vr2 = tf.Variable([1,2,3,4])\n",
    " \n",
    "tf.divide(tf_vr1, tf_vr2)"
   ]
  },
  {
   "cell_type": "markdown",
   "id": "66badc27-3edd-44fa-9f45-e978ec99db60",
   "metadata": {},
   "source": [
    "# Divide 2 Numpy array with different Shape"
   ]
  },
  {
   "cell_type": "code",
   "execution_count": 17,
   "id": "e10917b9-3b13-4856-9e6b-85f07df42f33",
   "metadata": {},
   "outputs": [
    {
     "name": "stdout",
     "output_type": "stream",
     "text": [
      "x:  [[[[1. 1. 1.]]\n",
      "\n",
      "  [[1. 1. 1.]]]]\n",
      "y:  [[[[1.]\n",
      "   [1.]\n",
      "   [1.]]]\n",
      "\n",
      "\n",
      " [[[1.]\n",
      "   [1.]\n",
      "   [1.]]]]\n"
     ]
    },
    {
     "data": {
      "text/plain": [
       "<tf.Tensor: shape=(2, 2, 3, 3), dtype=float64, numpy=\n",
       "array([[[[1., 1., 1.],\n",
       "         [1., 1., 1.],\n",
       "         [1., 1., 1.]],\n",
       "\n",
       "        [[1., 1., 1.],\n",
       "         [1., 1., 1.],\n",
       "         [1., 1., 1.]]],\n",
       "\n",
       "\n",
       "       [[[1., 1., 1.],\n",
       "         [1., 1., 1.],\n",
       "         [1., 1., 1.]],\n",
       "\n",
       "        [[1., 1., 1.],\n",
       "         [1., 1., 1.],\n",
       "         [1., 1., 1.]]]])>"
      ]
     },
     "execution_count": 17,
     "metadata": {},
     "output_type": "execute_result"
    }
   ],
   "source": [
    "x = np.ones(6).reshape(1, 2, 1, 3) # (2,2,3,3)\n",
    "print(\"x: \", x)\n",
    "y = np.ones(6).reshape(2, 1, 3, 1)\n",
    "print(\"y: \", y)\n",
    " \n",
    "tf.divide(x, y)"
   ]
  },
  {
   "cell_type": "code",
   "execution_count": null,
   "id": "2637e1e5-76df-4e6f-ab34-87dfc464e010",
   "metadata": {},
   "outputs": [],
   "source": []
  },
  {
   "cell_type": "code",
   "execution_count": null,
   "id": "3d65d71b-fc69-42b6-b366-21bb27345fff",
   "metadata": {},
   "outputs": [],
   "source": []
  },
  {
   "cell_type": "code",
   "execution_count": null,
   "id": "93379c83-bd1f-4d2d-b722-990493a81798",
   "metadata": {},
   "outputs": [],
   "source": []
  }
 ],
 "metadata": {
  "kernelspec": {
   "display_name": "Python 3 (ipykernel)",
   "language": "python",
   "name": "python3"
  },
  "language_info": {
   "codemirror_mode": {
    "name": "ipython",
    "version": 3
   },
   "file_extension": ".py",
   "mimetype": "text/x-python",
   "name": "python",
   "nbconvert_exporter": "python",
   "pygments_lexer": "ipython3",
   "version": "3.12.4"
  }
 },
 "nbformat": 4,
 "nbformat_minor": 5
}
