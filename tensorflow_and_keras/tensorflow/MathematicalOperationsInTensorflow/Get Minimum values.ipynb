{
 "cells": [
  {
   "cell_type": "code",
   "execution_count": 4,
   "id": "b662e2ec-52e6-462d-8e5f-c4b993d12a38",
   "metadata": {},
   "outputs": [],
   "source": [
    "#  Importing libraries\n",
    "\n",
    "import tensorflow as tf \n",
    "import numpy as np \n",
    "\n",
    "# Syntax: tf.minimum(x, y, name=None)"
   ]
  },
  {
   "cell_type": "markdown",
   "id": "4e8bb1b5-d7b3-47a5-b2ea-de67a3cafa62",
   "metadata": {},
   "source": [
    "# Get Min Value of Scaler"
   ]
  },
  {
   "cell_type": "code",
   "execution_count": 5,
   "id": "5e17085f-3b8e-4012-8c0f-71be0f9ef652",
   "metadata": {},
   "outputs": [
    {
     "data": {
      "text/plain": [
       "<tf.Tensor: shape=(), dtype=int32, numpy=10>"
      ]
     },
     "execution_count": 5,
     "metadata": {},
     "output_type": "execute_result"
    }
   ],
   "source": [
    "a = 10\n",
    "b = 20\n",
    " \n",
    "tf.minimum(a,b)"
   ]
  },
  {
   "cell_type": "markdown",
   "id": "e3a62c53-60ee-418f-aef1-41706766f316",
   "metadata": {},
   "source": [
    "# Get Min Value of 2 List"
   ]
  },
  {
   "cell_type": "code",
   "execution_count": 6,
   "id": "7006d3bf-27cf-49f8-9bde-58249e0916e0",
   "metadata": {},
   "outputs": [
    {
     "data": {
      "text/plain": [
       "<tf.Tensor: shape=(4,), dtype=int32, numpy=array([1, 2, 3, 4])>"
      ]
     },
     "execution_count": 6,
     "metadata": {},
     "output_type": "execute_result"
    }
   ],
   "source": [
    "l1 = [1,2,3,4]\n",
    "l2 = [5,6,7,8]\n",
    " \n",
    "tf.minimum(l1, l2)"
   ]
  },
  {
   "cell_type": "markdown",
   "id": "09385af7-e5f4-41da-9383-a0a842ce6063",
   "metadata": {},
   "source": [
    "# Get Min Value of 2 Tuple"
   ]
  },
  {
   "cell_type": "code",
   "execution_count": 7,
   "id": "2b8e02f4-cc78-4d76-89e7-da3d91f87752",
   "metadata": {},
   "outputs": [
    {
     "data": {
      "text/plain": [
       "<tf.Tensor: shape=(4,), dtype=int32, numpy=array([1, 2, 3, 4])>"
      ]
     },
     "execution_count": 7,
     "metadata": {},
     "output_type": "execute_result"
    }
   ],
   "source": [
    "t1 = (1,2,3,4)\n",
    "t2 = (5,6,7,8)\n",
    " \n",
    "tf.minimum(t1,t2)"
   ]
  },
  {
   "cell_type": "markdown",
   "id": "dbef04ac-9ddc-4a25-a1d3-8ce0d877392d",
   "metadata": {},
   "source": [
    "# Get Min Value of List/Tuple with Scaler"
   ]
  },
  {
   "cell_type": "code",
   "execution_count": 8,
   "id": "6cfd4bcc-d28a-4373-9242-fec75a07b9c4",
   "metadata": {},
   "outputs": [
    {
     "data": {
      "text/plain": [
       "<tf.Tensor: shape=(4,), dtype=int32, numpy=array([1, 2, 3, 4])>"
      ]
     },
     "execution_count": 8,
     "metadata": {},
     "output_type": "execute_result"
    }
   ],
   "source": [
    "l1 = [1,2,3,4]\n",
    "a =10\n",
    "tf.minimum(l1, a)"
   ]
  },
  {
   "cell_type": "markdown",
   "id": "8da775b7-1c9e-4aa1-b5ff-c0f9406f5f02",
   "metadata": {},
   "source": [
    "# Get Min Value of 2 Numpy Array"
   ]
  },
  {
   "cell_type": "code",
   "execution_count": 9,
   "id": "a2534f77-9cda-431e-a97f-eed4b2fca949",
   "metadata": {},
   "outputs": [
    {
     "data": {
      "text/plain": [
       "<tf.Tensor: shape=(5,), dtype=int32, numpy=array([1, 2, 3, 4, 5])>"
      ]
     },
     "execution_count": 9,
     "metadata": {},
     "output_type": "execute_result"
    }
   ],
   "source": [
    "npa1 = np.array([1,4,3,9,5])\n",
    "npa2 = np.array([2,2,3,4,5])\n",
    " \n",
    "tf.minimum(npa1, npa2)"
   ]
  },
  {
   "cell_type": "markdown",
   "id": "88df3b4f-d408-4b0a-bda5-00be64856d96",
   "metadata": {},
   "source": [
    "# Get Min Value of Numpy array with Scaler"
   ]
  },
  {
   "cell_type": "code",
   "execution_count": 10,
   "id": "27b9a4e8-96df-4307-b732-5216590dcf8e",
   "metadata": {},
   "outputs": [
    {
     "data": {
      "text/plain": [
       "<tf.Tensor: shape=(5,), dtype=int32, numpy=array([1, 2, 3, 4, 5])>"
      ]
     },
     "execution_count": 10,
     "metadata": {},
     "output_type": "execute_result"
    }
   ],
   "source": [
    "npa1 = np.array([1,2,3,4,5])\n",
    "a = 10\n",
    " \n",
    "tf.minimum(npa1, a)"
   ]
  },
  {
   "cell_type": "markdown",
   "id": "0950befa-08ba-44a1-905f-af824b42a135",
   "metadata": {},
   "source": [
    "# Get Min Value of Numpy array with single element np array"
   ]
  },
  {
   "cell_type": "code",
   "execution_count": 11,
   "id": "2e12bbcd-5d16-4e32-ba6a-94e7ef208a29",
   "metadata": {},
   "outputs": [
    {
     "data": {
      "text/plain": [
       "<tf.Tensor: shape=(1, 5), dtype=int32, numpy=array([[1, 2, 2, 2, 2]])>"
      ]
     },
     "execution_count": 11,
     "metadata": {},
     "output_type": "execute_result"
    }
   ],
   "source": [
    "npa1 = np.array([1,2,3,4,5])\n",
    "npa2 = np.array([[2]])\n",
    " \n",
    "tf.minimum(npa1, npa2)"
   ]
  },
  {
   "cell_type": "markdown",
   "id": "a2b60ad9-f408-4a53-a43e-f696081181f4",
   "metadata": {},
   "source": [
    "# Get Min Value of 2 TF Constant Tensor"
   ]
  },
  {
   "cell_type": "code",
   "execution_count": 12,
   "id": "69e12c4e-0a27-4202-aee5-af112446a2ba",
   "metadata": {},
   "outputs": [
    {
     "data": {
      "text/plain": [
       "<tf.Tensor: shape=(4,), dtype=int32, numpy=array([2, 2, 3, 4])>"
      ]
     },
     "execution_count": 12,
     "metadata": {},
     "output_type": "execute_result"
    }
   ],
   "source": [
    "tf_ct1 = tf.constant([2,2,3,8])\n",
    "tf_ct2 = tf.constant([3,2,5,4])\n",
    " \n",
    "tf.minimum(tf_ct1, tf_ct2)"
   ]
  },
  {
   "cell_type": "markdown",
   "id": "f88f4df6-c60f-414a-bd2a-661966683f48",
   "metadata": {},
   "source": [
    "# Get Min Value of TF Constant Tensor with Scaler"
   ]
  },
  {
   "cell_type": "code",
   "execution_count": 13,
   "id": "d16de48f-1eeb-40f4-b9e8-4a7582d4f6c4",
   "metadata": {},
   "outputs": [
    {
     "data": {
      "text/plain": [
       "<tf.Tensor: shape=(4,), dtype=int32, numpy=array([1, 2, 3, 4])>"
      ]
     },
     "execution_count": 13,
     "metadata": {},
     "output_type": "execute_result"
    }
   ],
   "source": [
    "tf_ct1 = tf.constant([1,2,3,4])\n",
    "a = 10\n",
    "tf.minimum(tf_ct1, a)"
   ]
  },
  {
   "cell_type": "markdown",
   "id": "55149617-4f3d-4da4-97e1-0bd60cf488f7",
   "metadata": {},
   "source": [
    "# Get Min Value of 2 TF Variable"
   ]
  },
  {
   "cell_type": "code",
   "execution_count": 14,
   "id": "5e150069-de4b-44ae-99c5-9ea484f47536",
   "metadata": {},
   "outputs": [
    {
     "data": {
      "text/plain": [
       "<tf.Tensor: shape=(4,), dtype=int32, numpy=array([2, 2, 3, 4])>"
      ]
     },
     "execution_count": 14,
     "metadata": {},
     "output_type": "execute_result"
    }
   ],
   "source": [
    "tf_vr1 = tf.Variable([2,2,3,8])\n",
    "tf_vr2 = tf.Variable([3,2,5,4])\n",
    " \n",
    "tf.minimum(tf_vr1, tf_vr2)"
   ]
  },
  {
   "cell_type": "markdown",
   "id": "3205bbfd-a76b-4da1-912e-8401e1c0e219",
   "metadata": {},
   "source": [
    "# Get Min Value of TF Variable with Scaler"
   ]
  },
  {
   "cell_type": "code",
   "execution_count": 15,
   "id": "7c184ea4-9bf0-4e8f-944a-051a36843972",
   "metadata": {},
   "outputs": [
    {
     "data": {
      "text/plain": [
       "<tf.Tensor: shape=(4,), dtype=int32, numpy=array([3, 2, 3, 3])>"
      ]
     },
     "execution_count": 15,
     "metadata": {},
     "output_type": "execute_result"
    }
   ],
   "source": [
    "tf_vr1 = tf.Variable([3,2,5,4])\n",
    "a = 3\n",
    "tf.minimum(tf_vr1, a)"
   ]
  },
  {
   "cell_type": "code",
   "execution_count": null,
   "id": "99a19256-1c64-479d-946d-732d19fa44c8",
   "metadata": {},
   "outputs": [],
   "source": []
  }
 ],
 "metadata": {
  "kernelspec": {
   "display_name": "Python 3 (ipykernel)",
   "language": "python",
   "name": "python3"
  },
  "language_info": {
   "codemirror_mode": {
    "name": "ipython",
    "version": 3
   },
   "file_extension": ".py",
   "mimetype": "text/x-python",
   "name": "python",
   "nbconvert_exporter": "python",
   "pygments_lexer": "ipython3",
   "version": "3.12.4"
  }
 },
 "nbformat": 4,
 "nbformat_minor": 5
}
