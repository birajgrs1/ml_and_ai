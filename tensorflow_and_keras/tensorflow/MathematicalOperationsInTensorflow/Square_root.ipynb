{
 "cells": [
  {
   "cell_type": "code",
   "execution_count": 7,
   "id": "f45a9df9-c617-496f-a262-d7a0b85b2363",
   "metadata": {},
   "outputs": [],
   "source": [
    "# Importing libraries\n",
    "import tensorflow as tf \n",
    "import numpy as np\n",
    "\n",
    "# Syntax: tf.sqrt(x, name=None)"
   ]
  },
  {
   "cell_type": "markdown",
   "id": "ff9413b3-419e-4bcb-bb42-e8128c98365c",
   "metadata": {},
   "source": [
    "# Square root of Scalar"
   ]
  },
  {
   "cell_type": "code",
   "execution_count": 9,
   "id": "4c3741dc-8b87-42b0-8f95-ecae8e643fd0",
   "metadata": {},
   "outputs": [
    {
     "data": {
      "text/plain": [
       "<tf.Tensor: shape=(), dtype=float32, numpy=5.0>"
      ]
     },
     "execution_count": 9,
     "metadata": {},
     "output_type": "execute_result"
    }
   ],
   "source": [
    "a = 25.0\n",
    "tf.sqrt(a)"
   ]
  },
  {
   "cell_type": "markdown",
   "id": "2809ee8f-674c-481c-aab1-df9f2d0a73f1",
   "metadata": {},
   "source": [
    "## square root of list"
   ]
  },
  {
   "cell_type": "code",
   "execution_count": 13,
   "id": "67a0fff6-8955-4f30-97fb-0341495f20b3",
   "metadata": {},
   "outputs": [
    {
     "data": {
      "text/plain": [
       "<tf.Tensor: shape=(5,), dtype=float32, numpy=array([2., 3., 4., 5., 6.], dtype=float32)>"
      ]
     },
     "execution_count": 13,
     "metadata": {},
     "output_type": "execute_result"
    }
   ],
   "source": [
    "ls = [4.0, 9.0, 16.0, 25, 36.0]\n",
    "tf.sqrt(ls)"
   ]
  },
  {
   "cell_type": "markdown",
   "id": "aeed6110-3ef1-40ec-a1ab-db9d1d9f6c8d",
   "metadata": {},
   "source": [
    "## Square root of tuple"
   ]
  },
  {
   "cell_type": "code",
   "execution_count": 16,
   "id": "0d1c3953-1502-4869-a2a5-269d00253053",
   "metadata": {},
   "outputs": [
    {
     "data": {
      "text/plain": [
       "<tf.Tensor: shape=(5,), dtype=float32, numpy=array([2., 3., 4., 5., 6.], dtype=float32)>"
      ]
     },
     "execution_count": 16,
     "metadata": {},
     "output_type": "execute_result"
    }
   ],
   "source": [
    "tpl = (4.0, 9.0, 16.0, 25, 36.0)\n",
    "tf.sqrt(tpl)"
   ]
  },
  {
   "cell_type": "markdown",
   "id": "80e990b8-891d-4c31-a8ec-3c4256393a66",
   "metadata": {},
   "source": [
    "## Square root of numpy array "
   ]
  },
  {
   "cell_type": "code",
   "execution_count": 18,
   "id": "acf7c13e-e739-4422-82f0-8a6b14324406",
   "metadata": {},
   "outputs": [
    {
     "data": {
      "text/plain": [
       "<tf.Tensor: shape=(4,), dtype=float64, numpy=array([2., 3., 4., 5.])>"
      ]
     },
     "execution_count": 18,
     "metadata": {},
     "output_type": "execute_result"
    }
   ],
   "source": [
    "arr = np.array([4,9,16,25], dtype = np.float64)\n",
    "tf.sqrt(arr)"
   ]
  },
  {
   "cell_type": "code",
   "execution_count": 19,
   "id": "b2de854c-f7dc-4dc0-8436-76053665f915",
   "metadata": {},
   "outputs": [
    {
     "name": "stdout",
     "output_type": "stream",
     "text": [
      "Y:  [[[[4.]\n",
      "   [4.]\n",
      "   [4.]]]\n",
      "\n",
      "\n",
      " [[[4.]\n",
      "   [4.]\n",
      "   [4.]]]]\n"
     ]
    },
    {
     "data": {
      "text/plain": [
       "<tf.Tensor: shape=(2, 1, 3, 1), dtype=float64, numpy=\n",
       "array([[[[2.],\n",
       "         [2.],\n",
       "         [2.]]],\n",
       "\n",
       "\n",
       "       [[[2.],\n",
       "         [2.],\n",
       "         [2.]]]])>"
      ]
     },
     "execution_count": 19,
     "metadata": {},
     "output_type": "execute_result"
    }
   ],
   "source": [
    "y = np.ones(6).reshape(2, 1, 3, 1)*4\n",
    "print(\"Y: \" , y)\n",
    "tf.sqrt(y)"
   ]
  },
  {
   "cell_type": "markdown",
   "id": "0f653fb2-125b-414a-ab29-e506d4d5e990",
   "metadata": {},
   "source": [
    "## Square Root of TensorFlow Tensor"
   ]
  },
  {
   "cell_type": "code",
   "execution_count": 20,
   "id": "acd46d85-fd44-48be-b52f-77a67fc6aae3",
   "metadata": {},
   "outputs": [
    {
     "data": {
      "text/plain": [
       "<tf.Tensor: shape=(3,), dtype=float32, numpy=array([2., 3., 4.], dtype=float32)>"
      ]
     },
     "execution_count": 20,
     "metadata": {},
     "output_type": "execute_result"
    }
   ],
   "source": [
    "\t\n",
    "tf.sqrt(tf.convert_to_tensor(4, dtype='float')) # using scaler value\n",
    "tf.sqrt(tf.convert_to_tensor([4,9,16], dtype='float')) # using list"
   ]
  },
  {
   "cell_type": "markdown",
   "id": "6c280700-1220-4083-81eb-3d21653b43a6",
   "metadata": {},
   "source": [
    "## Square root of TF constant tensor "
   ]
  },
  {
   "cell_type": "code",
   "execution_count": 21,
   "id": "c2e65add-a818-4e4e-b8d5-fa1f5fb9ed39",
   "metadata": {},
   "outputs": [
    {
     "data": {
      "text/plain": [
       "<tf.Tensor: shape=(3,), dtype=float32, numpy=array([2., 3., 4.], dtype=float32)>"
      ]
     },
     "execution_count": 21,
     "metadata": {},
     "output_type": "execute_result"
    }
   ],
   "source": [
    "tf_ct1 = tf.constant([4,9,16], dtype='float')\n",
    " \n",
    "tf.sqrt(tf_ct1)"
   ]
  },
  {
   "cell_type": "markdown",
   "id": "90f8e17c-815e-423e-9bbc-1205f3f43e5e",
   "metadata": {},
   "source": [
    "## Square Root of TF Variable"
   ]
  },
  {
   "cell_type": "code",
   "execution_count": 22,
   "id": "2bd60c19-c48d-4ea6-8991-aa780b1587a6",
   "metadata": {},
   "outputs": [
    {
     "data": {
      "text/plain": [
       "<tf.Tensor: shape=(3,), dtype=float16, numpy=array([2., 3., 4.], dtype=float16)>"
      ]
     },
     "execution_count": 22,
     "metadata": {},
     "output_type": "execute_result"
    }
   ],
   "source": [
    "tf_vr1 = tf.Variable([4,9,16], dtype='half')\n",
    " \n",
    "tf.sqrt(tf_vr1)"
   ]
  },
  {
   "cell_type": "code",
   "execution_count": null,
   "id": "7a82c5b1-3203-4450-b5f8-d3fdb679f532",
   "metadata": {},
   "outputs": [],
   "source": []
  }
 ],
 "metadata": {
  "kernelspec": {
   "display_name": "Python 3 (ipykernel)",
   "language": "python",
   "name": "python3"
  },
  "language_info": {
   "codemirror_mode": {
    "name": "ipython",
    "version": 3
   },
   "file_extension": ".py",
   "mimetype": "text/x-python",
   "name": "python",
   "nbconvert_exporter": "python",
   "pygments_lexer": "ipython3",
   "version": "3.12.4"
  }
 },
 "nbformat": 4,
 "nbformat_minor": 5
}
