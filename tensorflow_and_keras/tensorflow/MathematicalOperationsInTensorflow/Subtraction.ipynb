{
 "cells": [
  {
   "cell_type": "code",
   "execution_count": 2,
   "id": "27d4dacb-53c8-4bad-9ba6-0ea7fb0d8319",
   "metadata": {},
   "outputs": [],
   "source": [
    "import tensorflow as tf \n",
    "import numpy as np\n",
    "\n",
    "# Syntax: tf.subtract(x, y, name=None)"
   ]
  },
  {
   "cell_type": "markdown",
   "id": "a35d71ec-3e2d-4f8f-860c-3e5ce8036d20",
   "metadata": {},
   "source": [
    "### Scaler Subtract"
   ]
  },
  {
   "cell_type": "code",
   "execution_count": 4,
   "id": "8d926d97-e3ac-475e-ac47-55c721811c27",
   "metadata": {},
   "outputs": [
    {
     "name": "stdout",
     "output_type": "stream",
     "text": [
      "Subtracted Value is -9.75. \n"
     ]
    }
   ],
   "source": [
    "x= 10.25\n",
    "y = 20\n",
    "\n",
    "subtract = tf.subtract(x,y,name ='scaler subtracting')   # name is optional\n",
    "# subtract\n",
    "print(f\"Subtracted Value is {subtract}. \")"
   ]
  },
  {
   "cell_type": "markdown",
   "id": "8e3334bf-75fc-4d1e-a000-c02b1d29f488",
   "metadata": {},
   "source": [
    "### Subtract 2 list"
   ]
  },
  {
   "cell_type": "code",
   "execution_count": 5,
   "id": "21743add-6aa6-4be1-99c3-9c346241ca54",
   "metadata": {},
   "outputs": [
    {
     "data": {
      "text/plain": [
       "<tf.Tensor: shape=(4,), dtype=int32, numpy=array([-4, -4, -4, -4])>"
      ]
     },
     "execution_count": 5,
     "metadata": {},
     "output_type": "execute_result"
    }
   ],
   "source": [
    "ls1 = [1,2,3,4]\n",
    "ls2 = [5,6,7,8]\n",
    "\n",
    "sub_ls = tf.subtract(ls1,ls2)\n",
    "sub_ls"
   ]
  },
  {
   "cell_type": "markdown",
   "id": "6cd01f31-f930-4cc0-8f6d-8b01917b7b86",
   "metadata": {},
   "source": [
    "### Adding tuples"
   ]
  },
  {
   "cell_type": "code",
   "execution_count": 7,
   "id": "5fd2f895-5ad3-4174-a2f0-d478a673feba",
   "metadata": {},
   "outputs": [
    {
     "data": {
      "text/plain": [
       "<tf.Tensor: shape=(4,), dtype=int32, numpy=array([-4, -4, -4, -4])>"
      ]
     },
     "execution_count": 7,
     "metadata": {},
     "output_type": "execute_result"
    }
   ],
   "source": [
    "tup1 = (1,2,3,4)\n",
    "tup2 = (5,6,7,8)\n",
    "\n",
    "sub_tupls = tf.subtract(tup1, tup2)\n",
    "sub_tupls"
   ]
  },
  {
   "cell_type": "markdown",
   "id": "e521c54c-2077-4a3b-b01a-b65e87d8f073",
   "metadata": {},
   "source": [
    "### Subtracting list/tuples with scaler"
   ]
  },
  {
   "cell_type": "code",
   "execution_count": 8,
   "id": "190c7c6b-357d-4e91-9654-3d8e4cba0824",
   "metadata": {},
   "outputs": [
    {
     "data": {
      "text/plain": [
       "<tf.Tensor: shape=(4,), dtype=int32, numpy=array([-9, -8, -7, -6])>"
      ]
     },
     "execution_count": 8,
     "metadata": {},
     "output_type": "execute_result"
    }
   ],
   "source": [
    "ls = [1,2,3,4]\n",
    "x = 10\n",
    "\n",
    "sub= tf.subtract(ls,x)\n",
    "sub "
   ]
  },
  {
   "cell_type": "code",
   "execution_count": 9,
   "id": "889aca9e-d256-4e2d-a483-8d940316562b",
   "metadata": {},
   "outputs": [
    {
     "data": {
      "text/plain": [
       "<tf.Tensor: shape=(4,), dtype=int32, numpy=array([-19, -18, -17, -16])>"
      ]
     },
     "execution_count": 9,
     "metadata": {},
     "output_type": "execute_result"
    }
   ],
   "source": [
    "tupls = (1,2,3,4)\n",
    "x = 20\n",
    "\n",
    "sub = tf.subtract(tupls,x)\n",
    "sub"
   ]
  },
  {
   "cell_type": "markdown",
   "id": "5712d53e-e750-4d83-b663-11c314ad869c",
   "metadata": {},
   "source": [
    "## Subtraction 2 list/tuples with different size\n",
    "\n",
    "#### ls1 = [1,2,3,4]\n",
    "#### ls2 = [5,6]\n",
    "\n",
    "#### sub = tf.subtract(ls1,ls2)\n",
    "\n",
    "### Note:\n",
    "#### If the size of 2 variables is different then tf.subtract() function will through error.\n",
    "#### If any one of the variables contains only a single item then it will do the element-wise operation.\n",
    "\n",
    "\n",
    "\n",
    "\n",
    "###### Output:\n",
    "###### ...\n",
    "###### ...\n",
    "###### ...\n",
    "###### InvalidArgumentError: {{function_node __wrapped__AddV2_device_/job:localhost/replica:0/task:0/device:CPU:0}} Incompatible shapes:\n",
    "######  [4] vs. [2] [Op:AddV2] \n",
    "\n",
    "\n",
    "\n"
   ]
  },
  {
   "cell_type": "markdown",
   "id": "c5642f9f-87bc-4847-8f16-690d6ca2574f",
   "metadata": {},
   "source": [
    "# Subtract 2 numpy arrays"
   ]
  },
  {
   "cell_type": "code",
   "execution_count": 11,
   "id": "7f6b49c5-81dc-4af9-ba75-b1195d1bfe44",
   "metadata": {},
   "outputs": [
    {
     "name": "stdout",
     "output_type": "stream",
     "text": [
      "tf.Tensor([-10 -20 -30 -40 -50], shape=(5,), dtype=int32)\n"
     ]
    }
   ],
   "source": [
    "arr1 = np.array([10,20,30,40,50])\n",
    "arr2 = np.array([20,40,60,80,100])\n",
    "\n",
    "sub_arrays = tf.subtract(arr1, arr2)\n",
    "print(sub_arrays)"
   ]
  },
  {
   "cell_type": "markdown",
   "id": "f3102888-5124-4666-bb25-52ada337c158",
   "metadata": {},
   "source": [
    "### Subtracting numpy array with scaler"
   ]
  },
  {
   "cell_type": "code",
   "execution_count": 12,
   "id": "2ccecfdd-2300-4619-b88e-93048d7de214",
   "metadata": {},
   "outputs": [
    {
     "name": "stdout",
     "output_type": "stream",
     "text": [
      "tf.Tensor([-5  5 15 25 35], shape=(5,), dtype=int32)\n"
     ]
    }
   ],
   "source": [
    "arr1 = np.array([10,20,30,40,50])\n",
    "# num = 15.5   # apply with same data types for array \n",
    "num = 15\n",
    "\n",
    "sub_with_scaler = tf.subtract(arr1, num)\n",
    "print(sub_with_scaler)"
   ]
  },
  {
   "cell_type": "markdown",
   "id": "9ab36735-3f8e-424b-a853-32c85d01d39e",
   "metadata": {},
   "source": [
    "### Subtract numpy array with single element np array"
   ]
  },
  {
   "cell_type": "code",
   "execution_count": 13,
   "id": "1fa58501-a498-42b4-9e73-b7df13299925",
   "metadata": {},
   "outputs": [
    {
     "data": {
      "text/plain": [
       "<tf.Tensor: shape=(5,), dtype=int32, numpy=array([ 5, 15, 25, 35, 45])>"
      ]
     },
     "execution_count": 13,
     "metadata": {},
     "output_type": "execute_result"
    }
   ],
   "source": [
    "arr1 = np.array([10,20,30,40,50])\n",
    "arr2 = ([5])\n",
    "sub = tf.subtract(arr1,arr2)\n",
    "sub"
   ]
  },
  {
   "cell_type": "markdown",
   "id": "500712f0-6c49-4ca3-b4bc-6ae6086bb00a",
   "metadata": {},
   "source": [
    "### Subtract 2 TF Constant Tensor"
   ]
  },
  {
   "cell_type": "code",
   "execution_count": 15,
   "id": "755138c1-cc31-44da-b270-8a77da8b3da5",
   "metadata": {},
   "outputs": [
    {
     "name": "stdout",
     "output_type": "stream",
     "text": [
      "tf.Tensor([-1 -1 -1 -1], shape=(4,), dtype=int32)\n"
     ]
    }
   ],
   "source": [
    "const_tensor1 = tf.constant([1,2,3,4])\n",
    "const_tensor2 = tf.constant([2,3,4,5])\n",
    "\n",
    "sub_constant_tensors = tf.subtract(const_tensor1, const_tensor2)\n",
    "print(sub_constant_tensors )"
   ]
  },
  {
   "cell_type": "markdown",
   "id": "04912127-8adf-42bb-bf19-7de48c3a17fe",
   "metadata": {},
   "source": [
    "### Subtract TF Constant Tensor with Scaler"
   ]
  },
  {
   "cell_type": "code",
   "execution_count": 16,
   "id": "71775c0d-470e-4845-bb54-d7653ec3a9ca",
   "metadata": {},
   "outputs": [
    {
     "data": {
      "text/plain": [
       "<tf.Tensor: shape=(4,), dtype=int32, numpy=array([-19, -18, -17, -16])>"
      ]
     },
     "execution_count": 16,
     "metadata": {},
     "output_type": "execute_result"
    }
   ],
   "source": [
    "const_tensor1 = tf.constant([1,2,3,4])\n",
    "x = 20\n",
    "\n",
    "tf.subtract(const_tensor1, x)"
   ]
  },
  {
   "cell_type": "markdown",
   "id": "e9685363-6de0-47ca-aa2e-280320a2f5b6",
   "metadata": {},
   "source": [
    "### Subtract 2 TF Variable"
   ]
  },
  {
   "cell_type": "code",
   "execution_count": 17,
   "id": "c8ad4f63-cadc-4cbe-9434-2c6bf293740b",
   "metadata": {},
   "outputs": [
    {
     "data": {
      "text/plain": [
       "<tf.Tensor: shape=(4,), dtype=int32, numpy=array([-1, -2, -2, -3])>"
      ]
     },
     "execution_count": 17,
     "metadata": {},
     "output_type": "execute_result"
    }
   ],
   "source": [
    "var_tensor1 = tf.Variable([1,2,3,4])\n",
    "var_tensor2 = tf.Variable([2,4,5,7])\n",
    "\n",
    "tf.subtract(var_tensor1, var_tensor2)"
   ]
  },
  {
   "cell_type": "markdown",
   "id": "84434481-32d2-42af-a9a6-48b7371f8516",
   "metadata": {},
   "source": [
    "### subtract TF Variable with Scaler"
   ]
  },
  {
   "cell_type": "code",
   "execution_count": 18,
   "id": "5f55113e-fedb-4966-b875-88335427bd95",
   "metadata": {},
   "outputs": [
    {
     "data": {
      "text/plain": [
       "<tf.Tensor: shape=(4,), dtype=int32, numpy=array([0, 2, 3, 5])>"
      ]
     },
     "execution_count": 18,
     "metadata": {},
     "output_type": "execute_result"
    }
   ],
   "source": [
    "var_tensor2 = tf.Variable([2,4,5,7])\n",
    "a = 2\n",
    "tf.subtract(var_tensor2, a)"
   ]
  },
  {
   "cell_type": "markdown",
   "id": "af697f17-683d-4fa1-b749-1b603dd5ba2b",
   "metadata": {},
   "source": [
    "### subtract 2 Numpy array with different Shape"
   ]
  },
  {
   "cell_type": "code",
   "execution_count": 19,
   "id": "1c7faebd-0ee4-4337-8496-78a457f1253e",
   "metadata": {},
   "outputs": [
    {
     "name": "stdout",
     "output_type": "stream",
     "text": [
      "x:  [[[[1. 1. 1.]]\n",
      "\n",
      "  [[1. 1. 1.]]]]\n",
      "y:  [[[[1.]\n",
      "   [1.]\n",
      "   [1.]]]\n",
      "\n",
      "\n",
      " [[[1.]\n",
      "   [1.]\n",
      "   [1.]]]]\n"
     ]
    },
    {
     "data": {
      "text/plain": [
       "<tf.Tensor: shape=(2, 2, 3, 3), dtype=float64, numpy=\n",
       "array([[[[0., 0., 0.],\n",
       "         [0., 0., 0.],\n",
       "         [0., 0., 0.]],\n",
       "\n",
       "        [[0., 0., 0.],\n",
       "         [0., 0., 0.],\n",
       "         [0., 0., 0.]]],\n",
       "\n",
       "\n",
       "       [[[0., 0., 0.],\n",
       "         [0., 0., 0.],\n",
       "         [0., 0., 0.]],\n",
       "\n",
       "        [[0., 0., 0.],\n",
       "         [0., 0., 0.],\n",
       "         [0., 0., 0.]]]])>"
      ]
     },
     "execution_count": 19,
     "metadata": {},
     "output_type": "execute_result"
    }
   ],
   "source": [
    "x = np.ones(6).reshape(1, 2, 1, 3) # (2,2,3,3)\n",
    "print(\"x: \", x)\n",
    "y = np.ones(6).reshape(2, 1, 3, 1)\n",
    "print(\"y: \", y)\n",
    "  \n",
    "tf.subtract(x, y)"
   ]
  },
  {
   "cell_type": "code",
   "execution_count": null,
   "id": "7a21586a-497d-424b-b068-efa098a3ce7a",
   "metadata": {},
   "outputs": [],
   "source": []
  },
  {
   "cell_type": "code",
   "execution_count": null,
   "id": "28628910-c055-40db-a101-c2623010e905",
   "metadata": {},
   "outputs": [],
   "source": [
    "\n"
   ]
  }
 ],
 "metadata": {
  "kernelspec": {
   "display_name": "Python 3 (ipykernel)",
   "language": "python",
   "name": "python3"
  },
  "language_info": {
   "codemirror_mode": {
    "name": "ipython",
    "version": 3
   },
   "file_extension": ".py",
   "mimetype": "text/x-python",
   "name": "python",
   "nbconvert_exporter": "python",
   "pygments_lexer": "ipython3",
   "version": "3.12.4"
  }
 },
 "nbformat": 4,
 "nbformat_minor": 5
}
