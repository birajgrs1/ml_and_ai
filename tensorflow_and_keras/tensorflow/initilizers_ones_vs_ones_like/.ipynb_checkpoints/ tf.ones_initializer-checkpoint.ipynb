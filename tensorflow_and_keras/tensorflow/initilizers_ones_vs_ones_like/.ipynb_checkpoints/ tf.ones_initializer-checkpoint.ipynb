{
 "cells": [
  {
   "cell_type": "code",
   "execution_count": 1,
   "id": "a56ec8ca-70fa-4104-a63c-eeafbd7e29c1",
   "metadata": {},
   "outputs": [],
   "source": [
    "import tensorflow as tf"
   ]
  },
  {
   "cell_type": "markdown",
   "id": "1825f1c4-be5a-49a7-b61a-e740ecd53ebc",
   "metadata": {},
   "source": [
    "### Initializer that generates tensors initialized to 1.\n",
    "\n",
    "### Initializers allow you to pre-specify an initialization strategy, encoded in the Initializer object,\n",
    "### without knowing the shape and dtype of the variable being initialized."
   ]
  },
  {
   "cell_type": "markdown",
   "id": "4efcd96f-57fb-4d66-b2a8-a4fdf7ece621",
   "metadata": {},
   "source": [
    "# Create Ones Tesnor using tf.ones_initializer()"
   ]
  },
  {
   "cell_type": "code",
   "execution_count": 3,
   "id": "2744654d-283a-49a6-b20c-fdedd625dc76",
   "metadata": {},
   "outputs": [],
   "source": [
    "# Syntax:\n",
    "# tf.ones_initializer()"
   ]
  },
  {
   "cell_type": "code",
   "execution_count": 4,
   "id": "3c479da1-de75-49fe-9d2a-c31e7e038e3d",
   "metadata": {},
   "outputs": [],
   "source": [
    "def ones_variable(shape, dtype, initializer):\n",
    "    return tf.Variable(initializer(shape = shape, dtype = dtype))"
   ]
  },
  {
   "cell_type": "code",
   "execution_count": 7,
   "id": "91eda417-b3e1-4ed3-bc16-608a2b28ee39",
   "metadata": {},
   "outputs": [
    {
     "data": {
      "text/plain": [
       "<tf.Variable 'Variable:0' shape=(2, 2) dtype=float32, numpy=\n",
       "array([[1., 1.],\n",
       "       [1., 1.]], dtype=float32)>"
      ]
     },
     "execution_count": 7,
     "metadata": {},
     "output_type": "execute_result"
    }
   ],
   "source": [
    "ones_variable((2,2), tf.float32,tf.ones_initializer())"
   ]
  },
  {
   "cell_type": "code",
   "execution_count": 8,
   "id": "4102219c-953e-4355-9464-92fcddd3feb1",
   "metadata": {},
   "outputs": [
    {
     "data": {
      "text/plain": [
       "<tf.Variable 'Variable:0' shape=(3, 3) dtype=float32, numpy=\n",
       "array([[1., 1., 1.],\n",
       "       [1., 1., 1.],\n",
       "       [1., 1., 1.]], dtype=float32)>"
      ]
     },
     "execution_count": 8,
     "metadata": {},
     "output_type": "execute_result"
    }
   ],
   "source": [
    "ones_variable((3,3), tf.float32,tf.ones_initializer())"
   ]
  },
  {
   "cell_type": "code",
   "execution_count": 10,
   "id": "9876e004-bf45-44a7-9ca1-9f1869d8d967",
   "metadata": {},
   "outputs": [
    {
     "data": {
      "text/plain": [
       "<tf.Variable 'Variable:0' shape=(5, 4) dtype=int32, numpy=\n",
       "array([[1, 1, 1, 1],\n",
       "       [1, 1, 1, 1],\n",
       "       [1, 1, 1, 1],\n",
       "       [1, 1, 1, 1],\n",
       "       [1, 1, 1, 1]])>"
      ]
     },
     "execution_count": 10,
     "metadata": {},
     "output_type": "execute_result"
    }
   ],
   "source": [
    "ones_variable((5,4), tf.int32,tf.ones_initializer())"
   ]
  },
  {
   "cell_type": "code",
   "execution_count": 13,
   "id": "5d765f33-9594-415d-a74d-6c8e2e262dad",
   "metadata": {},
   "outputs": [
    {
     "name": "stdout",
     "output_type": "stream",
     "text": [
      "<tf.Variable 'Variable:0' shape=(2, 3, 4) dtype=float32, numpy=\n",
      "array([[[1., 1., 1., 1.],\n",
      "        [1., 1., 1., 1.],\n",
      "        [1., 1., 1., 1.]],\n",
      "\n",
      "       [[1., 1., 1., 1.],\n",
      "        [1., 1., 1., 1.],\n",
      "        [1., 1., 1., 1.]]], dtype=float32)>\n"
     ]
    }
   ],
   "source": [
    "# 3D tensor\n",
    "ones_variable_3d = ones_variable((2, 3, 4), tf.float32, tf.ones_initializer())\n",
    "print( ones_variable_3d)\n"
   ]
  },
  {
   "cell_type": "code",
   "execution_count": 14,
   "id": "ebcaa298-c14a-4977-bbbb-49ffa72630d2",
   "metadata": {},
   "outputs": [
    {
     "name": "stdout",
     "output_type": "stream",
     "text": [
      "<tf.Variable 'Variable:0' shape=(1, 2, 3, 4) dtype=float32, numpy=\n",
      "array([[[[1., 1., 1., 1.],\n",
      "         [1., 1., 1., 1.],\n",
      "         [1., 1., 1., 1.]],\n",
      "\n",
      "        [[1., 1., 1., 1.],\n",
      "         [1., 1., 1., 1.],\n",
      "         [1., 1., 1., 1.]]]], dtype=float32)>\n"
     ]
    }
   ],
   "source": [
    "# 4D tensor\n",
    "ones_variable_4d = ones_variable((1, 2, 3, 4), tf.float32, tf.ones_initializer())\n",
    "print(ones_variable_4d)\n"
   ]
  },
  {
   "cell_type": "code",
   "execution_count": null,
   "id": "75338bfd-3616-4933-8aac-adf3acbbea63",
   "metadata": {},
   "outputs": [],
   "source": []
  }
 ],
 "metadata": {
  "kernelspec": {
   "display_name": "Python 3 (ipykernel)",
   "language": "python",
   "name": "python3"
  },
  "language_info": {
   "codemirror_mode": {
    "name": "ipython",
    "version": 3
   },
   "file_extension": ".py",
   "mimetype": "text/x-python",
   "name": "python",
   "nbconvert_exporter": "python",
   "pygments_lexer": "ipython3",
   "version": "3.12.4"
  }
 },
 "nbformat": 4,
 "nbformat_minor": 5
}
