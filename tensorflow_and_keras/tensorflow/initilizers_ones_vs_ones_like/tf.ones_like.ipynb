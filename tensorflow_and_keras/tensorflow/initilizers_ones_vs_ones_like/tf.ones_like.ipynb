{
 "cells": [
  {
   "cell_type": "code",
   "execution_count": 7,
   "id": "b7da4068-bd8b-49a9-9a32-a79129db3e6c",
   "metadata": {},
   "outputs": [],
   "source": [
    "import tensorflow as tf"
   ]
  },
  {
   "cell_type": "markdown",
   "id": "65c4f51f-1580-4abc-b44c-1e5737c53ff8",
   "metadata": {},
   "source": [
    "#  Creates a tensor of all ones that has the same shape as the output"
   ]
  },
  {
   "cell_type": "code",
   "execution_count": 8,
   "id": "d3d8af0f-8164-482a-9c66-9ec0a8677e81",
   "metadata": {},
   "outputs": [],
   "source": [
    "# syntax: \t\n",
    "# tf.ones_like(input, dtype=None, name=None) -> Return Ones Tensor\n"
   ]
  },
  {
   "cell_type": "code",
   "execution_count": 9,
   "id": "6a891f4a-013a-4ca8-b1d3-23ce2038d541",
   "metadata": {},
   "outputs": [],
   "source": [
    "const_2d_tensor = tf.constant([[1,2,3], [4,5,6]])"
   ]
  },
  {
   "cell_type": "code",
   "execution_count": 10,
   "id": "8d579577-aeee-412b-82be-a6b8eef1c537",
   "metadata": {},
   "outputs": [
    {
     "name": "stdout",
     "output_type": "stream",
     "text": [
      "tf.Tensor(\n",
      "[[1. 1. 1.]\n",
      " [1. 1. 1.]], shape=(2, 3), dtype=float32)\n"
     ]
    }
   ],
   "source": [
    "ones_2d_from_const = tf.ones_like(const_2d_tensor, tf.float32)\n",
    "print(ones_2d_from_const)"
   ]
  },
  {
   "cell_type": "code",
   "execution_count": 12,
   "id": "c29cd2ba-d0ed-4484-88e9-9832e348afe1",
   "metadata": {},
   "outputs": [],
   "source": [
    "var_2d_tensor = tf.Variable([[1, 2, 3], [4, 5, 6]])"
   ]
  },
  {
   "cell_type": "code",
   "execution_count": 13,
   "id": "ba342fcb-7e06-49dd-872f-b9e6cd31116c",
   "metadata": {},
   "outputs": [
    {
     "name": "stdout",
     "output_type": "stream",
     "text": [
      "tf.Tensor(\n",
      "[[1 1 1]\n",
      " [1 1 1]], shape=(2, 3), dtype=int32)\n"
     ]
    }
   ],
   "source": [
    "ones_2d_from_variable = tf.ones_like(var_2d_tensor)   # by default ---> int32\n",
    "print(ones_2d_from_variable)"
   ]
  },
  {
   "cell_type": "markdown",
   "id": "a0792e99-ec5e-493f-8b7f-589e3becfc81",
   "metadata": {},
   "source": [
    "#  3d tensor"
   ]
  },
  {
   "cell_type": "code",
   "execution_count": 14,
   "id": "126ed76d-9397-435f-997c-1d56bf360132",
   "metadata": {},
   "outputs": [
    {
     "name": "stdout",
     "output_type": "stream",
     "text": [
      "3D tensor from constant:\n",
      " tf.Tensor(\n",
      "[[[1. 1.]\n",
      "  [1. 1.]]\n",
      "\n",
      " [[1. 1.]\n",
      "  [1. 1.]]], shape=(2, 2, 2), dtype=float32)\n"
     ]
    }
   ],
   "source": [
    "const_3d_tensor = tf.constant([[[1, 2], [3, 4]], [[5, 6], [7, 8]]])\n",
    "\n",
    "ones_3d_from_const = tf.ones_like(const_3d_tensor, tf.float32)\n",
    "print(\"3D tensor from constant:\\n\", ones_3d_from_const)"
   ]
  },
  {
   "cell_type": "markdown",
   "id": "a2670b69-51a4-4804-987a-6b53854a8cd9",
   "metadata": {},
   "source": [
    "#  4d tensor "
   ]
  },
  {
   "cell_type": "code",
   "execution_count": 15,
   "id": "b4826305-6a30-4bec-bc50-ef13d1cd692e",
   "metadata": {},
   "outputs": [
    {
     "name": "stdout",
     "output_type": "stream",
     "text": [
      "4D tensor from constant:\n",
      " tf.Tensor(\n",
      "[[[[1. 1.]\n",
      "   [1. 1.]]\n",
      "\n",
      "  [[1. 1.]\n",
      "   [1. 1.]]]], shape=(1, 2, 2, 2), dtype=float32)\n"
     ]
    }
   ],
   "source": [
    "const_4d_tensor = tf.constant([[[[1, 2], [3, 4]], [[5, 6], [7, 8]]]])\n",
    "ones_4d_from_const = tf.ones_like(const_4d_tensor, tf.float32)\n",
    "\n",
    "print(\"4D tensor from constant:\\n\", ones_4d_from_const)\n"
   ]
  },
  {
   "cell_type": "markdown",
   "id": "3269eaee-a023-45a7-a5f6-5bf4e0333bae",
   "metadata": {},
   "source": [
    "#  using List"
   ]
  },
  {
   "cell_type": "code",
   "execution_count": 16,
   "id": "d5946db4-cb7e-4311-b838-1e9a5917d6d7",
   "metadata": {},
   "outputs": [],
   "source": [
    "list_2d = [[1, 2, 3], [4, 5, 6]]\n",
    "tensor_from_list = tf.constant(list_2d)"
   ]
  },
  {
   "cell_type": "code",
   "execution_count": 17,
   "id": "2f99192b-18ad-4161-aa38-0cfea622e48b",
   "metadata": {},
   "outputs": [
    {
     "name": "stdout",
     "output_type": "stream",
     "text": [
      "2D tensor from list:\n",
      " tf.Tensor(\n",
      "[[1 1 1]\n",
      " [1 1 1]], shape=(2, 3), dtype=int32)\n"
     ]
    }
   ],
   "source": [
    "ones_2d_from_list = tf.ones_like(tensor_from_list)\n",
    "print(\"2D tensor from list:\\n\", ones_2d_from_list)\n"
   ]
  },
  {
   "cell_type": "markdown",
   "id": "9e2e56b2-4a4f-4304-a0b0-d9dac38e1762",
   "metadata": {},
   "source": [
    "# Using tuple"
   ]
  },
  {
   "cell_type": "code",
   "execution_count": 18,
   "id": "fb21d1e9-0adf-4da9-8104-67a31b1768ac",
   "metadata": {},
   "outputs": [],
   "source": [
    "tuple_2d = ([1, 2, 3], [4, 5, 6])\n",
    "tensor_from_tuple = tf.constant(tuple_2d)"
   ]
  },
  {
   "cell_type": "code",
   "execution_count": 19,
   "id": "af5282e6-6815-4380-b46a-59b5f24f6846",
   "metadata": {},
   "outputs": [
    {
     "name": "stdout",
     "output_type": "stream",
     "text": [
      "2D tensor from tuple:\n",
      " tf.Tensor(\n",
      "[[1 1 1]\n",
      " [1 1 1]], shape=(2, 3), dtype=int32)\n"
     ]
    }
   ],
   "source": [
    "ones_2d_from_tuple = tf.ones_like(tensor_from_tuple)\n",
    "\n",
    "print(\"2D tensor from tuple:\\n\", ones_2d_from_tuple)"
   ]
  },
  {
   "cell_type": "markdown",
   "id": "d483f001-c929-470f-910a-ed21ed5e32f3",
   "metadata": {},
   "source": [
    "#  Using numpy array"
   ]
  },
  {
   "cell_type": "code",
   "execution_count": 20,
   "id": "24beec77-0469-4af7-915b-118ba877203b",
   "metadata": {},
   "outputs": [],
   "source": [
    "import numpy as np \n",
    "\n",
    "numpy_array = np.array([[1, 2, 3], [4, 5, 6]])\n"
   ]
  },
  {
   "cell_type": "code",
   "execution_count": 22,
   "id": "05a7a071-230d-47a9-bd19-ad8dfb978620",
   "metadata": {},
   "outputs": [
    {
     "name": "stdout",
     "output_type": "stream",
     "text": [
      "2D tensor from numpy array:\n",
      " tf.Tensor(\n",
      "[[1 1 1]\n",
      " [1 1 1]], shape=(2, 3), dtype=int32)\n"
     ]
    }
   ],
   "source": [
    "tensor_from_numpy = tf.constant(numpy_array)\n",
    "ones_2d_from_numpy = tf.ones_like(tensor_from_numpy)\n",
    "\n",
    "print(\"2D tensor from numpy array:\\n\", ones_2d_from_numpy)"
   ]
  },
  {
   "cell_type": "code",
   "execution_count": null,
   "id": "7ab5d280-8b65-48aa-b5de-d734e684c105",
   "metadata": {},
   "outputs": [],
   "source": []
  }
 ],
 "metadata": {
  "kernelspec": {
   "display_name": "Python 3 (ipykernel)",
   "language": "python",
   "name": "python3"
  },
  "language_info": {
   "codemirror_mode": {
    "name": "ipython",
    "version": 3
   },
   "file_extension": ".py",
   "mimetype": "text/x-python",
   "name": "python",
   "nbconvert_exporter": "python",
   "pygments_lexer": "ipython3",
   "version": "3.12.4"
  }
 },
 "nbformat": 4,
 "nbformat_minor": 5
}
