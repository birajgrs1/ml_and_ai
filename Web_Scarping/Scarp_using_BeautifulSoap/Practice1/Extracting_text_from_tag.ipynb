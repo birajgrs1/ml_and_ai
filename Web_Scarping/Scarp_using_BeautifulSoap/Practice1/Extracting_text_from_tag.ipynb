{
 "cells": [
  {
   "cell_type": "code",
   "execution_count": 4,
   "id": "0ae23521-1bfc-43e0-b0e6-ce740556a5bd",
   "metadata": {},
   "outputs": [],
   "source": [
    "import requests\n",
    "from bs4 import BeautifulSoup"
   ]
  },
  {
   "cell_type": "code",
   "execution_count": 5,
   "id": "98e7ecd6-1428-4ebe-84b9-7c762cd34918",
   "metadata": {},
   "outputs": [
    {
     "data": {
      "text/plain": [
       "<Response [200]>"
      ]
     },
     "execution_count": 5,
     "metadata": {},
     "output_type": "execute_result"
    }
   ],
   "source": [
    "web_url = requests.get('https://www.tutorialsfreak.com/')\n",
    "web_url"
   ]
  },
  {
   "cell_type": "code",
   "execution_count": 6,
   "id": "787a004e-a392-4210-90b2-d8dcf75245ee",
   "metadata": {},
   "outputs": [],
   "source": [
    "# web_url.content   # shows all html code"
   ]
  },
  {
   "cell_type": "code",
   "execution_count": 7,
   "id": "cf7aade1-c4d6-4983-a207-d1daf2d3722c",
   "metadata": {},
   "outputs": [],
   "source": [
    "soup = BeautifulSoup(web_url.content, 'html.parser')\n",
    "# soup"
   ]
  },
  {
   "cell_type": "code",
   "execution_count": 9,
   "id": "41c54a55-91d7-47a4-bcd2-16a4a4ab646e",
   "metadata": {},
   "outputs": [],
   "source": [
    "# print(soup.prettify())  "
   ]
  },
  {
   "cell_type": "code",
   "execution_count": 11,
   "id": "4601d950-1a69-46fc-9d4a-7f82e983f0c2",
   "metadata": {
    "collapsed": true,
    "jupyter": {
     "outputs_hidden": true
    }
   },
   "outputs": [
    {
     "name": "stdout",
     "output_type": "stream",
     "text": [
      "[<p class=\"section-subheading\">Kickstart effective learning with Tutorials Freak, with new content published every day.</p>, <p class=\"fs-16 fw-400 lh-24 label-color-1 card-text\">The entire content on the site is verified by pro developers and tech freaks.</p>, <p class=\"fs-16 fw-400 lh-24 label-color-1 card-text\">The entire content on the site is verified by pro developers and tech freaks. Enabling self-directed learning so that you can learn at your pace and shape your own path.</p>, <p class=\"fs-16 fw-400 lh-24 label-color-1 card-text\">Along with simplified tutorials, you get video content created by industry experts.</p>, <p class=\"fw-400 fs-20 lh-30 label-color-2 mb-lg-5\">Learning programming and technical things can be complex. We are here to make it easy with simple and interactive tutorials.</p>, <p class=\"section-subheading mb-0\">Learning programming and technical things can be complex. We are here to make it easy with simple and interactive tutorials.</p>, <p class=\"section-subheading mb-0\">Explore the expert-curated interview questions with answers.</p>, <p class=\"section-subheading mb-0\">Plenty of quizzes with time duration and skill assessment.</p>, <p class=\"section-subheading mb-0\">Find coding examples with programs, output, easy explanations, and videos.</p>, <p class=\"section-subheading mb-0\"><img class=\"img-fluid\" height=\"40\" src=\"/images/ws-cube-tech-logo.svg\" width=\"210\"/></p>, <p class=\"section-subheading pb-lg-5\">With an account, you get access to premium content and courses at no cost.</p>, <p class=\"section-subheading pe-md-5\">Download the app now to learn and practice hassle-free.</p>, <p class=\"fs-13 lh-24 label-color-1 mb-0 footer-content fw-500 text-center text-lg-end\">© <!-- --> Tutorials Freak . All Rights Reserved | Design By  <a class=\"text-decoration-none label-color-1 fw-400\" href=\"https://www.wscubetech.com/\" rel=\"noreferrer\" target=\"_blank\" title=\"WsCube Tech\">WsCube Tech</a></p>]\n"
     ]
    }
   ],
   "source": [
    "lines = soup.find_all('p')\n",
    "print(lines)"
   ]
  },
  {
   "cell_type": "code",
   "execution_count": 13,
   "id": "eb1ce700-30ee-432e-8312-f7f4903fa846",
   "metadata": {
    "collapsed": true,
    "jupyter": {
     "outputs_hidden": true
    }
   },
   "outputs": [
    {
     "name": "stdout",
     "output_type": "stream",
     "text": [
      "Kickstart effective learning with Tutorials Freak, with new content published every day.\n",
      "The entire content on the site is verified by pro developers and tech freaks.\n",
      "The entire content on the site is verified by pro developers and tech freaks. Enabling self-directed learning so that you can learn at your pace and shape your own path.\n",
      "Along with simplified tutorials, you get video content created by industry experts.\n",
      "Learning programming and technical things can be complex. We are here to make it easy with simple and interactive tutorials.\n",
      "Learning programming and technical things can be complex. We are here to make it easy with simple and interactive tutorials.\n",
      "Explore the expert-curated interview questions with answers.\n",
      "Plenty of quizzes with time duration and skill assessment.\n",
      "Find coding examples with programs, output, easy explanations, and videos.\n",
      "\n",
      "With an account, you get access to premium content and courses at no cost.\n",
      "Download the app now to learn and practice hassle-free.\n",
      "©  Tutorials Freak . All Rights Reserved | Design By  WsCube Tech\n"
     ]
    }
   ],
   "source": [
    "for ln in lines:\n",
    "    print(ln.text)"
   ]
  },
  {
   "cell_type": "code",
   "execution_count": 19,
   "id": "5038bf1b-05e9-443f-b6d5-40e65f58f2de",
   "metadata": {},
   "outputs": [
    {
     "name": "stdout",
     "output_type": "stream",
     "text": [
      "<p class=\"section-subheading\">Kickstart effective learning with Tutorials Freak, with new content published every day.</p>\n"
     ]
    }
   ],
   "source": [
    "s = soup.find( class_='section-subheading')\n",
    "print(s)\n"
   ]
  },
  {
   "cell_type": "code",
   "execution_count": null,
   "id": "617de5a3-09c5-46fa-bac8-fa597127f414",
   "metadata": {},
   "outputs": [],
   "source": []
  },
  {
   "cell_type": "code",
   "execution_count": null,
   "id": "a2b9e134-341a-4ff3-8d2a-ec7a80f3619d",
   "metadata": {},
   "outputs": [],
   "source": []
  },
  {
   "cell_type": "code",
   "execution_count": null,
   "id": "9141e041-c53e-4de0-babc-8a71286f7298",
   "metadata": {},
   "outputs": [],
   "source": []
  },
  {
   "cell_type": "code",
   "execution_count": null,
   "id": "5a779be1-e3c6-4784-957d-bbf542907993",
   "metadata": {},
   "outputs": [],
   "source": []
  }
 ],
 "metadata": {
  "kernelspec": {
   "display_name": "Python 3 (ipykernel)",
   "language": "python",
   "name": "python3"
  },
  "language_info": {
   "codemirror_mode": {
    "name": "ipython",
    "version": 3
   },
   "file_extension": ".py",
   "mimetype": "text/x-python",
   "name": "python",
   "nbconvert_exporter": "python",
   "pygments_lexer": "ipython3",
   "version": "3.12.4"
  }
 },
 "nbformat": 4,
 "nbformat_minor": 5
}
