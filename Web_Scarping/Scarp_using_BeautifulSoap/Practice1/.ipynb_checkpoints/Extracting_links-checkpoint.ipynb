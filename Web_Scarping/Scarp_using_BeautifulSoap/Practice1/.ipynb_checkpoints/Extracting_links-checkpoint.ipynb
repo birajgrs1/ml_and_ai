{
 "cells": [
  {
   "cell_type": "code",
   "execution_count": 1,
   "id": "1c0d8e28-7912-463f-be9c-f4a18c1deed4",
   "metadata": {},
   "outputs": [],
   "source": [
    "import requests\n",
    "from bs4 import BeautifulSoup"
   ]
  },
  {
   "cell_type": "code",
   "execution_count": 2,
   "id": "82ba280d-ecfe-4bc3-9f34-09a4945c3cd3",
   "metadata": {},
   "outputs": [
    {
     "data": {
      "text/plain": [
       "<Response [200]>"
      ]
     },
     "execution_count": 2,
     "metadata": {},
     "output_type": "execute_result"
    }
   ],
   "source": [
    "web_url = requests.get('https://www.tutorialsfreak.com/')\n",
    "web_url"
   ]
  },
  {
   "cell_type": "code",
   "execution_count": 3,
   "id": "c5a01f54-966e-4adc-9d15-16fb6669caf2",
   "metadata": {},
   "outputs": [],
   "source": [
    "# web_url.content   # shows all html code"
   ]
  },
  {
   "cell_type": "code",
   "execution_count": 4,
   "id": "96397eb9-0d69-40c5-bee4-c253639e3caf",
   "metadata": {},
   "outputs": [],
   "source": [
    "soup = BeautifulSoup(web_url.content, 'html.parser')\n",
    "# soup"
   ]
  },
  {
   "cell_type": "code",
   "execution_count": 5,
   "id": "eb3b6b26-bf78-4790-bac7-0add50122301",
   "metadata": {},
   "outputs": [],
   "source": [
    "# print(soup.prettify())  "
   ]
  },
  {
   "cell_type": "code",
   "execution_count": 6,
   "id": "5a1db765-61dc-4695-ab80-ded25f5d3c0c",
   "metadata": {},
   "outputs": [
    {
     "name": "stdout",
     "output_type": "stream",
     "text": [
      "/\n",
      "/search\n",
      "/\n",
      "/\n",
      "/\n",
      "/\n",
      "/\n",
      "/\n",
      "/\n",
      "/\n",
      "/compiler/c\n",
      "/compiler/css\n",
      "/compiler/html\n",
      "/compiler/jquery\n",
      "/compiler/cpp\n",
      "/compiler/php\n",
      "/compiler/python\n",
      "https://bit.ly/web-developer-course-ws\n",
      "https://bit.ly/web-developer-course-ws\n",
      "https://bit.ly/digital-marketing-course-ws\n",
      "https://bit.ly/digital-marketing-course-ws\n",
      "https://bit.ly/seo-course-ws\n",
      "https://bit.ly/seo-course-ws\n",
      "https://www.wscubetech.com/online-python-certification-course-india.html?utm_source=TutorialsFreak&utm_medium=python-tutorial&utm_campaign=leads\n",
      "https://www.wscubetech.com/online-python-certification-course-india.html?utm_source=TutorialsFreak&utm_medium=python-tutorial&utm_campaign=leads\n",
      "https://www.wscubetech.com/online-data-analytics-course.html?utm_source=TutorialsFreak&utm_medium=ai-tutorial&utm_campaign=leads\n",
      "https://www.wscubetech.com/online-data-analytics-course.html?utm_source=TutorialsFreak&utm_medium=ai-tutorial&utm_campaign=leads\n",
      "https://www.wscubetech.com/online-ethical-hacking-course.html?utm_source=TutorialsFreak&utm_medium=eh-tutorial&utm_campaign=leads\n",
      "https://www.wscubetech.com/online-ethical-hacking-course.html?utm_source=TutorialsFreak&utm_medium=eh-tutorial&utm_campaign=leads\n",
      "https://play.google.com/store/apps/details?id=com.tutorialsfreak\n",
      "/\n",
      "https://www.facebook.com/tutorialsfreak\n",
      "https://twitter.com/TutorialsFreak\n",
      "https://www.instagram.com/tutorials_freak/\n",
      "https://www.linkedin.com/company/tutorialsfreak/\n",
      "/terms-conditons\n",
      "/privacy-policy\n",
      "/about-us\n",
      "/contact-us\n",
      "https://www.wscubetech.com/\n"
     ]
    }
   ],
   "source": [
    "for i in soup.find_all('a'):\n",
    "    print(i.get('href'))"
   ]
  },
  {
   "cell_type": "code",
   "execution_count": null,
   "id": "b3402ee2-5769-4282-a614-182c8e571b7a",
   "metadata": {},
   "outputs": [],
   "source": []
  },
  {
   "cell_type": "code",
   "execution_count": null,
   "id": "15947793-99fa-4813-b1ea-587c120f3904",
   "metadata": {},
   "outputs": [],
   "source": []
  },
  {
   "cell_type": "code",
   "execution_count": null,
   "id": "47d0866f-d718-4b61-852e-51cfca0f409d",
   "metadata": {},
   "outputs": [],
   "source": []
  }
 ],
 "metadata": {
  "kernelspec": {
   "display_name": "Python 3 (ipykernel)",
   "language": "python",
   "name": "python3"
  },
  "language_info": {
   "codemirror_mode": {
    "name": "ipython",
    "version": 3
   },
   "file_extension": ".py",
   "mimetype": "text/x-python",
   "name": "python",
   "nbconvert_exporter": "python",
   "pygments_lexer": "ipython3",
   "version": "3.12.4"
  }
 },
 "nbformat": 4,
 "nbformat_minor": 5
}
