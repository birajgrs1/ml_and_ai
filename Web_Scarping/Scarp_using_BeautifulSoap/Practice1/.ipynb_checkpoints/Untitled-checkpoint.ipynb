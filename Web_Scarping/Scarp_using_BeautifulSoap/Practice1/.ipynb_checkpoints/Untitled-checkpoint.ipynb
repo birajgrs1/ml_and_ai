{
 "cells": [
  {
   "cell_type": "code",
   "execution_count": 12,
   "id": "4cc8ca5e-3a60-4961-b2c2-816618d5d51b",
   "metadata": {},
   "outputs": [],
   "source": [
    "import requests"
   ]
  },
  {
   "cell_type": "code",
   "execution_count": 17,
   "id": "aea15cb9-89b6-4728-b3b5-d230b5d56f28",
   "metadata": {},
   "outputs": [
    {
     "name": "stdout",
     "output_type": "stream",
     "text": [
      "<Response [200]>\n"
     ]
    }
   ],
   "source": [
    "web_url = requests.get(\"https://www.tutorialsfreak.com/\")\n",
    "print(web_url)   # 200(ok)      300,403,404(not ok for best-response)"
   ]
  },
  {
   "cell_type": "code",
   "execution_count": 14,
   "id": "5834931a-113a-405c-965b-adc6f081fccf",
   "metadata": {},
   "outputs": [
    {
     "data": {
      "text/plain": [
       "'https://www.tutorialsfreak.com/'"
      ]
     },
     "execution_count": 14,
     "metadata": {},
     "output_type": "execute_result"
    }
   ],
   "source": [
    "url.url"
   ]
  },
  {
   "cell_type": "code",
   "execution_count": null,
   "id": "489ec8c1-87a4-4ffd-9b0e-5a501e74c7d5",
   "metadata": {},
   "outputs": [],
   "source": []
  }
 ],
 "metadata": {
  "kernelspec": {
   "display_name": "Python 3 (ipykernel)",
   "language": "python",
   "name": "python3"
  },
  "language_info": {
   "codemirror_mode": {
    "name": "ipython",
    "version": 3
   },
   "file_extension": ".py",
   "mimetype": "text/x-python",
   "name": "python",
   "nbconvert_exporter": "python",
   "pygments_lexer": "ipython3",
   "version": "3.12.4"
  }
 },
 "nbformat": 4,
 "nbformat_minor": 5
}
