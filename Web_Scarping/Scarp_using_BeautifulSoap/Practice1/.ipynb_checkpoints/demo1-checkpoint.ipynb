{
 "cells": [
  {
   "cell_type": "code",
   "execution_count": 1,
   "id": "4cc8ca5e-3a60-4961-b2c2-816618d5d51b",
   "metadata": {},
   "outputs": [],
   "source": [
    "import requests"
   ]
  },
  {
   "cell_type": "code",
   "execution_count": 2,
   "id": "aea15cb9-89b6-4728-b3b5-d230b5d56f28",
   "metadata": {},
   "outputs": [
    {
     "name": "stdout",
     "output_type": "stream",
     "text": [
      "<Response [200]>\n"
     ]
    }
   ],
   "source": [
    "web_url = requests.get(\"https://www.tutorialsfreak.com/\")\n",
    "print(web_url)   # 200(ok)      300,403,404(not ok for best-response)"
   ]
  },
  {
   "cell_type": "code",
   "execution_count": 3,
   "id": "5834931a-113a-405c-965b-adc6f081fccf",
   "metadata": {},
   "outputs": [
    {
     "data": {
      "text/plain": [
       "'https://www.tutorialsfreak.com/'"
      ]
     },
     "execution_count": 3,
     "metadata": {},
     "output_type": "execute_result"
    }
   ],
   "source": [
    "web_url.url"
   ]
  },
  {
   "cell_type": "code",
   "execution_count": 4,
   "id": "489ec8c1-87a4-4ffd-9b0e-5a501e74c7d5",
   "metadata": {},
   "outputs": [
    {
     "data": {
      "text/plain": [
       "200"
      ]
     },
     "execution_count": 4,
     "metadata": {},
     "output_type": "execute_result"
    }
   ],
   "source": [
    "web_url.status_code"
   ]
  },
  {
   "cell_type": "code",
   "execution_count": 5,
   "id": "10265659-c0a3-45ee-848e-3ce2e39aa69d",
   "metadata": {},
   "outputs": [
    {
     "data": {
      "text/plain": [
       "'\\nKinds of Objects:\\n1. Tag\\n2. NavigableString\\n3. BeautifulSoup\\n4. Comments\\n'"
      ]
     },
     "execution_count": 5,
     "metadata": {},
     "output_type": "execute_result"
    }
   ],
   "source": []
  }
 ],
 "metadata": {
  "kernelspec": {
   "display_name": "Python 3 (ipykernel)",
   "language": "python",
   "name": "python3"
  },
  "language_info": {
   "codemirror_mode": {
    "name": "ipython",
    "version": 3
   },
   "file_extension": ".py",
   "mimetype": "text/x-python",
   "name": "python",
   "nbconvert_exporter": "python",
   "pygments_lexer": "ipython3",
   "version": "3.12.4"
  }
 },
 "nbformat": 4,
 "nbformat_minor": 5
}
