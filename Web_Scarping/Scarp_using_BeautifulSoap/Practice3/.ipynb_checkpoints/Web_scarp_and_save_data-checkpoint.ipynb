{
 "cells": [
  {
   "cell_type": "code",
   "execution_count": 1,
   "id": "a882b2a4-b971-4ce9-9139-8bfbeaa460dc",
   "metadata": {},
   "outputs": [],
   "source": [
    "import urllib.request\n",
    "from bs4 import BeautifulSoup\n"
   ]
  },
  {
   "cell_type": "code",
   "execution_count": 2,
   "id": "4eee0b14-a3a5-4ef0-a01e-417531a47b12",
   "metadata": {},
   "outputs": [],
   "source": [
    "# User-Agent string to avoid being blocked\n",
    "user_agent = 'Mozilla/5.0 (Windows NT 10.0; Win64; x64) AppleWebKit/537.36 (KHTML, like Gecko) Chrome/58.0.3029.110 Safari/537.3'\n"
   ]
  },
  {
   "cell_type": "code",
   "execution_count": 5,
   "id": "5e4df2f3-ff20-4841-b9c2-51ebeabe495d",
   "metadata": {},
   "outputs": [
    {
     "name": "stdout",
     "output_type": "stream",
     "text": [
      "Job Titles: ['Various Positions', 'Various Positions', 'Tender Notice for Bulk Purchase of Medicines and Medical Supplies', 'Communication Technical Officer based in Surkhet (Women Candidate only - Re-vacancy)', 'Business and Market Systems Trainee', 'Project Coordinator', 'Program Finance Officer', 'Associate Program Officer', 'Programme Operations Associate', 'Terms of Reference for Management and Leadership/Executive Coaching', 'MEAL Officer', 'Multiple Positions', 'DISTRICT COORDINATOR', 'CALL FOR CONSULTANT ROSTER', 'Program Officer for Literacy Program /Social Mobilier', 'Notice for Closure', 'Admin and Finance Officer', 'सिलबन्दी बोलपत्र आह्वानको सुचना', 'Regional Business Development Specialist for South Asia Programme', 'Call for Consultancy Service from Individuals/Firms', 'Staff Nurse', 'LITERACY MANAGER', 'Trainee (Nutrition)', 'MEAL Specialist (Female Only)', 'Senior Officer – GESI (Gender Equity and Social Inclusion)', 'Invitation for Sealed Quotation for supply of Portable Ultrasound Machine Set', 'Various Positions', 'National Consultant – Innovative Finance Expert', 'Various Positions', 'Finance and Admin Officer', 'Project Officer', 'Gender and Disability Inclusion Advisor', 'Technical Support Representative', 'GEDSI and Protection Coordinator', 'Request for Proposal for Domestic Air Ticketing Service', 'Technical Officer - Inclusive Education', 'Invitation of Sealed Quotation for supply, delivery of Medical Equipment and Supplies', 'Admin Finance Officer (AFO)', 'Expression of Interest (EOI ) for Vendor Listing', 'Request for Quotation – Ref No. UNDP-NPL-00337: For Supply and Delivery of Refrigeration & Air Conditioning (RAC) Equipment', 'Data Maintenance and Support Associate', 'Integrated Knowledge Management Specialist', 'Manager Internal Audit and Cost Control', 'Draft person', 'Architect', 'Manager Legal', 'Various Positions', 'Request for Proposal (RFP): External Evaluators/Consulting firms for the Impact Assessment of the SIKAI project', 'TENDER NOTICE', 'Project Coordinator / Technical Associate / Education Mobilizer', 'Various Position', 'Training Announcement: Call for Participation', 'Research Coordinator- Climate Justice Programme', 'कर्मचारी आवश्यकता सम्बन्धी सूचना', 'शिलबन्दी बोलपत्र आह्वानको सुचना', 'Call for Expression of Interest (EOI)', 'Request for Sealed Quotation', 'कर्मचारी आवश्यकता सम्बन्धि सूचना', 'Market Representatives / Business Development Executive', 'Flutter Mobile Application Developer (Mid-Level)', 'Various Positions', 'Consultancy Service for Policy Formulation', 'Program  Coordinator – Engineer', 'Request for Quotation', 'Auxiliary Nurse Midwife (ANM)', 'बोलपत्र आह्वान', 'Thematic Head – Food Security and Economic Development', 'Request for Applications: Consultant – Capacity building in Municipality School Education Governance', 'Various Positions', 'Terms of Reference (TOR) for Consultant: Development of Ending Child Marriage Strategy', 'INVITATION FOR PARTICIPATION IN TRAINING', 'REQUEST FOR PROPOSAL', 'INVITATION FOR BID', 'EOI for Baseline Study - P8003', 'Request for Proposals: ACT Video', 'QA Engineer', 'Program Manager', 'Senior Frontend Developer', 'Request for Proposal (RFP) for Office Security Guard Services', 'Senior Programme Officer (Research and Learning)', 'शिलबन्दी कोटेशन आह्वान सम्बन्धी सुचना', 'Terms of Reference (TOR) For Media Fellowship Program for Young Journalists', 'Call for Applications for Different Awards', 'Request for Quotation for Safari/Hiking Shirt', 'Call for Research Proposals: Ecology of Smooth- Coated Otter', 'Finance and Operations Director | Kathmandu, Nepal | 2024', 'Invitation for Bids', 'Health Systems Strengthening (HSS) Technical Director', 'Request for Proposal - Research Consultant', 'Human Resource Officer', 'Senior Program Officer', 'Children Home Coordinator (Female Candidates only)', 'Request for Proposal to Develop Capability Statement', 'Terms of Reference (ToR): Consultancy Service to document Case story and documentation of the projects', 'Project Coordinator', 'Bus Driver', 'Call for expression of interest (EOI) to  Develop and deliver capacity-building action modules to enhance capacity of media houses and journalists', 'Request for Proposal (RFP): Scoping Study for Alternative Water Supply Service Operating and Management Model', 'Accountant', 'DISASTER RISK REDUCTION (DRR) POLICY AND ADVOCACY SENIOR SPECIALIST', 'Terms of Reference (TOR) for Youth4Humanity Initiative', 'EOI for Facilitators', 'Exam Invigilator', 'Program and Communications Coordinator', 'Operations and Human Resource Manager', 'शिलबन्दि बोलपत्र अवहान सम्बन्धी १५ दिने सुचना', 'REQUEST FOR PROPOSAL (Event Management - National Level Exit Workshop)', 'Final Evaluation - Terms of Reference', 'सिलबन्दी बोलपत्र आह्वानको सुचना', 'Project Coordinator / Technical Associate / Education Mobilizer', 'Community Facilitator', 'Program Coordinator-MELS', 'आपूर्ति तथा सप्लाई सम्बन्धि सुचीकृत हुने सूचना', 'Sealed Quotations for Visibility & IEC Materials', 'Scope of Work - Photographer for Urja Nepal', 'ADVERTISEMENT OF BUSINESS OPPORTUNITIES', 'Social Media Manager/Data Entry', 'Mechanical/Automobile Engineer', 'Crew Member (All-rounder) - Female', 'Program Officer', 'Vacancy Announcement for Various Positions', 'आपुर्ति/सप्लाई सम्बन्धि सुचीकृत हुने सूचना', 'आपुर्ति /सप्लाई सम्बन्धि सुचीकृत हुने सूचना', 'Various Positions', 'Expression of Interest for Vendor Listing', 'ASP .NET DEVELOPER (MID-LEVEL)', 'शिलबन्दी बोलपत्र आह्वान गरिएको सूचना', 'Admin Associate', 'Freelance Work Opportunity- Freelance Researcher', 'UI / UX Designer', 'Receptionist & Documentation Officer (Female)', 'Sales and Marketing (Male)', 'Assistant Director - Marketing and Business Development', 'Education Development Officer', 'Admin & Finance Officer (AFO)', 'Project Coordinator (PC)', 'Request for proposal – Ref No. UNDP-NPL-00335: Designing and scaling Chatbot for Promoting E-governance and Better Government Service Delivery in Nepal', 'Business Development and Communication Senior Specialist', 'Financial Management and Compliance Senior Advisor', 'PROGRAMS, ORGANIZATIONAL DEVELOPMENT AND QUALITY SENIOR ADVISOR', 'Vendor Listing', 'Admin Officer / Senior Accountant', 'Office Space Sourcing and Scouting', 'Consultancy service for Video Documentary', 'Physiotherapist', 'Field Monitor (Women, and from discriminated groups only) - 3 position(s)', 'Procurement and Account Assistant', 'Call for Consultant (Roaster)', 'Request for Proposal (RFP) for Develop and Air Radio Public Service Announcements', 'Accountant (Male)', 'INVITATION FOR BID', 'Request for Applications-Master Mason/आवेदन आह्वान-नाइके डकर्मी', 'Request for Proposals (RFP) - Development of Policy Portal to address concern of Women, Youth and Marginalized (WYM) Communities', 'Invitation to Tender', 'Various Positions', 'Labour']\n",
      "Company: ['AMDA Nepal', 'DALAAN NEPAL', 'Project Propel Lalitpur Nepal', 'People in  Need', 'Winrock International (Feed the Future Nepal USAID Agricultural Inputs)', 'Dalit Help Society', 'JuRI-Nepal', 'Heifer Project Nepal', 'Street Child of Nepal', 'Heifer International Nepal', 'CSSD Kailali', 'Nepal Integrated Development Society(NIDS)', 'Mercy Corps', 'Nepal Water for Health (NEWAH)', 'UN Nepal Gorkha', 'Relief Nepal', 'Relief Nepal', 'Lumbini Integrated Development Organization', 'Handicap International', 'AANGAN', 'International Nepal Fellowship', 'Room to Read Nepal', 'Heifer Project Nepal', 'NGO Federation of Nepal', 'ANSAB Nepal', 'Green Tara Nepal (GTN)', 'Siddhartha Social Development Center', 'UNDP', 'Prerana', 'The Organic Valley Pvt Ltd', 'Peace Brigades International Nepal', 'Nepal Disabled Women Association', 'Bhagya Laxmi International Pvt. Ltd.', 'World Vision International Nepal', 'USAID Biodiversity (Jal Jangal)', 'Handicap International', 'Green Tara Nepal (GTN)', 'Sonaha Bikash Samaj', 'U.S. Pharmacopeial Convention', 'UNDP', 'IUCN Nepal', 'World Vision International Nepal', 'Soaltee Hotel Limited', 'Soaltee Hotel Limited', 'Soaltee Hotel Limited', 'Soaltee Hotel Limited', 'National Environment and Equity Development Society (NEEDS Nepal)', 'VSO Nepal', 'Save the Children', 'Seto Gurans Child Development Service', 'International Manpower Recruitment Pvt Ltd', 'Green Foundation Nepal', 'Digo Bikas Institute', 'Hilly Region Development Campaign (HRDC), Jajarkot', 'Hilly Region Development Campaign (HRDC), Jajarkot', 'NNSWA', 'Divya Development Resource Centre Parsa', 'Community & Rural Development Society Nepal, CARDSN', 'HIMAL HERBACEUTICALS PVT LTD', 'Aria Technologies', 'Kamaiya Mahila Jagaran Samaj Nepal', 'Aasaman Nepal', 'SOSEC Nepal', 'IOM Nepal', 'PHASE Nepal', 'Bheri Environmental Excellence Group (BEE-Group) Banke', 'Shechen Karuna Nepal', 'British Council', 'NFCC', 'NFCC', 'MinErgy Private Limited', 'Chemonics International', 'Action For Nepal', 'Integrated Community Development Campaign, ICDC Nepal Dhadingbensi, Dhading', 'Deloitte', 'DIGU', 'Youth Alliance for Development', 'DIGU', 'USAID Karnali Water Activity', 'International Alert', 'BASE Organization (Backward Society Education)', 'ActionAid International Nepal', 'Environment and Public Health Organization', 'Heifer International Nepal', 'WWF Nepal', 'Chemonics International', 'Maiti Nepal', 'Chemonics International', '\\ufeff\\ufeff\\ufeff\\ufeff\\ufeff\\ufeffCBM Global Nepal Country Office', 'Maiti Nepal', 'Maiti Nepal', 'Kopila Valley Sewa Samaj', '\\ufeff\\ufeff\\ufeff\\ufeff\\ufeff\\ufeffCBM Global Nepal Country Office', 'Welthungerhilfe', 'Yuwalaya', 'Karkhana Samuha', 'International Alert', 'USAID Karnali Water Activity', 'Nepalland I.T Solution Pvt Ltd', 'Mercy Corps', 'Habitat Nepal', 'Aasaman Nepal', 'British Council', 'Body & Data', 'Body & Data', 'SabalNepal', 'USAID Tayar Nepal', 'Welthungerhilfe', 'Lumbini Integrated Development Organization', 'Saipal Development Society', 'Nepal Red Cross Society - Lumbini Province Chapter', 'Heifer Project Nepal', 'Mandwi', 'FEDO', 'Deloitte Consulting Overseas Projects LLC', 'FEDO', 'Ashish Servicing Centre', 'Ashish Servicing Centre', 'JobsNepal.com Direct Recruitment Service', 'Hamro Palo', 'CARE Nepal', 'Integrated Rural Development Society', 'Rastriya Rojgar Prawardhan Kendra RRPK Lalbandi', 'FHI 360 Nepal', 'Rural Oriented Youth Movement Nepal (ROYM Nepal)', 'Uranus Tech Nepal Pvt Ltd', 'Bheri Environmental Excellence Group (BEE-Group) Banke', 'Campaign Nepal', 'Centre for Agro Ecology and Development', \"Vaidya's Organisation of Industries and Trading Houses (VOITH)\", 'JobsNepal.com Direct Recruitment Service', 'JobsNepal.com Direct Recruitment Service', 'NCA College of Management', 'REED Nepal', 'Support Nepal', 'Support Nepal', 'UNDP', 'Mercy Corps', 'Mercy Corps', 'Mercy Corps', 'RUDEC Nepal', 'Reputed travel company', 'SAPPROS Nepal', 'Handicap International', 'Siddhi M. Foundation / Siddhi M. Hospital', 'Helvetas Nepal', 'Heifer International Nepal', 'National Consulting Group Nepal', 'Winrock International (Feed the Future Nepal USAID Agricultural Inputs)', 'JobsNepal.com Direct Recruitment Service', 'Beautiful Coffee Nepal', 'MinErgy Private Limited', 'The Asia Foundation', 'Plan International Nepal', 'Tizig Pharma Pvt. Ltd', 'British Gurkhas Nepal']\n",
      "Locations: ['Kathmandu, Sunsari, Jhapa, Itahari', 'Dhanusha', 'Lalitpur', 'Surkhet', 'Dhangadhi', 'Bajhang', 'Lalitpur', 'Lalitpur', 'Lalitpur', 'Lalitpur', 'Tikapur,Kailali', 'Sarlahi', 'Agriculture, Development and Project', 'Development and Project, Expression of Interests, Tender Notice, Bid, Development / NGO', 'Development and Project, Development / NGO', 'Development and Project, Expression of Interests, Tender Notice, Bid', 'Accounting and Finance, Finance & Administration, Development / NGO', 'Development and Project, Expression of Interests, Tender Notice, Bid, Development / NGO', 'Development and Project, Development studies, Management', 'Development and Project, Expression of Interests, Tender Notice, Bid', 'Development and Project, Nursing', 'Education, Development and Project', 'Development and Project, Development / INGO', 'Development and Project', 'Agriculture, Social Science, Development and Project, Development studies, Management, Forestry', 'Development and Project, Expression of Interests, Tender Notice, Bid, Development / NGO', 'Development and Project, NGO/INGO/Social work', 'Administrative / Management, Development and Project', 'Development and Project', 'Accounting and Finance, Finance & Administration, Development / NGO', 'Development and Project, NGO/INGO/Social work', 'Development and Project, NGO/INGO/Social work', 'Computer - Hardware / Network, Diploma in Computer Engineering', 'Development and Project, Development / INGO', 'Development and Project, Expression of Interests, Tender Notice, Bid, Development / NGO', 'Development / NGO, Development / INGO', 'Development and Project, Expression of Interests, Tender Notice, Bid, Development / NGO', 'Accounting and Finance, Finance & Administration, Development / NGO', 'Expression of Interests, Tender Notice, Bid', 'Development and Project, Expression of Interests, Tender Notice, Bid, Development / NGO', 'Information Technology, Social Science, Development and Project', 'Accounting and Finance, Hospitality / Hotel, Auditing', 'Engineering - Architecture', 'Engineering - Architecture', 'Administrative / Management, law', 'Social Science, Development and Project, Development studies, Management', 'Development and Project, Expression of Interests, Tender Notice, Bid, Development / NGO', 'Development and Project, Expression of Interests, Tender Notice, Bid', 'Development and Project, NGO/INGO/Social work', 'Administrative / Management, Marketing', 'Development and Project, Development / NGO', 'Research', 'Engineering - Civil, Development and Project, Finance & Administration', 'Development and Project, Expression of Interests, Tender Notice, Bid, Development / NGO', 'Development and Project, Expression of Interests, Tender Notice, Bid', 'Development and Project, Expression of Interests, Tender Notice, Bid', 'Agriculture + Livestock, Accounting and Finance, Development and Project, Development / NGO', 'Business Development, Development / Administrative, Marketing Representatives', 'Mobile App Development, Software Development', 'Development and Project, Development / Administrative, NGO/INGO/Social work', 'Development and Project, Expression of Interests, Tender Notice, Bid, Development / NGO', 'Development and Project, Development / NGO, Engineering', 'Development and Project, Expression of Interests, Tender Notice, Bid', 'Development and Project, Nursing', 'Development and Project, Expression of Interests, Tender Notice, Bid, Development / NGO', 'Development and Project, Development / NGO, Forestry', 'Education, Development and Project', 'Public Health, Social Science, Development and Project', 'Development and Project, Development / NGO', 'Development and Project, Expression of Interests, Tender Notice, Bid', 'Development and Project, Expression of Interests, Tender Notice, Bid', 'Development and Project, Expression of Interests, Tender Notice, Bid', 'Development and Project, Expression of Interests, Tender Notice, Bid, Development / NGO', 'Development and Project, Expression of Interests, Tender Notice, Bid', 'Engineer, Software Development', 'Development and Project, Development / NGO', 'Engineering - Software, Software Development', 'Development and Project, Expression of Interests, Tender Notice, Bid, Development / INGO', 'Social Science, Development and Project, Human Rights', 'Development and Project, Expression of Interests, Tender Notice, Bid, Development / NGO', 'Media / Journalism, Development and Project, Expression of Interests, Tender Notice, Bid', 'Development and Project, Expression of Interests, Tender Notice, Bid, Development / NGO', 'Development and Project, Expression of Interests, Tender Notice, Bid, Development / INGO', '', 'Development and Project, Expression of Interests, Tender Notice, Bid, Development / NGO', 'Kathmandu', 'Kathmandu', 'Kathmandu', 'Birendranagar Surkhet', 'Lalitpur', 'Karnali Province', 'Lalitpur', 'Kathmandu', '', 'Development and Project, Expression of Interests, Tender Notice, Bid, Development / INGO', 'Accounting and Finance', 'Development and Project, Environment and climate', 'Development and Project, Expression of Interests, Tender Notice, Bid, Development / NGO', 'Development and Project, Expression of Interests, Tender Notice, Bid, Development / NGO', 'Development and Project, Development / INGO', 'Administrative / Management', 'Administrative / Management', '', 'Development and Project, Expression of Interests, Tender Notice, Bid', 'Development and Project, Expression of Interests, Tender Notice, Bid', 'Development and Project, Expression of Interests, Tender Notice, Bid, Development / NGO', 'Development and Project, NGO/INGO/Social work', 'Development and Project, Development / INGO', 'Development and Project, Development / INGO', 'Development and Project, Expression of Interests, Tender Notice, Bid, Development / NGO', 'Development and Project, Expression of Interests, Tender Notice, Bid, Development / NGO', 'Photography, Development and Project', 'Development and Project', 'Social Marketer, Social media marketing, Data collection', 'Engineer, Engineering - Mechanical, Engineering', 'Hospitality / Hotel', 'Education, Public Health, Social Science, Development and Project, NGO/INGO/Social work', 'Development and Project, Research', 'Development and Project, Expression of Interests, Tender Notice, Bid', 'Development and Project, Expression of Interests, Tender Notice, Bid, Development / NGO', 'Development / NGO, Development / INGO', 'Development and Project, Expression of Interests, Tender Notice, Bid', 'Database Programming, Web Designing & Programming, Computer - Programming, Web Designing and Programming', 'Development and Project, Expression of Interests, Tender Notice, Bid, Development / NGO', 'Administrative / Management, Development and Project', 'Development and Project, Research, Development / NGO', 'Information Technology', 'Front Desk / Reception, Documentation Officer', 'Sales, Travel & Ticketing, Marketing', 'Administrative / Management, Business Development, Business Administration', 'Development and Project, Development / NGO', 'Development and Project, Finance & Administration', 'Education, Public Health, Social Science, Development and Project, Development studies, Management', 'Social Science, Development and Project, Expression of Interests, Tender Notice, Bid', 'Development and Project', 'Development and Project, Finance & Administration', 'Development and Project', 'Kathmandu', 'Kathmandu', 'Kathmandu', 'Physiotherapist', 'Development / INGO', 'Development and Project, Development / INGO', 'Kathmandu', 'Kathmandu', 'Lalitpur', 'Lalitpur', 'Kathmandu', 'Lalitpur', 'Kathmandu, Banepa, Nala', 'Lalitpur']\n",
      "Categories: ['Public Health, Social Science, Development and Project', 'Accounting and Finance, Development and Project, Finance & Administration, Development / NGO', 'Development and Project, Expression of Interests, Tender Notice, Bid, Development / NGO', 'Communication', 'Engineering - Agriculture, Development / INGO, Business Management', 'Development and Project, NGO/INGO/Social work', 'Development and Project, Finance & Administration', 'Development / INGO', 'Education, Social Science, Development and Project', 'Development and Project, Expression of Interests, Tender Notice, Bid, Development / INGO', 'Development and Project, Development / NGO', 'Public Health, Social Science, Development and Project, Finance & Administration, Development studies, Management', 'Kathmandu', 'Gorkha', 'Sindhuli', 'Sindhuli', 'Kapilvastu', 'Kathmandu', 'Terai Region, Janakpur', 'Banke', 'Kathmandu', 'Kapilvastu', 'Kathmandu', 'Kathmandu', 'Kathmandu', 'Terai Region, Kapilvastu, Banke', 'Lalitpur', 'Kathmandu, Sarlahi', 'Surkhet', 'Kathmandu', 'Chitwan', 'Lalitpur', 'Rautahat', 'Kathmandu', 'Chitwan', 'Kathmandu', 'Bardiya', 'Kathmandu', 'Kathmandu', 'Database administrator', 'Kathmandu', 'Kathmandu', 'Kathmandu', 'Kathmandu', 'Kailali, Sudurpashchim Province', 'Lalitpur', 'Kathmandu', 'Bajhang, Bajura', 'Kathmandu', 'Kathmandu', 'Kathmandu', 'Jajarkot', 'Jajarkot', 'Kanchanpur', 'Parsa', 'Nuwakot', 'Kathmandu, Janakpur, Lahan, Narayanghat', 'Lalitpur', 'Terai Region', 'Dhanusha', 'Dailekh, Jajarkot', 'Kathmandu', 'Mugu, Bajura, Humla', 'Nepalgunj', 'Kathmandu', 'Kathmandu', 'Kathmandu, Janakpur, Butwal, Dhangadhi, Dhanusha, Bara, Bardiya', 'Bajhang, Sudurpashchim Province', 'Lalitpur', 'Kathmandu', 'Kathmandu', 'Dhading', 'Kathmandu', 'Kathmandu', 'Dhangadhi, Kailali', 'Kathmandu', 'Kathmandu', 'Lalitpur', 'Bardiya', 'Kathmandu', 'Kathmandu', 'Lalitpur', '', 'Banke', '', 'Photography, Research, Research Officer, Environment and climate', 'Administrative / Management, Development and Project', 'Development and Project, Development / NGO, NGO/INGO/Social work', 'Social Science, Development and Project, Counseling / PsychoSocial', 'Development and Project, Expression of Interests, Tender Notice, Bid', 'Photography, Leadership, Development and Project, Video Production', 'Development and Project, NGO/INGO/Social work', 'Development and Project, Driver', 'Kathmandu', 'Kathmandu', 'Kathmandu', 'Lalitpur', 'Lalitpur, Janakpurdham', 'Kathmandu', 'Kathmandu', 'Kathmandu', 'Terai Region', 'Lalitpur', 'Rolpa', 'Kapilvastu', 'Bajhang', 'Gulmi', 'Lalitpur', 'Rautahat', 'Lalitpur', 'Kathmandu', 'Lalitpur', 'Itahari', 'Itahari, Sunsari', 'Lalitpur', 'Kathmandu', 'Kathmandu, Janakpur', 'Mahottari', 'Sarlahi', 'Kathmandu', 'Kathmandu', 'New Baneshwor, Kathmandu', 'Banke', 'Rautahat', 'Kathmandu, Dolpa', 'Kathmandu', 'Kathmandu', 'Kathmandu', 'Kathmandu', 'Dhading', 'Kathmandu', 'Janakpurdham', 'Kathmandu', 'Lalitpur', 'Kathmandu', 'Lalitpur', '', 'Accounting and Finance, Finance & Administration, Business Administration', 'Development and Project, Expression of Interests, Tender Notice, Bid', 'Development and Project, Expression of Interests, Tender Notice, Bid, Development / INGO', 'Bagmati Province, Lumbini Province, Koshi Pradesh', 'Lalitpur', 'Development / INGO', 'Development and Project, Expression of Interests, Tender Notice, Bid, Development / INGO', 'Accounting and Finance', 'Development and Project, Expression of Interests, Tender Notice, Bid', 'Development and Project', 'Development and Project, Expression of Interests, Tender Notice, Bid', 'Development and Project, Expression of Interests, Tender Notice, Bid', 'Sales, Engineering - Electrical, Engineering - Mechanical, Marketing Representatives', 'Other / Misc.']\n"
     ]
    }
   ],
   "source": [
    "job_titles = []\n",
    "datacompany = []\n",
    "doubledata = []\n",
    "\n",
    "for page_num in range(1, 14):\n",
    "    url = f'https://www.jobsnepal.com/jobs?page={page_num}'\n",
    "\n",
    "    request = urllib.request.Request(url, headers={'User-Agent': user_agent})\n",
    "    response = urllib.request.urlopen(request)\n",
    "    \n",
    "    html_content = response.read().decode('utf-8')\n",
    "\n",
    "\n",
    "    soup = BeautifulSoup(html_content, 'html.parser')\n",
    "\n",
    "    \n",
    "    alldata = soup.find_all('div', class_='col-md-8 px-0 top-content')\n",
    "\n",
    "    title = soup.find_all('h2', class_='job-title')\n",
    "\n",
    "   \n",
    "    job_titles.extend([h2.text.strip() for h2 in title])\n",
    "\n",
    "    datacompany_elements = soup.find_all('div', class_='card-inner')\n",
    "\n",
    "    for element in datacompany_elements:\n",
    "        company_name = element.find('a').get('title') if element.find('a') else None\n",
    "        if company_name:\n",
    "            datacompany.append(company_name.strip())\n",
    "\n",
    "\n",
    "\n",
    "    datadouble_data = soup.find_all('div', class_=['icon-price-tags mr-2 text-success icon-sm', 'd-flex align-items-center pl-1 pr-1 py-1'])\n",
    "\n",
    "    data_elements = soup.find_all('div', class_=['icon-price-tags mr-2 text-success icon-sm', 'd-flex align-items-center pl-1 pr-1 py-1'])\n",
    "\n",
    "    for element in data_elements:\n",
    "        bothdata = element.find('div')\n",
    "        if bothdata:\n",
    "            data = bothdata.text.strip()\n",
    "            doubledata.append(data) \n",
    "\n",
    "    \n",
    "locations = doubledata[::2]\n",
    "categories = doubledata[1::2]\n",
    "    \n",
    "\n",
    "print(\"Job Titles:\", job_titles)\n",
    "print(\"Company:\", datacompany)\n",
    "print(\"Locations:\", locations)\n",
    "print(\"Categories:\", categories)"
   ]
  },
  {
   "cell_type": "markdown",
   "id": "4f9fa7e9-33e3-4ab4-9729-95fdb094d51f",
   "metadata": {},
   "source": [
    "# Export to CSV"
   ]
  },
  {
   "cell_type": "code",
   "execution_count": 6,
   "id": "020394ba-dfe8-48d5-935c-dc4904ae2d18",
   "metadata": {},
   "outputs": [
    {
     "name": "stdout",
     "output_type": "stream",
     "text": [
      "Data exported to csv/jobs.csv\n"
     ]
    }
   ],
   "source": [
    "data = list(zip(job_titles, datacompany,locations,categories))\n",
    "import csv\n",
    "\n",
    "# Define the CSV file path\n",
    "csv_file = 'csv/jobs.csv'\n",
    "\n",
    "with open(csv_file, 'w', newline='', encoding='utf-8') as file:\n",
    "    writer = csv.writer(file)\n",
    "    writer.writerow(['Job Title', 'Company', 'Location', 'Category'])  # Write header row\n",
    "    writer.writerows(data)  # Write data rows\n",
    "\n",
    "print(f'Data exported to {csv_file}')"
   ]
  },
  {
   "cell_type": "code",
   "execution_count": null,
   "id": "b1625712-3fa8-48d9-a139-63c43e8e1d52",
   "metadata": {},
   "outputs": [],
   "source": []
  },
  {
   "cell_type": "code",
   "execution_count": null,
   "id": "885d334f-838c-4fb8-b831-8e8a5f681841",
   "metadata": {},
   "outputs": [],
   "source": []
  },
  {
   "cell_type": "code",
   "execution_count": null,
   "id": "942c6c56-faa3-4cec-b2dc-544c071b9362",
   "metadata": {},
   "outputs": [],
   "source": []
  }
 ],
 "metadata": {
  "kernelspec": {
   "display_name": "Python 3 (ipykernel)",
   "language": "python",
   "name": "python3"
  },
  "language_info": {
   "codemirror_mode": {
    "name": "ipython",
    "version": 3
   },
   "file_extension": ".py",
   "mimetype": "text/x-python",
   "name": "python",
   "nbconvert_exporter": "python",
   "pygments_lexer": "ipython3",
   "version": "3.12.4"
  }
 },
 "nbformat": 4,
 "nbformat_minor": 5
}
