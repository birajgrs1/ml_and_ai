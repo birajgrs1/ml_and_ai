{
 "cells": [
  {
   "cell_type": "code",
   "execution_count": 1,
   "id": "b5c35298-bd4f-4fb4-8410-0f1a7daa6925",
   "metadata": {},
   "outputs": [],
   "source": [
    "import re\n",
    "import urllib.request"
   ]
  },
  {
   "cell_type": "code",
   "execution_count": 2,
   "id": "fcdb76dc-c3ea-4d39-a5ad-186750ab24ef",
   "metadata": {},
   "outputs": [],
   "source": [
    "user_agent = 'Mozilla/5.0 (Windows NT 10.0; Win64; x64) AppleWebKit/537.36 (KHTML, like Gecko) Chrome/58.0.3029.110 Safari/537.3'\n"
   ]
  },
  {
   "cell_type": "code",
   "execution_count": 3,
   "id": "d03f2a2d-af8b-4cd3-be56-59b8ecc99bc7",
   "metadata": {},
   "outputs": [],
   "source": [
    "url = 'https://www.sharesansar.com/today-share-price'\n",
    "request = urllib.request.Request(url, headers={'User-Agent': user_agent})\n",
    "response = urllib.request.urlopen(request)\n",
    "html_content = response.read().decode('utf-8')"
   ]
  },
  {
   "cell_type": "code",
   "execution_count": 4,
   "id": "d3ebf17c-fd9e-4e6f-b945-158c559a1e26",
   "metadata": {},
   "outputs": [],
   "source": [
    "# Extracting data within <thead> tags from both tables\n",
    "thead_pattern = r'<thead>(.*?)</thead>'\n",
    "thead_data = re.findall(thead_pattern, html_content, re.DOTALL)              \n",
    "\n",
    "head_data_all = []\n",
    "\n",
    "# Iterate over each element of thead_data and extract data within <th> tags\n",
    "for data in thead_data:\n",
    "    head_data = re.findall(r'<th.*?>(.*?)</th>', data, re.DOTALL)\n",
    "    head_data_all.extend(head_data)\n",
    "\n",
    "# print(\"T_Head:\", head_data_all)"
   ]
  },
  {
   "cell_type": "code",
   "execution_count": 5,
   "id": "d954c8ca-6737-49dd-b82b-efca1fdf82f9",
   "metadata": {},
   "outputs": [],
   "source": [
    "# Extracting data within <tbody> tags\n",
    "tbody_pattern = r'<tbody>(.*?)</tbody>'\n",
    "tbody_data = re.findall(tbody_pattern, html_content, re.DOTALL)              \n",
    "\n",
    "matches_data_all = []\n",
    "\n",
    "# Iterate over each element of tbody_data and extract data within <td> tags\n",
    "for data in tbody_data:\n",
    "    matches_data = re.findall(r'<td.*?>(.*?)</td>', data, re.DOTALL)\n",
    "    matches_data_all.extend(matches_data)\n",
    "\n",
    "# print(\"tbody_text\", matches_data_all)"
   ]
  },
  {
   "cell_type": "code",
   "execution_count": 6,
   "id": "63b2512d-6107-4136-939d-203d895dc12b",
   "metadata": {},
   "outputs": [],
   "source": [
    "# Separate the list into sublists of 21 elements each\n",
    "sublists = [matches_data_all[i:i+21] for i in range(0, len(matches_data_all), 21)]\n",
    "\n",
    "# Extract data into separate lists\n",
    "S_No = [item[0] for item in sublists]\n",
    "Symbol = [item[1] for item in sublists]\n",
    "\n",
    "Conf = [item[2] for item in sublists]\n",
    "Open = [item[3] for item in sublists]\n",
    "High = [item[4] for item in sublists]\n",
    "Low = [item[5] for item in sublists]\n",
    "Close = [item[6] for item in sublists]\n",
    "VWAP = [item[7] for item in sublists]\n",
    "Vol = [item[8] for item in sublists]\n",
    "Prev_Close = [item[9] for item in sublists]\n",
    "Turnover = [item[10] for item in sublists]\n",
    "Trans = [item[11] for item in sublists]\n",
    "Diff = [item[12] for item in sublists]\n",
    "Range = [item[13] for item in sublists]\n",
    "Diff_Percent = [item[14] for item in sublists]\n",
    "Range_Percent = [item[15] for item in sublists]\n",
    "VWAP_Percent = [item[16] for item in sublists]\n",
    "Days_120 = [item[17] for item in sublists]\n",
    "Days_180 = [item[18] for item in sublists]\n",
    "Weeks_High = [item[19] for item in sublists]\n",
    "Weeks_Low = [item[20] for item in sublists]"
   ]
  },
  {
   "cell_type": "code",
   "execution_count": 9,
   "id": "c938c8e1-aaa9-4968-9c68-a73779ab1799",
   "metadata": {},
   "outputs": [],
   "source": [
    "# # Print the separated lists\n",
    "# print(\"S.No:\", S_No)\n",
    "# print(\"Symbol:\", Symbol)\n",
    "# print(\"Conf:\", Conf)\n",
    "# print(\"Open:\", Open)\n",
    "# print(\"High:\", High)\n",
    "# print(\"Low:\", Low)\n",
    "# print(\"Close:\", Close)\n",
    "# print(\"VWAP:\", VWAP)\n",
    "# print(\"Vol:\", Vol)\n",
    "# print(\"Prev. Close:\", Prev_Close)\n",
    "# print(\"Turnover:\", Turnover)\n",
    "# print(\"Trans:\", Trans)\n",
    "# print(\"Diff:\", Diff)\n",
    "# print(\"Range:\", Range)\n",
    "# print(\"Diff %:\", Diff_Percent)\n",
    "# print(\"Range %:\", Range_Percent)\n",
    "# print(\"VWAP %:\", VWAP_Percent)\n",
    "# print(\"120 Days:\", Days_120)\n",
    "# print(\"180 Days:\", Days_180)\n",
    "# print(\"52 Weeks High:\", Weeks_High)\n",
    "# print(\"52 Weeks Low:\", Weeks_Low)"
   ]
  },
  {
   "cell_type": "code",
   "execution_count": 10,
   "id": "89e69e98-9c46-42a6-8708-cce3d2e2e902",
   "metadata": {},
   "outputs": [],
   "source": [
    "pattern = r'title=\"([^\"]+)\"[^>]*>([^<]+)<\\/a>'\n",
    "\n",
    "matches = re.findall(pattern, ''.join(Symbol))\n",
    "\n",
    "names = []\n",
    "symbols_list = []\n",
    "\n",
    "for name, symbol in matches:\n",
    "    names.append(name)\n",
    "    symbols_list.append(symbol)\n",
    "\n",
    "# print(\"Names:\", names)\n",
    "# print(\"Symbols:\", symbols_list)"
   ]
  },
  {
   "cell_type": "code",
   "execution_count": 11,
   "id": "b8d043ef-b935-45a2-b0fc-da7934286f4a",
   "metadata": {},
   "outputs": [
    {
     "name": "stdout",
     "output_type": "stream",
     "text": [
      "CSV file exported successfully.\n"
     ]
    }
   ],
   "source": [
    "import csv\n",
    "\n",
    "# Define the file name\n",
    "csv_filename = \"csv/nepse_data.csv\"\n",
    "\n",
    "# Combine the separated lists into rows\n",
    "rows = zip( names ,symbols_list, Conf, Open, High, Low, Close, VWAP, Vol, Prev_Close, Turnover, Trans, Diff, Range, Diff_Percent, Range_Percent, VWAP_Percent, Days_120, Days_180, Weeks_High, Weeks_Low)\n",
    "\n",
    "# Write the rows to a CSV file\n",
    "with open(csv_filename, 'w', newline='') as csvfile:\n",
    "    writer = csv.writer(csvfile)\n",
    "    \n",
    "    # Write the header\n",
    "    writer.writerow([ 'Name','Symbol', 'Conf', 'Open', 'High', 'Low', 'Close', 'VWAP', 'Vol', 'Prev. Close', 'Turnover', 'Trans', 'Diff', 'Range', 'Diff %', 'Range %', 'VWAP %', '120 Days', '180 Days', '52 Weeks High', '52 Weeks Low'])\n",
    "    \n",
    "    # Write the rows\n",
    "    for row in rows:\n",
    "        writer.writerow(row)\n",
    "\n",
    "print(\"CSV file exported successfully.\")"
   ]
  },
  {
   "cell_type": "code",
   "execution_count": null,
   "id": "3684555f-e3e6-449e-b199-715721ed6835",
   "metadata": {},
   "outputs": [],
   "source": []
  }
 ],
 "metadata": {
  "kernelspec": {
   "display_name": "Python 3 (ipykernel)",
   "language": "python",
   "name": "python3"
  },
  "language_info": {
   "codemirror_mode": {
    "name": "ipython",
    "version": 3
   },
   "file_extension": ".py",
   "mimetype": "text/x-python",
   "name": "python",
   "nbconvert_exporter": "python",
   "pygments_lexer": "ipython3",
   "version": "3.12.4"
  }
 },
 "nbformat": 4,
 "nbformat_minor": 5
}
