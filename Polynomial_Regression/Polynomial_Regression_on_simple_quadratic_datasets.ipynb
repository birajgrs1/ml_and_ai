{
 "cells": [
  {
   "cell_type": "markdown",
   "id": "5e76e6f3-8279-49cf-9cc9-9c1355f123a2",
   "metadata": {},
   "source": [
    "# Importing Necessary Libraries"
   ]
  },
  {
   "cell_type": "code",
   "execution_count": 1,
   "id": "8f008acb-6607-47ce-bea9-57cfb8f43533",
   "metadata": {},
   "outputs": [],
   "source": [
    "import numpy as np\n",
    "\n",
    "import matplotlib.pyplot as plt\n",
    "\n",
    "from sklearn.model_selection import train_test_split\n",
    "from sklearn.linear_model import LinearRegression\n",
    "from sklearn.preprocessing import PolynomialFeatures\n",
    "from sklearn.metrics import r2_score\n"
   ]
  },
  {
   "cell_type": "markdown",
   "id": "3562058f-8998-4d3d-b850-079bd2becf61",
   "metadata": {},
   "source": [
    "# Creating and Visualizing Data"
   ]
  },
  {
   "cell_type": "code",
   "execution_count": 6,
   "id": "4589a050-faca-4c43-9362-daab354dbea1",
   "metadata": {},
   "outputs": [
    {
     "name": "stdout",
     "output_type": "stream",
     "text": [
      "X datasets:::  [[-3.29215704]\n",
      " [ 0.79952837]\n",
      " [-0.93621395]\n",
      " [-4.7226796 ]\n",
      " [-3.60267397]\n",
      " [ 4.93183364]\n",
      " [-0.85026525]\n",
      " [ 2.45407162]\n",
      " [ 2.30965656]\n",
      " [ 0.76820449]\n",
      " [ 1.56786929]\n",
      " [-2.36282052]\n",
      " [-0.28311318]\n",
      " [ 1.63497495]\n",
      " [ 0.6684103 ]\n",
      " [ 0.99897702]\n",
      " [-2.48223722]\n",
      " [ 2.61547479]\n",
      " [ 1.0607969 ]\n",
      " [ 4.56228722]\n",
      " [ 9.65896945]\n",
      " [ 0.03914421]\n",
      " [-0.5933086 ]\n",
      " [ 4.22649506]\n",
      " [-4.80926387]\n",
      " [ 6.36309702]\n",
      " [ 1.86272445]\n",
      " [ 2.56155155]\n",
      " [-2.59833764]\n",
      " [-2.40807631]\n",
      " [ 1.53515772]\n",
      " [ 0.86551244]\n",
      " [ 4.66335724]\n",
      " [ 7.9423894 ]\n",
      " [ 3.04373645]\n",
      " [ 1.53095309]\n",
      " [-1.69087204]\n",
      " [-1.60713955]\n",
      " [ 3.16198045]\n",
      " [ 2.90690825]\n",
      " [ 5.1456589 ]\n",
      " [ 6.26005381]\n",
      " [ 7.11881057]\n",
      " [-3.85232619]\n",
      " [ 3.52895655]\n",
      " [ 3.3142229 ]\n",
      " [ 5.75838608]\n",
      " [-0.33247107]\n",
      " [ 6.84169354]\n",
      " [ 2.63822084]\n",
      " [ 4.68639968]\n",
      " [ 0.83929251]\n",
      " [ 3.53241541]\n",
      " [ 5.54189655]\n",
      " [ 2.08454669]\n",
      " [ 0.71500439]\n",
      " [ 1.80044833]\n",
      " [ 1.09258431]\n",
      " [ 3.90296628]\n",
      " [ 3.0882235 ]\n",
      " [ 4.01738134]\n",
      " [ 3.07865948]\n",
      " [ 4.43943885]\n",
      " [ 7.17884781]\n",
      " [ 1.46772157]\n",
      " [ 3.20534281]\n",
      " [ 6.89059504]\n",
      " [ 0.61165323]\n",
      " [ 4.72189509]\n",
      " [ 1.84416381]\n",
      " [-0.18727169]\n",
      " [ 1.61305127]\n",
      " [-1.41820205]\n",
      " [ 5.70447746]\n",
      " [ 0.79297508]\n",
      " [ 4.05443027]\n",
      " [ 4.61239145]\n",
      " [ 3.73654899]\n",
      " [ 2.9346576 ]\n",
      " [ 1.83150397]\n",
      " [ 5.49544952]\n",
      " [-0.70247946]\n",
      " [ 0.60301268]\n",
      " [ 6.60873106]\n",
      " [-2.46475658]\n",
      " [-3.68766753]\n",
      " [-1.53633871]\n",
      " [ 2.53977451]\n",
      " [ 5.21225786]\n",
      " [-1.16335518]\n",
      " [ 3.20953084]\n",
      " [-1.66733521]\n",
      " [ 1.37517507]\n",
      " [-0.92991711]\n",
      " [ 0.93090081]\n",
      " [-0.1197195 ]\n",
      " [ 1.96849994]\n",
      " [-3.35761148]\n",
      " [ 1.61926372]\n",
      " [ 0.79403191]]\n",
      "y datasets:::  [[-2.23193009e+01]\n",
      " [-7.52224005e+00]\n",
      " [-9.50066208e+00]\n",
      " [-4.94218946e+01]\n",
      " [-3.60805637e+01]\n",
      " [-4.08832689e+01]\n",
      " [-6.53702419e+00]\n",
      " [-1.48332279e+01]\n",
      " [-5.59054417e+00]\n",
      " [ 1.02947258e+00]\n",
      " [-7.45882031e-01]\n",
      " [-1.38105282e+01]\n",
      " [-6.02709637e+00]\n",
      " [-9.81116368e-01]\n",
      " [-4.02914447e+00]\n",
      " [-1.58956396e+00]\n",
      " [-1.49634845e+01]\n",
      " [-1.45309723e+01]\n",
      " [-2.34754510e+00]\n",
      " [-3.73000221e+01]\n",
      " [-1.78803136e+02]\n",
      " [-6.26212270e+00]\n",
      " [-3.40262426e+00]\n",
      " [-3.05208683e+01]\n",
      " [-5.61510054e+01]\n",
      " [-7.80638141e+01]\n",
      " [-9.38222095e+00]\n",
      " [-8.01374995e+00]\n",
      " [-1.70841704e+01]\n",
      " [-1.57833538e+01]\n",
      " [-8.48800897e+00]\n",
      " [-2.01496356e+00]\n",
      " [-4.38534423e+01]\n",
      " [-1.21125218e+02]\n",
      " [-2.03924649e+01]\n",
      " [-4.12738177e+00]\n",
      " [-8.67919612e+00]\n",
      " [-1.03978309e+01]\n",
      " [-1.86462402e+01]\n",
      " [-2.02725074e+01]\n",
      " [-5.52837248e+01]\n",
      " [-7.37983185e+01]\n",
      " [-9.67360969e+01]\n",
      " [-3.46280660e+01]\n",
      " [-1.72286777e+01]\n",
      " [-1.88204856e+01]\n",
      " [-6.62981011e+01]\n",
      " [-2.02496225e-01]\n",
      " [-9.37235698e+01]\n",
      " [-1.56669514e+01]\n",
      " [-4.24430091e+01]\n",
      " [ 1.57049685e+00]\n",
      " [-2.66577663e+01]\n",
      " [-6.13626539e+01]\n",
      " [-9.90148065e+00]\n",
      " [-5.29789302e+00]\n",
      " [-4.30287230e+00]\n",
      " [-7.53469115e+00]\n",
      " [-3.30057313e+01]\n",
      " [-2.02994854e+01]\n",
      " [-3.27554217e+01]\n",
      " [-1.30890328e+01]\n",
      " [-3.51295333e+01]\n",
      " [-9.86302101e+01]\n",
      " [-9.51699822e+00]\n",
      " [-1.78100133e+01]\n",
      " [-9.40706510e+01]\n",
      " [-7.77089941e+00]\n",
      " [-3.93066021e+01]\n",
      " [-7.00688869e+00]\n",
      " [-4.94836584e-01]\n",
      " [-5.63463456e+00]\n",
      " [-5.87030435e+00]\n",
      " [-6.43307255e+01]\n",
      " [-6.56737239e+00]\n",
      " [-2.97775958e+01]\n",
      " [-4.33461473e+01]\n",
      " [-2.92556971e+01]\n",
      " [-1.86563703e+01]\n",
      " [-7.82487216e+00]\n",
      " [-5.89664631e+01]\n",
      " [-8.81428813e+00]\n",
      " [-5.05509111e+00]\n",
      " [-9.04121308e+01]\n",
      " [-1.57391122e+01]\n",
      " [-3.86916241e+01]\n",
      " [-1.25701620e+01]\n",
      " [-1.32046394e+01]\n",
      " [-5.43416952e+01]\n",
      " [-2.24110195e+00]\n",
      " [-2.42712163e+01]\n",
      " [-9.42619602e+00]\n",
      " [-5.52488631e+00]\n",
      " [-9.16368926e+00]\n",
      " [-2.23242184e+00]\n",
      " [-3.66302402e+00]\n",
      " [-6.46611242e+00]\n",
      " [-2.64342087e+01]\n",
      " [-1.35058432e-01]\n",
      " [ 5.42642411e-01]]\n"
     ]
    }
   ],
   "source": [
    "# Creating dataset\n",
    "np.random.seed(0)\n",
    "X = 2 - 3 * np.random.normal(0, 1, 100).reshape(-1, 1)\n",
    "y = X - 2 * (X ** 2) + np.random.normal(-3, 3, 100).reshape(-1, 1)\n",
    "print(\"X datasets::: \",X)\n",
    "print(\"y datasets::: \",y)"
   ]
  },
  {
   "cell_type": "code",
   "execution_count": 3,
   "id": "e87bb473-b977-4a76-b533-13e2617fd22f",
   "metadata": {},
   "outputs": [
    {
     "data": {
      "image/png": "[encoded data removed]",
      "text/plain": [
       "<Figure size 640x480 with 1 Axes>"
      ]
     },
     "metadata": {},
     "output_type": "display_data"
    }
   ],
   "source": [
    "# Visualize the data\n",
    "plt.scatter(X, y, color='blue')\n",
    "plt.title('Scatter plot of the data')\n",
    "plt.xlabel('X')\n",
    "plt.ylabel('y')\n",
    "plt.show()\n"
   ]
  },
  {
   "cell_type": "markdown",
   "id": "57c9eff9-9201-42e6-bfb6-6b7264141d1e",
   "metadata": {},
   "source": [
    "# Split Data into Train and Test Sets"
   ]
  },
  {
   "cell_type": "code",
   "execution_count": 11,
   "id": "9bffa720-8fd1-4744-acd9-f49e7dbfb6a9",
   "metadata": {},
   "outputs": [
    {
     "data": {
      "text/plain": [
       "array([[-90.41213081],\n",
       "       [ -8.48800897],\n",
       "       [ -4.3028723 ],\n",
       "       [-56.15100543],\n",
       "       [-14.96348454],\n",
       "       [-30.52086825],\n",
       "       [ -9.50066208],\n",
       "       [ -8.01374995],\n",
       "       [-17.08417039],\n",
       "       [ -0.98111637],\n",
       "       [  0.54264241],\n",
       "       [ -5.52488631],\n",
       "       [-43.34614728],\n",
       "       [ -4.02914447],\n",
       "       [-22.31930087],\n",
       "       [ -6.2621227 ],\n",
       "       [-49.42189464],\n",
       "       [-15.78335383],\n",
       "       [-13.0890328 ],\n",
       "       [ -7.82487216]])"
      ]
     },
     "execution_count": 11,
     "metadata": {},
     "output_type": "execute_result"
    }
   ],
   "source": [
    "x_train, x_test, y_train, y_test = train_test_split(X, y, test_size=0.2, random_state=2)\n",
    "# x_train\n",
    "\n",
    "# y_test"
   ]
  },
  {
   "cell_type": "markdown",
   "id": "ef4ed22b-e1fb-44e5-80de-851607ab4202",
   "metadata": {},
   "source": [
    "# Applying Simple linear regression"
   ]
  },
  {
   "cell_type": "code",
   "execution_count": 16,
   "id": "80111e84-e312-4a37-8717-fafe9364bcfd",
   "metadata": {},
   "outputs": [
    {
     "data": {
      "text/plain": [
       "array([[-63.00671736],\n",
       "       [-22.21842643],\n",
       "       [-24.35119359],\n",
       "       [ 28.78667326],\n",
       "       [ 10.07886442],\n",
       "       [-43.85506063],\n",
       "       [ -2.35017575],\n",
       "       [-30.46997761],\n",
       "       [ 11.01223771],\n",
       "       [-23.02089322],\n",
       "       [-16.26024799],\n",
       "       [-20.93226799],\n",
       "       [-46.95742124],\n",
       "       [-15.25033045],\n",
       "       [ 16.59010275],\n",
       "       [-10.19143279],\n",
       "       [ 28.09059096],\n",
       "       [  9.48265805],\n",
       "       [-34.62719531],\n",
       "       [-24.60086111]])"
      ]
     },
     "execution_count": 16,
     "metadata": {},
     "output_type": "execute_result"
    }
   ],
   "source": [
    "lr = LinearRegression()\n",
    "lr.fit(x_train, y_train)\n",
    "y_pred = lr.predict(x_test)\n",
    "\n",
    "# y_pred"
   ]
  },
  {
   "cell_type": "code",
   "execution_count": 17,
   "id": "d2c712db-cfc8-4de2-bf80-878e3a7bd7be",
   "metadata": {},
   "outputs": [
    {
     "name": "stdout",
     "output_type": "stream",
     "text": [
      "R2 Score for Linear Regression: -1.0552991792855355\n"
     ]
    }
   ],
   "source": [
    "print(\"R2 Score for Linear Regression:\", r2_score(y_test, y_pred))"
   ]
  },
  {
   "cell_type": "code",
   "execution_count": 18,
   "id": "f3569468-4d17-46c4-ae4e-dd1737f5a834",
   "metadata": {},
   "outputs": [
    {
     "data": {
      "image/png": "[encoded data removed]",
      "text/plain": [
       "<Figure size 640x480 with 1 Axes>"
      ]
     },
     "metadata": {},
     "output_type": "display_data"
    }
   ],
   "source": [
    "\n",
    "plt.scatter(X, y, color='blue')\n",
    "plt.plot(x_train, lr.predict(x_train), color=\"red\")\n",
    "plt.xlabel(\"X\")\n",
    "plt.ylabel(\"Y\")\n",
    "plt.title(\"Linear Regression Fit\")\n",
    "plt.show()\n"
   ]
  },
  {
   "cell_type": "markdown",
   "id": "0a2d7b4e-c664-4f94-9dde-fa346886e70d",
   "metadata": {},
   "source": [
    "# Applying Polynomial Regression"
   ]
  },
  {
   "cell_type": "code",
   "execution_count": 21,
   "id": "0fce168b-cc1f-48d6-97cd-335dff05ca94",
   "metadata": {},
   "outputs": [],
   "source": [
    "# Applying polynomial regression with degree 2\n",
    "poly = PolynomialFeatures(degree=2, include_bias=True)\n",
    "x_train_trans = poly.fit_transform(x_train)\n",
    "x_test_trans = poly.transform(x_test)\n",
    "\n",
    "# x_train_trans"
   ]
  },
  {
   "cell_type": "code",
   "execution_count": 22,
   "id": "ba5ecf93-4613-45cc-93ed-3b6228cc4016",
   "metadata": {},
   "outputs": [],
   "source": [
    "\n",
    "lr_poly = LinearRegression()\n",
    "lr_poly.fit(x_train_trans, y_train)\n",
    "y_pred_poly = lr_poly.predict(x_test_trans)\n"
   ]
  },
  {
   "cell_type": "code",
   "execution_count": null,
   "id": "c4fa69d9-27f8-4f80-bd3c-79b4b32b37c5",
   "metadata": {},
   "outputs": [],
   "source": [
    "print(\"R2 Score for Polynomial Regression:\", r2_score(y_test, y_pred_poly))\n",
    "\n",
    "# Visualize Polynomial Regression\n",
    "X_new = np.linspace(min(X), max(X), 200).reshape(200, 1)\n",
    "X_new_poly = poly.transform(X_new)\n",
    "y_new = lr_poly.predict(X_new_poly)\n",
    "\n",
    "plt.plot(X_new, y_new, \"r-\", linewidth=2, label=\"Predictions\")\n",
    "plt.scatter(x_train, y_train, color=\"blue\", label='Training points')\n",
    "plt.scatter(x_test, y_test, color=\"green\", label='Testing points')\n",
    "plt.xlabel(\"X\")\n",
    "plt.ylabel(\"y\")\n",
    "plt.legend()\n",
    "plt.title(\"Polynomial Regression Fit\")\n",
    "plt.show()\n",
    "\n",
    "print(\"Polynomial Coefficients:\", lr_poly.coef_)\n",
    "print(\"Polynomial Intercept:\", lr_poly.intercept_)\n"
   ]
  },
  {
   "cell_type": "code",
   "execution_count": null,
   "id": "7b390442-af65-4b37-be17-340bdff23c80",
   "metadata": {},
   "outputs": [],
   "source": []
  },
  {
   "cell_type": "code",
   "execution_count": null,
   "id": "c8c2b4ac-264a-4c26-bbf2-a5ef6a7dfe1a",
   "metadata": {},
   "outputs": [],
   "source": []
  },
  {
   "cell_type": "code",
   "execution_count": null,
   "id": "508e38a9-70b0-4fa6-94e1-f94e49aaeec7",
   "metadata": {},
   "outputs": [],
   "source": []
  },
  {
   "cell_type": "code",
   "execution_count": null,
   "id": "33899f83-c12f-4d59-8dd9-03d54b95cdda",
   "metadata": {},
   "outputs": [],
   "source": []
  },
  {
   "cell_type": "code",
   "execution_count": null,
   "id": "68847e9e-6c0e-49ca-8a03-202790955b20",
   "metadata": {},
   "outputs": [],
   "source": []
  },
  {
   "cell_type": "code",
   "execution_count": null,
   "id": "4eeea109-2d83-44af-902a-cc89752ecc2f",
   "metadata": {},
   "outputs": [],
   "source": []
  },
  {
   "cell_type": "code",
   "execution_count": null,
   "id": "cb5ab6a3-c2a1-450f-baa0-6725571abbc3",
   "metadata": {},
   "outputs": [],
   "source": []
  },
  {
   "cell_type": "code",
   "execution_count": null,
   "id": "2426cc2e-0f82-4f56-abbb-7de36d4cc224",
   "metadata": {},
   "outputs": [],
   "source": []
  },
  {
   "cell_type": "code",
   "execution_count": null,
   "id": "c3b16c2a-82aa-4d61-8443-cd3c9df5380a",
   "metadata": {},
   "outputs": [],
   "source": []
  },
  {
   "cell_type": "code",
   "execution_count": null,
   "id": "7e689bb4-f083-47b6-aac9-fbc5e60dedce",
   "metadata": {},
   "outputs": [],
   "source": []
  },
  {
   "cell_type": "code",
   "execution_count": null,
   "id": "17d74525-7868-44d1-bbeb-be2abc163504",
   "metadata": {},
   "outputs": [],
   "source": []
  },
  {
   "cell_type": "code",
   "execution_count": null,
   "id": "a5b79b36-4c03-489c-8e88-63b51def1aeb",
   "metadata": {},
   "outputs": [],
   "source": []
  },
  {
   "cell_type": "code",
   "execution_count": null,
   "id": "a7fccefa-3799-4a45-afb0-563bd7d3cf39",
   "metadata": {},
   "outputs": [],
   "source": []
  }
 ],
 "metadata": {
  "kernelspec": {
   "display_name": "Python 3 (ipykernel)",
   "language": "python",
   "name": "python3"
  },
  "language_info": {
   "codemirror_mode": {
    "name": "ipython",
    "version": 3
   },
   "file_extension": ".py",
   "mimetype": "text/x-python",
   "name": "python",
   "nbconvert_exporter": "python",
   "pygments_lexer": "ipython3",
   "version": "3.12.4"
  }
 },
 "nbformat": 4,
 "nbformat_minor": 5
}
