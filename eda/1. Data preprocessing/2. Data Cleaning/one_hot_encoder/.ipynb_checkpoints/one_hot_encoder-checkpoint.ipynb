{
 "cells": [
  {
   "cell_type": "code",
   "execution_count": 28,
   "id": "930251f8-e008-4c29-8457-d2e3705b1ba3",
   "metadata": {},
   "outputs": [],
   "source": [
    "#  Importing necessary libraries\n",
    "\n",
    "import pandas as pd\n",
    "from sklearn.preprocessing import OneHotEncoder"
   ]
  },
  {
   "cell_type": "code",
   "execution_count": 29,
   "id": "470db60f-174e-4bf5-892c-d4600f0dbf9e",
   "metadata": {},
   "outputs": [
    {
     "data": {
      "text/html": [
       "<div>\n",
       "<style scoped>\n",
       "    .dataframe tbody tr th:only-of-type {\n",
       "        vertical-align: middle;\n",
       "    }\n",
       "\n",
       "    .dataframe tbody tr th {\n",
       "        vertical-align: top;\n",
       "    }\n",
       "\n",
       "    .dataframe thead th {\n",
       "        text-align: right;\n",
       "    }\n",
       "</style>\n",
       "<table border=\"1\" class=\"dataframe\">\n",
       "  <thead>\n",
       "    <tr style=\"text-align: right;\">\n",
       "      <th></th>\n",
       "      <th>total_bill</th>\n",
       "      <th>tip</th>\n",
       "      <th>sex</th>\n",
       "      <th>smoker</th>\n",
       "      <th>day</th>\n",
       "      <th>time</th>\n",
       "      <th>size</th>\n",
       "    </tr>\n",
       "  </thead>\n",
       "  <tbody>\n",
       "    <tr>\n",
       "      <th>0</th>\n",
       "      <td>16.99</td>\n",
       "      <td>1.01</td>\n",
       "      <td>Female</td>\n",
       "      <td>No</td>\n",
       "      <td>Sun</td>\n",
       "      <td>Dinner</td>\n",
       "      <td>2</td>\n",
       "    </tr>\n",
       "    <tr>\n",
       "      <th>1</th>\n",
       "      <td>10.34</td>\n",
       "      <td>1.66</td>\n",
       "      <td>Male</td>\n",
       "      <td>No</td>\n",
       "      <td>Sun</td>\n",
       "      <td>Dinner</td>\n",
       "      <td>3</td>\n",
       "    </tr>\n",
       "    <tr>\n",
       "      <th>2</th>\n",
       "      <td>21.01</td>\n",
       "      <td>3.50</td>\n",
       "      <td>Male</td>\n",
       "      <td>No</td>\n",
       "      <td>Sun</td>\n",
       "      <td>Dinner</td>\n",
       "      <td>3</td>\n",
       "    </tr>\n",
       "    <tr>\n",
       "      <th>3</th>\n",
       "      <td>23.68</td>\n",
       "      <td>3.31</td>\n",
       "      <td>Male</td>\n",
       "      <td>No</td>\n",
       "      <td>Sun</td>\n",
       "      <td>Dinner</td>\n",
       "      <td>2</td>\n",
       "    </tr>\n",
       "    <tr>\n",
       "      <th>4</th>\n",
       "      <td>24.59</td>\n",
       "      <td>3.61</td>\n",
       "      <td>Female</td>\n",
       "      <td>No</td>\n",
       "      <td>Sun</td>\n",
       "      <td>Dinner</td>\n",
       "      <td>4</td>\n",
       "    </tr>\n",
       "  </tbody>\n",
       "</table>\n",
       "</div>"
      ],
      "text/plain": [
       "   total_bill   tip     sex smoker  day    time  size\n",
       "0       16.99  1.01  Female     No  Sun  Dinner     2\n",
       "1       10.34  1.66    Male     No  Sun  Dinner     3\n",
       "2       21.01  3.50    Male     No  Sun  Dinner     3\n",
       "3       23.68  3.31    Male     No  Sun  Dinner     2\n",
       "4       24.59  3.61  Female     No  Sun  Dinner     4"
      ]
     },
     "execution_count": 29,
     "metadata": {},
     "output_type": "execute_result"
    }
   ],
   "source": [
    "df =pd.read_csv(\"./csv/tips.csv\")\n",
    "df.head()"
   ]
  },
  {
   "cell_type": "code",
   "execution_count": 30,
   "id": "ac102978-5bb8-4b64-b351-224ebc9f6fbe",
   "metadata": {},
   "outputs": [
    {
     "name": "stdout",
     "output_type": "stream",
     "text": [
      "     total_bill   tip  size  sex_Female  sex_Male  smoker_No  smoker_Yes  \\\n",
      "0         16.99  1.01     2        True     False       True       False   \n",
      "1         10.34  1.66     3       False      True       True       False   \n",
      "2         21.01  3.50     3       False      True       True       False   \n",
      "3         23.68  3.31     2       False      True       True       False   \n",
      "4         24.59  3.61     4        True     False       True       False   \n",
      "..          ...   ...   ...         ...       ...        ...         ...   \n",
      "239       29.03  5.92     3       False      True       True       False   \n",
      "240       27.18  2.00     2        True     False      False        True   \n",
      "241       22.67  2.00     2       False      True      False        True   \n",
      "242       17.82  1.75     2       False      True       True       False   \n",
      "243       18.78  3.00     2        True     False       True       False   \n",
      "\n",
      "     day_Fri  day_Sat  day_Sun  day_Thur  time_Dinner  time_Lunch  \n",
      "0      False    False     True     False         True       False  \n",
      "1      False    False     True     False         True       False  \n",
      "2      False    False     True     False         True       False  \n",
      "3      False    False     True     False         True       False  \n",
      "4      False    False     True     False         True       False  \n",
      "..       ...      ...      ...       ...          ...         ...  \n",
      "239    False     True    False     False         True       False  \n",
      "240    False     True    False     False         True       False  \n",
      "241    False     True    False     False         True       False  \n",
      "242    False     True    False     False         True       False  \n",
      "243    False    False    False      True         True       False  \n",
      "\n",
      "[244 rows x 13 columns]\n"
     ]
    }
   ],
   "source": [
    "dummy_df = pd.get_dummies(df)\n",
    "print(dummy_df)"
   ]
  },
  {
   "cell_type": "code",
   "execution_count": 32,
   "id": "d07b79cf-7553-4378-8557-c7174877239f",
   "metadata": {},
   "outputs": [
    {
     "name": "stdout",
     "output_type": "stream",
     "text": [
      "     total_bill   tip  size  sex_Male  smoker_Yes  day_Sat  day_Sun  day_Thur  \\\n",
      "0         16.99  1.01     2     False       False    False     True     False   \n",
      "1         10.34  1.66     3      True       False    False     True     False   \n",
      "2         21.01  3.50     3      True       False    False     True     False   \n",
      "3         23.68  3.31     2      True       False    False     True     False   \n",
      "4         24.59  3.61     4     False       False    False     True     False   \n",
      "..          ...   ...   ...       ...         ...      ...      ...       ...   \n",
      "239       29.03  5.92     3      True       False     True    False     False   \n",
      "240       27.18  2.00     2     False        True     True    False     False   \n",
      "241       22.67  2.00     2      True        True     True    False     False   \n",
      "242       17.82  1.75     2      True       False     True    False     False   \n",
      "243       18.78  3.00     2     False       False    False    False      True   \n",
      "\n",
      "     time_Lunch  \n",
      "0         False  \n",
      "1         False  \n",
      "2         False  \n",
      "3         False  \n",
      "4         False  \n",
      "..          ...  \n",
      "239       False  \n",
      "240       False  \n",
      "241       False  \n",
      "242       False  \n",
      "243       False  \n",
      "\n",
      "[244 rows x 9 columns]\n"
     ]
    }
   ],
   "source": [
    "dummy_df_drop_first = pd.get_dummies(df, drop_first=True)\n",
    "print(dummy_df_drop_first)"
   ]
  },
  {
   "cell_type": "markdown",
   "id": "d9a7991f-513a-4cff-8c5c-ec278ef24ae6",
   "metadata": {},
   "source": [
    "### One-hot encoding Scikit-learn"
   ]
  },
  {
   "cell_type": "code",
   "execution_count": 35,
   "id": "66a85f19-c688-41f3-97b6-3dfc1d443572",
   "metadata": {},
   "outputs": [],
   "source": [
    "one_hot_encoder = OneHotEncoder(sparse_output=False)"
   ]
  },
  {
   "cell_type": "code",
   "execution_count": 36,
   "id": "820fa0df-427b-4ec0-b5d6-e8df49d43ec6",
   "metadata": {},
   "outputs": [],
   "source": [
    "columns_to_encode = ['sex', 'smoker', 'day', 'time']\n",
    "one_hot_enc_arr = one_hot_encoder.fit_transform(df[columns_to_encode])"
   ]
  },
  {
   "cell_type": "code",
   "execution_count": 37,
   "id": "79678d22-84a8-494c-b7d0-81403d07c479",
   "metadata": {},
   "outputs": [
    {
     "name": "stdout",
     "output_type": "stream",
     "text": [
      "     sex_Female  sex_Male  smoker_No  smoker_Yes  day_Fri  day_Sat  day_Sun  \\\n",
      "0           1.0       0.0        1.0         0.0      0.0      0.0      1.0   \n",
      "1           0.0       1.0        1.0         0.0      0.0      0.0      1.0   \n",
      "2           0.0       1.0        1.0         0.0      0.0      0.0      1.0   \n",
      "3           0.0       1.0        1.0         0.0      0.0      0.0      1.0   \n",
      "4           1.0       0.0        1.0         0.0      0.0      0.0      1.0   \n",
      "..          ...       ...        ...         ...      ...      ...      ...   \n",
      "239         0.0       1.0        1.0         0.0      0.0      1.0      0.0   \n",
      "240         1.0       0.0        0.0         1.0      0.0      1.0      0.0   \n",
      "241         0.0       1.0        0.0         1.0      0.0      1.0      0.0   \n",
      "242         0.0       1.0        1.0         0.0      0.0      1.0      0.0   \n",
      "243         1.0       0.0        1.0         0.0      0.0      0.0      0.0   \n",
      "\n",
      "     day_Thur  time_Dinner  time_Lunch  \n",
      "0         0.0          1.0         0.0  \n",
      "1         0.0          1.0         0.0  \n",
      "2         0.0          1.0         0.0  \n",
      "3         0.0          1.0         0.0  \n",
      "4         0.0          1.0         0.0  \n",
      "..        ...          ...         ...  \n",
      "239       0.0          1.0         0.0  \n",
      "240       0.0          1.0         0.0  \n",
      "241       0.0          1.0         0.0  \n",
      "242       0.0          1.0         0.0  \n",
      "243       1.0          1.0         0.0  \n",
      "\n",
      "[244 rows x 10 columns]\n"
     ]
    }
   ],
   "source": [
    "one_hot_encoded_df = pd.DataFrame(one_hot_enc_arr, columns=one_hot_encoder.get_feature_names_out(columns_to_encode))\n",
    "print(one_hot_encoded_df)"
   ]
  },
  {
   "cell_type": "code",
   "execution_count": null,
   "id": "7294024e-5494-4ed3-a2ea-67d3e8ab47b1",
   "metadata": {},
   "outputs": [],
   "source": []
  }
 ],
 "metadata": {
  "kernelspec": {
   "display_name": "Python 3 (ipykernel)",
   "language": "python",
   "name": "python3"
  },
  "language_info": {
   "codemirror_mode": {
    "name": "ipython",
    "version": 3
   },
   "file_extension": ".py",
   "mimetype": "text/x-python",
   "name": "python",
   "nbconvert_exporter": "python",
   "pygments_lexer": "ipython3",
   "version": "3.12.4"
  }
 },
 "nbformat": 4,
 "nbformat_minor": 5
}
